{
 "cells": [
  {
   "cell_type": "markdown",
   "metadata": {},
   "source": [
    "<i>Author: Linwood Creekmore<br>\n",
    "Email: valinvescap@gmail.com</i>"
   ]
  },
  {
   "cell_type": "markdown",
   "metadata": {},
   "source": [
    "# Getting Started \n",
    "\n",
    "Make sure you have installed all the libraries in the import section below.  If you get any errors, look up the documentation for each library for help.  "
   ]
  },
  {
   "cell_type": "code",
   "execution_count": 23,
   "metadata": {
    "ExecuteTime": {
     "end_time": "2017-07-17T11:35:48.111237",
     "start_time": "2017-07-17T11:35:39.783333Z"
    },
    "collapsed": true
   },
   "outputs": [],
   "source": [
    "import geoplot as gplt\n",
    "import gdelt\n",
    "import re\n",
    "import numpy as np\n",
    "import pandas as pd\n",
    "import datetime\n",
    "from tzwhere import tzwhere \n",
    "import pytz\n",
    "\n",
    "tz1 = tzwhere.tzwhere(forceTZ=True)"
   ]
  },
  {
   "cell_type": "markdown",
   "metadata": {},
   "source": [
    "# Setting up `gdeltPyR`\n",
    "\n",
    "It's easy to set up `gdeltPyR`.  This single line gets us ready to query.  See the [github project page](https://github.com/linwoodc3/gdeltPyR/blob/master/README.md) for details on accessing other tables and setting other parameters. Then, we just pass in a date to pull the data.  It's really that simple.  The only concern, is memory.  Pulling multiple days of GDELT can consume lots of memory.  Make a workflow to pull and write the disc if you have issues.  "
   ]
  },
  {
   "cell_type": "code",
   "execution_count": 25,
   "metadata": {
    "ExecuteTime": {
     "end_time": "2017-07-17T11:35:49.413008",
     "start_time": "2017-07-17T11:35:49.367793Z"
    },
    "collapsed": true
   },
   "outputs": [],
   "source": [
    "gd = gdelt.gdelt()\n",
    "\n",
    "%time marawi = gd.Search(['2017 May 23'],normcols=True)"
   ]
  },
  {
   "cell_type": "markdown",
   "metadata": {},
   "source": [
    "# Time format transformations\n",
    "\n",
    "These custom function handle time transformations."
   ]
  },
  {
   "cell_type": "code",
   "execution_count": 26,
   "metadata": {
    "ExecuteTime": {
     "end_time": "2017-07-17T11:35:49.514531",
     "start_time": "2017-07-17T11:35:49.415398Z"
    },
    "collapsed": true
   },
   "outputs": [],
   "source": [
    "\n",
    "\n",
    "\n",
    "def striptimen(x):\n",
    "    \"\"\"Strip time from numpy array or list of dates that are integers\"\"\"\n",
    "    date = str(int(x))\n",
    "    n = np.datetime64(\"{}-{}-{}T{}:{}:{}\".format(date[:4],date[4:6],date[6:8],date[8:10],date[10:12],date[12:]))\n",
    "    return n\n",
    "\n",
    "def timeget(x):\n",
    "    '''convert to datetime object with UTC time tag'''\n",
    "    \n",
    "    try:\n",
    "        now_aware = pytz.utc.localize(x[2].to_pydatetime())\n",
    "    except:\n",
    "        pass\n",
    "    \n",
    "    # get the timezone string representation using lat/lon pair\n",
    "    try:\n",
    "        timezone_str=tz1.tzNameAt(x[0],x[1],forceTZ=True)\n",
    "        \n",
    "            # get the time offset\n",
    "        timezone = pytz.timezone(timezone_str)\n",
    "\n",
    "        # convert UTC to calculated local time\n",
    "        aware = now_aware.astimezone(timezone)\n",
    "        return aware\n",
    "    \n",
    "    except Exception as e:\n",
    "        pass\n",
    "\n",
    "# vectorize our two functions\n",
    "vect = np.vectorize(striptimen)\n",
    "vect2=np.vectorize(timeget)"
   ]
  },
  {
   "cell_type": "markdown",
   "metadata": {},
   "source": [
    "Now we apply the functions to create a datetime object column (`dates`) and a timezone aware column (`datezone`)."
   ]
  },
  {
   "cell_type": "code",
   "execution_count": 27,
   "metadata": {
    "ExecuteTime": {
     "end_time": "2017-07-17T11:35:50.464739",
     "start_time": "2017-07-17T11:35:49.516946Z"
    },
    "collapsed": true
   },
   "outputs": [],
   "source": [
    "dates = vect(marawi.dateadded.values)\n",
    "marawi = marawi.assign(dates=dates)\n",
    "marawi.set_index(dates,inplace=True)"
   ]
  },
  {
   "cell_type": "code",
   "execution_count": 28,
   "metadata": {
    "ExecuteTime": {
     "end_time": "2017-07-17T11:36:18.464915",
     "start_time": "2017-07-17T11:35:50.468552Z"
    },
    "collapsed": true
   },
   "outputs": [],
   "source": [
    "datetz = [timeget(l) for l in marawi[['actiongeolat','actiongeolong','dates']][marawi[['actiongeolat','actiongeolong','dates']].notnull()==True].values.tolist()]\n",
    "marawi=marawi.assign(datezone=datetz)"
   ]
  },
  {
   "cell_type": "markdown",
   "metadata": {},
   "source": [
    "# Filtering to a city and specific CAMEO Code\n",
    "\n",
    "I return data in `pandas dataframes` to leverage the power of pandas data manipulation.  Now we filter our data on the two target fields; actiongeofeatureid and eventrootcode.  To learn more about the columns, see [this page with descriptions for each header](https://github.com/linwoodc3/gdelt2HeaderRows/blob/master/schema_csvs/GDELT_2.0_Events_Column_Labels_Header_Row_Sep2016.csv)."
   ]
  },
  {
   "cell_type": "code",
   "execution_count": 29,
   "metadata": {
    "ExecuteTime": {
     "end_time": "2017-07-17T11:36:18.562630",
     "start_time": "2017-07-17T11:36:18.467279Z"
    },
    "collapsed": true
   },
   "outputs": [],
   "source": [
    "maute2= marawi[(marawi.actiongeofeatureid=='-2438515') \\\n",
    "               & (marawi.eventrootcode=='19')]\n",
    "\n",
    "maute2.sort_values('datezone')[['datezone','sourceurl']].drop_duplicates('sourceurl').head()"
   ]
  },
  {
   "cell_type": "code",
   "execution_count": 30,
   "metadata": {
    "ExecuteTime": {
     "end_time": "2017-07-17T11:36:18.606198",
     "start_time": "2017-07-17T11:36:18.565338Z"
    },
    "collapsed": true
   },
   "outputs": [],
   "source": [
    "# Alternative to strip all known website domains and add to regex\n",
    "\n",
    "# endings = pd.read_html('https://iwantmyname.com/domains/domain-name-registration-list-of-extensions')[0]\n",
    "# endings.columns = ['Domain extension','USD per year','Description']\n",
    "# endings = endings.assign(doms=endings['Domain extension'].apply(lambda x: (\"\\\\\"+ x.split(' ')[0])))\n",
    "# endingslist = endings['doms'].values.tolist()\n",
    "# endingslist.append('\\.IE')\n",
    "# endingsString = \"|\".join(endingslist)"
   ]
  },
  {
   "cell_type": "markdown",
   "metadata": {},
   "source": [
    "#  Stripping out unique news providers\n",
    "\n",
    "This regex extracts baseurls from the `sourceurl` column.  These extractions allow us to analyze the contributions of unique providers in GDELT `events` data.  "
   ]
  },
  {
   "cell_type": "code",
   "execution_count": 32,
   "metadata": {
    "ExecuteTime": {
     "end_time": "2017-07-17T11:36:18.694396",
     "start_time": "2017-07-17T11:36:18.654706Z"
    },
    "collapsed": true
   },
   "outputs": [],
   "source": [
    "# known domain regex\n",
    "# r = re.compile('()({})'.format(endingsString),flags = re.IGNORECASE)\n",
    "\n",
    "# lazy meta-character regex; more elegant\n",
    "s = re.compile('(http://|https://)([A-Za-z0-9_\\.-]+)')"
   ]
  },
  {
   "cell_type": "markdown",
   "metadata": {},
   "source": [
    "##  Counting Who Produced the Most\n",
    "\n",
    "We use pandas to find the provider with the most unique content.  One drawback of GDELT, is repeated URLs.  But, in the pandas ecosystem, removing duplicates is easy.  We extract provider baseurls, remove duplicates, and count the number of articles.  "
   ]
  },
  {
   "cell_type": "code",
   "execution_count": 54,
   "metadata": {
    "ExecuteTime": {
     "end_time": "2017-07-17T12:53:05.990933",
     "start_time": "2017-07-17T12:53:05.911164Z"
    }
   },
   "outputs": [
    {
     "data": {
      "text/html": [
       "<div>\n",
       "<table border=\"1\" class=\"dataframe\">\n",
       "  <thead>\n",
       "    <tr style=\"text-align: right;\">\n",
       "      <th></th>\n",
       "      <th>provider</th>\n",
       "      <th>count</th>\n",
       "    </tr>\n",
       "  </thead>\n",
       "  <tbody>\n",
       "    <tr>\n",
       "      <th>0</th>\n",
       "      <td>http://www.philstar.com</td>\n",
       "      <td>5</td>\n",
       "    </tr>\n",
       "    <tr>\n",
       "      <th>1</th>\n",
       "      <td>http://news.abs-cbn.com</td>\n",
       "      <td>5</td>\n",
       "    </tr>\n",
       "    <tr>\n",
       "      <th>2</th>\n",
       "      <td>http://cnnphilippines.com</td>\n",
       "      <td>3</td>\n",
       "    </tr>\n",
       "    <tr>\n",
       "      <th>3</th>\n",
       "      <td>http://www.interaksyon.com</td>\n",
       "      <td>3</td>\n",
       "    </tr>\n",
       "    <tr>\n",
       "      <th>4</th>\n",
       "      <td>http://www.gmanetwork.com</td>\n",
       "      <td>3</td>\n",
       "    </tr>\n",
       "    <tr>\n",
       "      <th>5</th>\n",
       "      <td>http://newsinfo.inquirer.net</td>\n",
       "      <td>2</td>\n",
       "    </tr>\n",
       "    <tr>\n",
       "      <th>6</th>\n",
       "      <td>http://www.dnaindia.com</td>\n",
       "      <td>2</td>\n",
       "    </tr>\n",
       "    <tr>\n",
       "      <th>7</th>\n",
       "      <td>http://www.dailymail.co.uk</td>\n",
       "      <td>2</td>\n",
       "    </tr>\n",
       "    <tr>\n",
       "      <th>8</th>\n",
       "      <td>http://www.channelnewsasia.com</td>\n",
       "      <td>2</td>\n",
       "    </tr>\n",
       "    <tr>\n",
       "      <th>9</th>\n",
       "      <td>http://www.rappler.com</td>\n",
       "      <td>2</td>\n",
       "    </tr>\n",
       "    <tr>\n",
       "      <th>10</th>\n",
       "      <td>http://www.sunstar.com.ph</td>\n",
       "      <td>2</td>\n",
       "    </tr>\n",
       "    <tr>\n",
       "      <th>11</th>\n",
       "      <td>http://www.upi.com</td>\n",
       "      <td>2</td>\n",
       "    </tr>\n",
       "    <tr>\n",
       "      <th>12</th>\n",
       "      <td>http://news.mb.com.ph</td>\n",
       "      <td>2</td>\n",
       "    </tr>\n",
       "    <tr>\n",
       "      <th>13</th>\n",
       "      <td>http://m.philstar.com</td>\n",
       "      <td>2</td>\n",
       "    </tr>\n",
       "    <tr>\n",
       "      <th>14</th>\n",
       "      <td>http://www.bignewsnetwork.com</td>\n",
       "      <td>1</td>\n",
       "    </tr>\n",
       "    <tr>\n",
       "      <th>15</th>\n",
       "      <td>http://www.express.co.uk</td>\n",
       "      <td>1</td>\n",
       "    </tr>\n",
       "    <tr>\n",
       "      <th>16</th>\n",
       "      <td>http://www.dw.com</td>\n",
       "      <td>1</td>\n",
       "    </tr>\n",
       "    <tr>\n",
       "      <th>17</th>\n",
       "      <td>http://hosted2.ap.org</td>\n",
       "      <td>1</td>\n",
       "    </tr>\n",
       "    <tr>\n",
       "      <th>18</th>\n",
       "      <td>http://ijr.com</td>\n",
       "      <td>1</td>\n",
       "    </tr>\n",
       "    <tr>\n",
       "      <th>19</th>\n",
       "      <td>http://marinduquegov.blogspot.com</td>\n",
       "      <td>1</td>\n",
       "    </tr>\n",
       "    <tr>\n",
       "      <th>20</th>\n",
       "      <td>http://www.breitbart.com</td>\n",
       "      <td>1</td>\n",
       "    </tr>\n",
       "    <tr>\n",
       "      <th>21</th>\n",
       "      <td>http://www.benarnews.org</td>\n",
       "      <td>1</td>\n",
       "    </tr>\n",
       "    <tr>\n",
       "      <th>22</th>\n",
       "      <td>http://newsok.com</td>\n",
       "      <td>1</td>\n",
       "    </tr>\n",
       "    <tr>\n",
       "      <th>23</th>\n",
       "      <td>http://mindanaoexaminer.com</td>\n",
       "      <td>1</td>\n",
       "    </tr>\n",
       "    <tr>\n",
       "      <th>24</th>\n",
       "      <td>http://news.kuwaittimes.net</td>\n",
       "      <td>1</td>\n",
       "    </tr>\n",
       "    <tr>\n",
       "      <th>25</th>\n",
       "      <td>http://www.aljazeera.com</td>\n",
       "      <td>1</td>\n",
       "    </tr>\n",
       "    <tr>\n",
       "      <th>26</th>\n",
       "      <td>http://uk.reuters.com</td>\n",
       "      <td>1</td>\n",
       "    </tr>\n",
       "    <tr>\n",
       "      <th>27</th>\n",
       "      <td>http://timesofoman.com</td>\n",
       "      <td>1</td>\n",
       "    </tr>\n",
       "    <tr>\n",
       "      <th>28</th>\n",
       "      <td>http://philippineslifestyle.com</td>\n",
       "      <td>1</td>\n",
       "    </tr>\n",
       "    <tr>\n",
       "      <th>29</th>\n",
       "      <td>http://www.freemalaysiatoday.com</td>\n",
       "      <td>1</td>\n",
       "    </tr>\n",
       "    <tr>\n",
       "      <th>30</th>\n",
       "      <td>https://www.washingtonpost.com</td>\n",
       "      <td>1</td>\n",
       "    </tr>\n",
       "    <tr>\n",
       "      <th>31</th>\n",
       "      <td>http://www.hindustantimes.com</td>\n",
       "      <td>1</td>\n",
       "    </tr>\n",
       "    <tr>\n",
       "      <th>32</th>\n",
       "      <td>http://www.huffingtonpost.co.uk</td>\n",
       "      <td>1</td>\n",
       "    </tr>\n",
       "    <tr>\n",
       "      <th>33</th>\n",
       "      <td>https://www.sott.net</td>\n",
       "      <td>1</td>\n",
       "    </tr>\n",
       "    <tr>\n",
       "      <th>34</th>\n",
       "      <td>https://www.rt.com</td>\n",
       "      <td>1</td>\n",
       "    </tr>\n",
       "    <tr>\n",
       "      <th>35</th>\n",
       "      <td>https://www.bloomberg.com</td>\n",
       "      <td>1</td>\n",
       "    </tr>\n",
       "    <tr>\n",
       "      <th>36</th>\n",
       "      <td>https://www.almasdarnews.com</td>\n",
       "      <td>1</td>\n",
       "    </tr>\n",
       "    <tr>\n",
       "      <th>37</th>\n",
       "      <td>https://southfront.org</td>\n",
       "      <td>1</td>\n",
       "    </tr>\n",
       "    <tr>\n",
       "      <th>38</th>\n",
       "      <td>https://newsinfo.inquirer.net</td>\n",
       "      <td>1</td>\n",
       "    </tr>\n",
       "    <tr>\n",
       "      <th>39</th>\n",
       "      <td>https://foreignpolicy.com</td>\n",
       "      <td>1</td>\n",
       "    </tr>\n",
       "    <tr>\n",
       "      <th>40</th>\n",
       "      <td>https://au.news.yahoo.com</td>\n",
       "      <td>1</td>\n",
       "    </tr>\n",
       "    <tr>\n",
       "      <th>41</th>\n",
       "      <td>http://www.tribune.net.ph</td>\n",
       "      <td>1</td>\n",
       "    </tr>\n",
       "    <tr>\n",
       "      <th>42</th>\n",
       "      <td>http://www.thestar.com.my</td>\n",
       "      <td>1</td>\n",
       "    </tr>\n",
       "    <tr>\n",
       "      <th>43</th>\n",
       "      <td>http://www.thejournal.ie</td>\n",
       "      <td>1</td>\n",
       "    </tr>\n",
       "    <tr>\n",
       "      <th>44</th>\n",
       "      <td>http://www.telesurtv.net</td>\n",
       "      <td>1</td>\n",
       "    </tr>\n",
       "    <tr>\n",
       "      <th>45</th>\n",
       "      <td>http://www.sfgate.com</td>\n",
       "      <td>1</td>\n",
       "    </tr>\n",
       "    <tr>\n",
       "      <th>46</th>\n",
       "      <td>http://www.reuters.com</td>\n",
       "      <td>1</td>\n",
       "    </tr>\n",
       "    <tr>\n",
       "      <th>47</th>\n",
       "      <td>http://www.nydailynews.com</td>\n",
       "      <td>1</td>\n",
       "    </tr>\n",
       "    <tr>\n",
       "      <th>48</th>\n",
       "      <td>http://www.news.com.au</td>\n",
       "      <td>1</td>\n",
       "    </tr>\n",
       "    <tr>\n",
       "      <th>49</th>\n",
       "      <td>http://www.mindanews.com</td>\n",
       "      <td>1</td>\n",
       "    </tr>\n",
       "    <tr>\n",
       "      <th>50</th>\n",
       "      <td>http://www.manilatimes.net</td>\n",
       "      <td>1</td>\n",
       "    </tr>\n",
       "    <tr>\n",
       "      <th>51</th>\n",
       "      <td>http://www.longwarjournal.org</td>\n",
       "      <td>1</td>\n",
       "    </tr>\n",
       "    <tr>\n",
       "      <th>52</th>\n",
       "      <td>http://www.israelnationalnews.com</td>\n",
       "      <td>1</td>\n",
       "    </tr>\n",
       "    <tr>\n",
       "      <th>53</th>\n",
       "      <td>https://www.voanews.com</td>\n",
       "      <td>1</td>\n",
       "    </tr>\n",
       "    <tr>\n",
       "      <th>54</th>\n",
       "      <td>http://www.india.com</td>\n",
       "      <td>1</td>\n",
       "    </tr>\n",
       "  </tbody>\n",
       "</table>\n",
       "</div>"
      ],
      "text/plain": [
       "                             provider  count\n",
       "0             http://www.philstar.com      5\n",
       "1             http://news.abs-cbn.com      5\n",
       "2           http://cnnphilippines.com      3\n",
       "3          http://www.interaksyon.com      3\n",
       "4           http://www.gmanetwork.com      3\n",
       "5        http://newsinfo.inquirer.net      2\n",
       "6             http://www.dnaindia.com      2\n",
       "7          http://www.dailymail.co.uk      2\n",
       "8      http://www.channelnewsasia.com      2\n",
       "9              http://www.rappler.com      2\n",
       "10          http://www.sunstar.com.ph      2\n",
       "11                 http://www.upi.com      2\n",
       "12              http://news.mb.com.ph      2\n",
       "13              http://m.philstar.com      2\n",
       "14      http://www.bignewsnetwork.com      1\n",
       "15           http://www.express.co.uk      1\n",
       "16                  http://www.dw.com      1\n",
       "17              http://hosted2.ap.org      1\n",
       "18                     http://ijr.com      1\n",
       "19  http://marinduquegov.blogspot.com      1\n",
       "20           http://www.breitbart.com      1\n",
       "21           http://www.benarnews.org      1\n",
       "22                  http://newsok.com      1\n",
       "23        http://mindanaoexaminer.com      1\n",
       "24        http://news.kuwaittimes.net      1\n",
       "25           http://www.aljazeera.com      1\n",
       "26              http://uk.reuters.com      1\n",
       "27             http://timesofoman.com      1\n",
       "28    http://philippineslifestyle.com      1\n",
       "29   http://www.freemalaysiatoday.com      1\n",
       "30     https://www.washingtonpost.com      1\n",
       "31      http://www.hindustantimes.com      1\n",
       "32    http://www.huffingtonpost.co.uk      1\n",
       "33               https://www.sott.net      1\n",
       "34                 https://www.rt.com      1\n",
       "35          https://www.bloomberg.com      1\n",
       "36       https://www.almasdarnews.com      1\n",
       "37             https://southfront.org      1\n",
       "38      https://newsinfo.inquirer.net      1\n",
       "39          https://foreignpolicy.com      1\n",
       "40          https://au.news.yahoo.com      1\n",
       "41          http://www.tribune.net.ph      1\n",
       "42          http://www.thestar.com.my      1\n",
       "43           http://www.thejournal.ie      1\n",
       "44           http://www.telesurtv.net      1\n",
       "45              http://www.sfgate.com      1\n",
       "46             http://www.reuters.com      1\n",
       "47         http://www.nydailynews.com      1\n",
       "48             http://www.news.com.au      1\n",
       "49           http://www.mindanews.com      1\n",
       "50         http://www.manilatimes.net      1\n",
       "51      http://www.longwarjournal.org      1\n",
       "52  http://www.israelnationalnews.com      1\n",
       "53            https://www.voanews.com      1\n",
       "54               http://www.india.com      1"
      ]
     },
     "execution_count": 54,
     "metadata": {},
     "output_type": "execute_result"
    }
   ],
   "source": [
    "frame = maute2\n",
    "\n",
    "frame = frame.drop_duplicates(['sourceurl'])\n",
    "\n",
    "frame=frame.assign(provider=frame.sourceurl.\\\n",
    "      apply(lambda x: s.search(x).group() if s.search(x) else np.nan))\n",
    "\n",
    "groups = frame.groupby(['provider']).size().sort_values(ascending=False).reset_index()\n",
    "groups.columns = ['provider','count']\n",
    "groups"
   ]
  },
  {
   "cell_type": "markdown",
   "metadata": {},
   "source": [
    "# Finding Who Produced the \"Fastest\"\n",
    "\n",
    "This block of code finds the news provider who produced reports faster \"on average\".  We convert the date of each article to epoch time, average across providers, and compare.  Again, `pandas` makes this easy."
   ]
  },
  {
   "cell_type": "code",
   "execution_count": 35,
   "metadata": {
    "ExecuteTime": {
     "end_time": "2017-07-17T11:36:18.848151",
     "start_time": "2017-07-17T11:36:18.802981Z"
    },
    "collapsed": true
   },
   "outputs": [],
   "source": [
    "frame2 = frame.copy()[frame.provider.notnull()==True].drop_duplicates('sourceurl')[['provider','sourceurl','dates']]"
   ]
  },
  {
   "cell_type": "code",
   "execution_count": 36,
   "metadata": {
    "ExecuteTime": {
     "end_time": "2017-07-17T11:36:18.893411",
     "start_time": "2017-07-17T11:36:18.850670Z"
    },
    "collapsed": true
   },
   "outputs": [],
   "source": [
    "frame2 = frame2.assign(dates=frame2['dates'].apply(lambda x: (x.to_pydatetime().timestamp())))"
   ]
  },
  {
   "cell_type": "code",
   "execution_count": 37,
   "metadata": {
    "ExecuteTime": {
     "end_time": "2017-07-17T11:36:18.955683",
     "start_time": "2017-07-17T11:36:18.895582Z"
    },
    "collapsed": true
   },
   "outputs": [],
   "source": [
    "grp = frame2.groupby('provider').filter(lambda x: len(x)>=3).groupby('provider')"
   ]
  },
  {
   "cell_type": "code",
   "execution_count": 38,
   "metadata": {
    "ExecuteTime": {
     "end_time": "2017-07-17T11:36:19.020003",
     "start_time": "2017-07-17T11:36:18.959159Z"
    },
    "collapsed": true
   },
   "outputs": [],
   "source": [
    "final = grp.agg([np.mean,np.max,np.min]).sortlevel('mean',ascending=False)\n",
    "newfinal = pd.DataFrame(final['dates']['mean'].apply(lambda x:datetime.datetime.fromtimestamp(int(x))).sort_values(ascending=True)).reset_index().set_index('mean',drop=False)\n",
    "newfinal = newfinal.tz_localize('UTC')\n",
    "newfinal = newfinal.tz_convert('Asia/Manila')\n",
    "newfinal.columns = ['provider','UTC Time']\n",
    "newfinal.index.name='Philippines Time'\n",
    "# print(newfinal.to_html())"
   ]
  },
  {
   "cell_type": "markdown",
   "metadata": {},
   "source": [
    "# A quick visual\n",
    "\n",
    "I saw a video of the GDELT creator making a normalized time series with GDELT data.  This code below does the same.  First, we normalize the count of events for our target CAMEO Code against the total amount of events (per hour).  `pandas` resampling and time series functionality makes this easy.  Then, we use normal `matplotlib` syntax to create the plot.  The `economist` style is my custom style but I can share if requested."
   ]
  },
  {
   "cell_type": "code",
   "execution_count": 18,
   "metadata": {
    "ExecuteTime": {
     "end_time": "2017-07-17T04:07:15.444755",
     "start_time": "2017-07-17T04:07:14.531401Z"
    },
    "scrolled": true
   },
   "outputs": [
    {
     "name": "stdout",
     "output_type": "stream",
     "text": [
      "The autoreload extension is already loaded. To reload it, use:\n",
      "  %reload_ext autoreload\n"
     ]
    },
    {
     "data": {
      "image/png": "[encoded data removed]",
      "text/plain": [
       "<matplotlib.figure.Figure at 0x13f7b1860>"
      ]
     },
     "metadata": {},
     "output_type": "display_data"
    }
   ],
   "source": [
    "%matplotlib inline\n",
    "%load_ext autoreload\n",
    "%autoreload 2\n",
    "import matplotlib.pyplot as plt\n",
    "import matplotlib as mpl\n",
    "\n",
    "mpl.style.use('fivethirtyeight)\n",
    "# mpl.style.use('economist')\n",
    "timeseries= pd.concat([marawi.resample('H')['sourceurl'].count(),maute2.resample('H')['sourceurl'].count()]\n",
    "         ,axis=1)\n",
    "timeseries.fillna(0,inplace=True)\n",
    "timeseries.columns = ['Total Events','Marawi Violent Events Only']\n",
    "timeseries = timeseries\\\n",
    ".assign(Normalized=(timeseries['Marawi Violent Events Only']/timeseries['Total Events'])*100)\n",
    "f,ax = plt.subplots(figsize=(13,7))\n",
    "ax = timeseries.Normalized\\\n",
    ".ewm(adjust=True,ignore_na=True,min_periods=5,span=12).mean()\\\n",
    ".plot(color=\"#C10534\",label='Exponentially Weighted Count', linewidth=4.8)\n",
    "ax.set_title('Hourly Count of Violent Events in Marawi',fontsize=28)\n",
    "for label in ax.get_xticklabels():\n",
    "      label.set_fontsize(16)\n",
    "ax.set_xlabel('Hour of the Day', fontsize=20)\n",
    "ax.set_ylabel('Percentage of Hourly Total',fontsize='15')\n",
    "ax.legend()\n",
    "plt.tight_layout()\n",
    "plt.savefig('../assets/img/countGraphic.png')\n",
    "# pd.date_range(start='2017 23 May 00:00:00', end='2017 23 May 23:59:59',freq='1H')"
   ]
  },
  {
   "cell_type": "markdown",
   "metadata": {},
   "source": [
    "# Getting the Content\n",
    "\n",
    "This code gets the content (or tries to) at the end of each GDELT sourceurl."
   ]
  },
  {
   "cell_type": "code",
   "execution_count": 1,
   "metadata": {
    "ExecuteTime": {
     "end_time": "2017-07-17T13:08:48.513185",
     "start_time": "2017-07-17T13:08:47.941535Z"
    },
    "collapsed": true
   },
   "outputs": [],
   "source": [
    "# Author: Linwood Creekmore\n",
    "# Email: valinvescap@gmail.com\n",
    "# Description:  Python script to pull content from a website (works on news stories).\n",
    "\n",
    "###################################\n",
    "# Standard Library imports\n",
    "###################################\n",
    "\n",
    "import re\n",
    "from io import BytesIO\n",
    "\n",
    "###################################\n",
    "# Third party imports\n",
    "###################################\n",
    "\n",
    "import requests\n",
    "import numpy as np\n",
    "from bs4 import BeautifulSoup\n",
    "\n",
    "\n",
    "# placehoder to store completed urls; like caching\n",
    "done ={}\n",
    "def textgetter(url):\n",
    "    \"\"\"Scrapes web news and returns the content\n",
    "    \n",
    "    Parameters\n",
    "    ----------\n",
    "    \n",
    "    url : str\n",
    "        Address to news report\n",
    "        \n",
    "    newstext: str\n",
    "        Returns all text in the \"p\" tag.  This usually is the content of the news story.\n",
    "        \n",
    "    Returns\n",
    "    ----------\n",
    "    \n",
    "    dict: key/value\n",
    "        Returns dictionary with key = url and value = content/message\n",
    "    \"\"\"\n",
    "    global done\n",
    "    \n",
    "    # regex for url check\n",
    "    s = re.compile('(http://|https://)([A-Za-z0-9_\\.-]+)')\n",
    "    \n",
    "    # check that its an url\n",
    "    if s.search(url):\n",
    "        if url in done.keys():\n",
    "            return done[url]\n",
    "            pass\n",
    "        else:\n",
    "            \n",
    "            # Make the call to the new story\n",
    "            r  = requests.get(url)\n",
    "            # check for a good response; return message otherwise\n",
    "            if r.status_code != 200:\n",
    "                done[url]=\"Unable to reach website.\"\n",
    "                return {url:\"Unable to reach website.\"}\n",
    "            # store bytes of message in variable\n",
    "            data = r.content\n",
    "            # parse HTML \n",
    "            soup = BeautifulSoup(data,'html.parser')\n",
    "            # strip paragraphs from HTML and join into a string\n",
    "            newstext = \" \".join([l.text for l in soup.find_all('p')])\n",
    "            # add to done dictionary to prevent duplication\n",
    "            done[url]=newstext\n",
    "            # delete the response; save memory\n",
    "            del r\n",
    "            # check if return is longer than average sentence\n",
    "            if len(newstext)>200:\n",
    "                return {url:newstext}\n",
    "            else:\n",
    "                # check for another place where text is stored\n",
    "                newstext = \" \".join([l.text for l in soup.find_all('div',class_='field-item even')])\n",
    "                done[url]=newstext\n",
    "                # check for length; must be longer than a sentence\n",
    "                if len(newstext)>200:\n",
    "                    return {url:newstext}\n",
    "                else:\n",
    "                    # if all fails, return message\n",
    "                    return {url: \"No text returned\"}\n",
    "    else:\n",
    "        # if we don't pass very first test; not a url\n",
    "        return {url:\"This is not a proper url.\"}"
   ]
  },
  {
   "cell_type": "markdown",
   "metadata": {},
   "source": [
    "# Testing the Function\n",
    "\n",
    "Here is a test.  The `done` dictionary is important; it keeps you from repeating calls to urls you've already processed.  It's like \"caching\".  "
   ]
  },
  {
   "cell_type": "code",
   "execution_count": 52,
   "metadata": {
    "ExecuteTime": {
     "end_time": "2017-07-17T12:47:12.249766",
     "start_time": "2017-07-17T12:47:01.969779Z"
    }
   },
   "outputs": [
    {
     "data": {
      "text/plain": [
       "{'http://www.philstar.com:8080/nation/2017/05/23/1702840/troops-maute-group-clash-marawi-city': 'LANAO DEL SUR, Philippines - Gunshots reverberated through villages in Barangay Basak Malulut in Marawi City as Maute gunmen and soldiers clashed there\\xa0Tuesday, sending Maranaws running for their lives. Senior Superintendent Oscar Nantes, director of the Lanao del Sur provincial police, said the scene of the encounter is not too distant from their headquarters and the campus of the Mindanao State University. “We can hear automatic gunshots from where we are,”\\xa0Nantes told The STAR at exactly\\xa03:20 p.m.\\xa0Tuesday. Local officials told The STAR loud explosions rocked the barangay as members of the Maute terror group and soldiers traded shots. The Maute group is also known as the Dawlah Islamiya Philippines, which espouses hatred to non-Muslims. It also boasts of loyalty to the Islamic State of Iraq and Syria and uses the black ISIS flag as its revolutionary banner. Nantes said personnel of Army units under the 103rd\\xa0Brigade based in Marawi City were to search for members of the Maute group in Barangay Basak Malulut when the encounter erupted. The group, founded by radical siblings Abdullah and Omar Maute, lost more than 50 members in a spate of encounters with soldiers in the past five months. “We are still investigating on what caused the encounter this afternoon,” Nantes said. Army intelligence sources said members of the Maute group had infiltrated a gathering of hundreds of Tablighs in the barangay, prompting the deployment there of soldiers backed by armoured vehicles. The Tablighs are missionaries engage in da’awah (preaching) activities that many moderate Islamic theologians do not agree with. Among the staunch critics of the Tablighs was the late Imam Salamat Hashim, founder of the Moro Islamic Liberation Front, who had studied Islamic theology at the Al-Azzhar University in Cairo, Egypt. Zia Alonto Adiong, a member of the 24-seat Regional Assembly in the Autonomous Region in Muslim Mindanao, said he received reports purporting that the raging gunfights in Barangay Basak Malulut involved local ISIS-styled extremists and soldiers. Adiong, who resides in Marawi City, has urged his constituents to stay in their homes to ensure their safety through text messages to community elders and via an appeal he posted on his Facebook timeline. View the discussion thread.  Unit 909-910 Infinity Tower 26th St. BGC, Taguig City Tel. No. (632) 847-0048'}"
      ]
     },
     "execution_count": 52,
     "metadata": {},
     "output_type": "execute_result"
    }
   ],
   "source": [
    "# A test\n",
    "\n",
    "urls = frame2['sourceurl'].unique()\n",
    "textgetter(urls[0])"
   ]
  },
  {
   "cell_type": "markdown",
   "metadata": {
    "ExecuteTime": {
     "end_time": "2017-07-16T19:16:26.008774",
     "start_time": "2017-07-16T19:16:26.003795Z"
    },
    "collapsed": true,
    "scrolled": true
   },
   "source": [
    "# Multiprocessing\n",
    "\n",
    "This code implements a multiprocessed workflow over the data.  It's easy to do and works faster than an apply method over the dataframe.  "
   ]
  },
  {
   "cell_type": "code",
   "execution_count": 191,
   "metadata": {
    "ExecuteTime": {
     "end_time": "2017-07-16T19:25:10.518879",
     "start_time": "2017-07-16T19:24:30.086028Z"
    }
   },
   "outputs": [
    {
     "name": "stdout",
     "output_type": "stream",
     "text": [
      "CPU times: user 52.8 ms, sys: 42.1 ms, total: 94.9 ms\n",
      "Wall time: 40.4 s\n"
     ]
    }
   ],
   "source": [
    "from concurrent.futures import ProcessPoolExecutor\n",
    "\n",
    "e = ProcessPoolExecutor()\n",
    "%time results = list(e.map(textgetter,urls))\n",
    "# %time results2 = np.array(list(e.map(textgetter,d)))\n",
    "# done = {}\n",
    "# %time results3 = marawi.sourceurl.drop_duplicates()[1240:1245].apply(textgetter).values\n",
    "# %time results3 = marawi.sourceurl.drop_duplicates()[1240:1245].apply(textgetter).values"
   ]
  },
  {
   "cell_type": "markdown",
   "metadata": {},
   "source": [
    "This joins the multiprocessed data:"
   ]
  },
  {
   "cell_type": "code",
   "execution_count": 187,
   "metadata": {
    "ExecuteTime": {
     "end_time": "2017-07-16T19:22:54.658088",
     "start_time": "2017-07-16T19:22:54.640348Z"
    },
    "collapsed": true
   },
   "outputs": [],
   "source": [
    "sers = []\n",
    "\n",
    "for l in results:\n",
    "    ul = list(l.keys())[0]\n",
    "    content = l[ul]\n",
    "    sers.append(pd.Series({'url':ul,'content':content}))\n",
    "connie = pd.concat(sers,axis=1).T"
   ]
  },
  {
   "cell_type": "markdown",
   "metadata": {},
   "source": [
    "This merges the data back into the dataframe.  All of this data processing is enabled by `pandas`."
   ]
  },
  {
   "cell_type": "code",
   "execution_count": 220,
   "metadata": {
    "ExecuteTime": {
     "end_time": "2017-07-16T22:02:30.163327",
     "start_time": "2017-07-16T22:02:30.107568Z"
    },
    "collapsed": true
   },
   "outputs": [],
   "source": [
    "maute2 = maute2.merge(connie,left_on='sourceurl',right_on='url')"
   ]
  },
  {
   "cell_type": "markdown",
   "metadata": {},
   "source": [
    "# Look at all the content\n",
    "\n",
    "To build the narrative, now all you need to do is read.  This code extracts unique urls, orders chronologically based on time, and then prints the content for each url.  You can \"Control F\" or read through to build your timeline. "
   ]
  },
  {
   "cell_type": "code",
   "execution_count": null,
   "metadata": {
    "ExecuteTime": {
     "end_time": "2017-07-16T22:15:41.203896",
     "start_time": "2017-07-16T22:15:41.156665Z"
    }
   },
   "outputs": [],
   "source": [
    "for l in maute2.drop_duplicates('sourceurl').sort_values('dates',ascending=True).content.values:\n",
    "    print (l)"
   ]
  },
  {
   "cell_type": "markdown",
   "metadata": {},
   "source": [
    "# Textgetter exceptions\n",
    "\n",
    "If you find websites that don't return content, this section below can help you add to the textgetter Gist.  Just place the url in the `url` variable below, and print out the contents of `soup`.  Look for the tag with the content, and then add it to the `join` statement below.  Then, [drop a note on the Github gist](https://gist.github.com/linwoodc3/e12a7fbebfa755e897697165875f8fdb)."
   ]
  },
  {
   "cell_type": "code",
   "execution_count": 166,
   "metadata": {
    "ExecuteTime": {
     "end_time": "2017-07-16T19:10:13.418163",
     "start_time": "2017-07-16T19:10:11.035773Z"
    },
    "collapsed": true
   },
   "outputs": [],
   "source": [
    "ur = 'http://www.philstar.com/nation/2017/05/23/1702882/marawi-residents-told-stay-home-firefights-continue'\n",
    "page = requests.get(ur)\n",
    "soup = BeautifulSoup(page.content,'html.parser')"
   ]
  },
  {
   "cell_type": "code",
   "execution_count": null,
   "metadata": {
    "collapsed": true
   },
   "outputs": [],
   "source": [
    "# prints content\n",
    "\n",
    "soup"
   ]
  },
  {
   "cell_type": "code",
   "execution_count": 168,
   "metadata": {
    "ExecuteTime": {
     "end_time": "2017-07-16T19:11:33.959959",
     "start_time": "2017-07-16T19:11:33.931075Z"
    }
   },
   "outputs": [
    {
     "data": {
      "text/plain": [
       "' Marawi is the gateway to Lanao del Sur, a component province of the Autonomous Region in Muslim Mindanao. Philstar.com/John Unson, file \\n\\tLANAO DEL SUR, Philippines \\xa0— \\xa0Officials on Tuesday urged Marawi City residents to stay home as firefights continued on city streets between Maute terrorists and soldiers.\\n\\n\\t\\xa0\\n\\n\\tLanao del Sur Vice Gov. Mamintal Adiong, Jr., a senior member of the provincial peace and order council, also called on Marawi City residents to be extra vigilant and prevent strangers from intruding into their property.\\n\\n\\t\\xa0\\n\\n\\t“I’m appealing to residents of Marawi City to stay home, drop on the ground if they hear gunshots. They have to lock their doors and gates too,” Adiong told The STAR via mobile phone on Tuesday afternoon.\\n\\n\\t\\xa0\\n\\n\\tShooting between Islamic militants and personnel of the Army’s 103rd Infantry Brigade in Marawi City started at about 3:00 p.m. Tuesday, sending residents running for safety.\\n\\n\\t\\xa0\\n\\n\\tSenior officials of the Police Regional Office-Autonomous Region in Muslim Mindanao told The STAR the hostilities first erupted in Barangay Basak Malulut in Marawi City when Maute gunmen attacked soldiers dispatched to verify the reported presence there of men brandishing assault rifles.\\n\\n\\t\\xa0\\n\\n\\tA resident told Philstar.com by text message that sporadic gunfire could be heard in the city.\\xa0\\n\\n\\t\\xa0\\n\\n\\t\"There [were] no indications that an attack like this will happen. There are no checkpoints in the city,\" the resident said. \"Everything is in silence. No news about the city government. Everything is vague.\"\\xa0\\n\\nMilitants in areas of Marawi\\n\\n\\tOther groups of terrorists, many of them clad in attires identical with what members of the Islamic State of Iraq and Syria in the Middle East wear, immediately scattered in other spots in Marawi City as the encounter in Barangay Basak Malulut ensued.\\n\\n\\t\\xa0\\n\\n\\tPatients and personnel of the government-owned Amai Pakpak Hospital in Marawi City said a group also showed force in the gate of the facility.\\n\\n\\t\\xa0\\n\\n\\tAdiong said they have mobilized their emergency response teams to help civilians trapped in the crossfire.\\n\\n\\t\\xa0\\n\\n\\t“Our rescue and emergency teams will work round-the-clock to serve the affected communities,” he said.\\n\\n\\t\\xa0\\n\\n\\tARMM’s regional vice governor, Haroun Al-Rashid Lucman, said employees of the region‘s social welfare department in Lanao del Sur and in Marawi City have been directed to monitor the plight of residents affected by the fighting.\\n\\n\\t\\xa0\\n\\n\\tLucman, concurrent regional social welfare secretary of ARMM, said he is now coordinating with the police and military their plan to deploy social workers in areas affected by the hostilities.\\n\\n\\t\\xa0\\n\\n\\t“Meantime, my advice to Marawi City residents is to stay in their homes and be watchful of the goings-on in the surroundings,” said Lucman.\\n'"
      ]
     },
     "execution_count": 168,
     "metadata": {},
     "output_type": "execute_result"
    }
   ],
   "source": [
    "# How to merge content into a single string\n",
    "\" \".join([l.text for l in soup.find_all('div',class_='field-item even')])                "
   ]
  }
 ],
 "metadata": {
  "anaconda-cloud": {},
  "kernelspec": {
   "display_name": "Python [conda env:geo]",
   "language": "python",
   "name": "conda-env-geo-py"
  },
  "language_info": {
   "codemirror_mode": {
    "name": "ipython",
    "version": 3
   },
   "file_extension": ".py",
   "mimetype": "text/x-python",
   "name": "python",
   "nbconvert_exporter": "python",
   "pygments_lexer": "ipython3",
   "version": "3.5.3"
  }
 },
 "nbformat": 4,
 "nbformat_minor": 1
}
