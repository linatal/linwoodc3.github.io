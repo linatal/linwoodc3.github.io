{
 "cells": [
  {
   "cell_type": "markdown",
   "metadata": {},
   "source": [
    "---\n",
    "layout: post\n",
    "title: \"Adding Spatial Context Using Local or Web-based Shapefiles\" \n",
    "comments: true\n",
    "redirect_from:\n",
    "  - /2017/04/29/The-Imporance-of-Where-Adding-Spatial-Context-Using-Local-or-Web-based-Shapefiles.html\n",
    "author:\n",
    "  twitter: linwoodc3\n",
    "  dribbble:\n",
    "  email: valinvescap@gmail.com\n",
    "  facebook: \n",
    "  flickr:\n",
    "  github: linwoodc3\n",
    "  instagram:\n",
    "  linkedin: https://www.linkedin.com/in/linwood-creekmore-iii-a2174538\n",
    "  pinterest:\n",
    "  rss: datajourney\n",
    "  twitter: linwoodc3\n",
    "  stackoverflow: users/4205207/linwoodc3\n",
    "  youtube: # channel/<your_long_string> or user/<user-name>\n",
    "  googleplus: u/0/+LinwoodCreekmore \n",
    "summary: \"This post introduces a utility function that can automatically read web-based or local shapefiles in zip format into the Python ecosystem.  It takes one line of code!\n",
    "excerpt: \"In the world of data science, we embrace the concept of spatial awareness and knowing where the data are (or datum is). In the same way that geospatial grounding (i.e. georeferenced data) brings clarity to a lost traveler, spatial context can bring clarity to a data set.  Moreover, this “where” does not always have to apply to a location on the earth’s surface . Spatial context (i.e. analytic geometry), or understanding data in the context of geometric space, is just as enlightening.\"\n",
    "---\n",
    "\n",
    "test"
   ]
  },
  {
   "cell_type": "code",
   "execution_count": 23,
   "metadata": {
    "ExecuteTime": {
     "end_time": "2017-07-17T11:35:48.111237",
     "start_time": "2017-07-17T11:35:39.783333Z"
    },
    "collapsed": true
   },
   "outputs": [],
   "source": [
    "import geoplot as gplt\n",
    "import gdelt\n",
    "import re\n",
    "import numpy as np\n",
    "import pandas as pd\n",
    "import datetime\n",
    "from tzwhere import tzwhere \n",
    "import pytz\n",
    "\n",
    "tz1 = tzwhere.tzwhere(forceTZ=True)"
   ]
  },
  {
   "cell_type": "code",
   "execution_count": 24,
   "metadata": {
    "ExecuteTime": {
     "end_time": "2017-07-17T11:35:49.365530",
     "start_time": "2017-07-17T11:35:48.113822Z"
    },
    "collapsed": true
   },
   "outputs": [],
   "source": [
    "import pickle\n",
    "\n",
    "marawi = pickle.load(open('/Users/linwood/Documents/marawievents.pkl','rb'))\n"
   ]
  },
  {
   "cell_type": "code",
   "execution_count": 25,
   "metadata": {
    "ExecuteTime": {
     "end_time": "2017-07-17T11:35:49.413008",
     "start_time": "2017-07-17T11:35:49.367793Z"
    }
   },
   "outputs": [],
   "source": [
    "gd = gdelt.gdelt()\n",
    "\n",
    "# %time marawi = gd.Search(['2017 May 23'],normcols=True)"
   ]
  },
  {
   "cell_type": "code",
   "execution_count": 26,
   "metadata": {
    "ExecuteTime": {
     "end_time": "2017-07-17T11:35:49.514531",
     "start_time": "2017-07-17T11:35:49.415398Z"
    },
    "collapsed": true
   },
   "outputs": [],
   "source": [
    "\n",
    "\n",
    "\n",
    "def striptimen(x):\n",
    "    \"\"\"Strip time from numpy array or list of dates that are integers\"\"\"\n",
    "    date = str(int(x))\n",
    "    n = np.datetime64(\"{}-{}-{}T{}:{}:{}\".format(date[:4],date[4:6],date[6:8],date[8:10],date[10:12],date[12:]))\n",
    "    return n\n",
    "\n",
    "def timeget(x):\n",
    "    '''convert to datetime object with UTC time tag'''\n",
    "    \n",
    "    try:\n",
    "        now_aware = pytz.utc.localize(x[2].to_pydatetime())\n",
    "    except:\n",
    "        pass\n",
    "    \n",
    "    # get the timezone string representation using lat/lon pair\n",
    "    try:\n",
    "        timezone_str=tz1.tzNameAt(x[0],x[1],forceTZ=True)\n",
    "        \n",
    "            # get the time offset\n",
    "        timezone = pytz.timezone(timezone_str)\n",
    "\n",
    "        # convert UTC to calculated local time\n",
    "        aware = now_aware.astimezone(timezone)\n",
    "        return aware\n",
    "    \n",
    "    except Exception as e:\n",
    "        pass\n",
    "\n",
    "# vectorize our two functions\n",
    "vect = np.vectorize(striptimen)\n",
    "vect2=np.vectorize(timeget)"
   ]
  },
  {
   "cell_type": "code",
   "execution_count": 27,
   "metadata": {
    "ExecuteTime": {
     "end_time": "2017-07-17T11:35:50.464739",
     "start_time": "2017-07-17T11:35:49.516946Z"
    },
    "collapsed": true
   },
   "outputs": [],
   "source": [
    "dates = vect(marawi.dateadded.values)\n",
    "marawi = marawi.assign(dates=dates)\n",
    "marawi.set_index(dates,inplace=True)"
   ]
  },
  {
   "cell_type": "code",
   "execution_count": 28,
   "metadata": {
    "ExecuteTime": {
     "end_time": "2017-07-17T11:36:18.464915",
     "start_time": "2017-07-17T11:35:50.468552Z"
    },
    "collapsed": true
   },
   "outputs": [],
   "source": [
    "datetz = [timeget(l) for l in marawi[['actiongeolat','actiongeolong','dates']][marawi[['actiongeolat','actiongeolong','dates']].notnull()==True].values.tolist()]\n",
    "marawi=marawi.assign(datezone=datetz)"
   ]
  },
  {
   "cell_type": "code",
   "execution_count": 29,
   "metadata": {
    "ExecuteTime": {
     "end_time": "2017-07-17T11:36:18.562630",
     "start_time": "2017-07-17T11:36:18.467279Z"
    },
    "collapsed": true
   },
   "outputs": [],
   "source": [
    "maute2= marawi[(marawi.actiongeofeatureid=='-2438515') \\\n",
    "               & (marawi.eventrootcode=='19')]\n",
    "\n",
    "# print(maute2.sort_values('datezone')[['datezone','sourceurl']].drop_duplicates('sourceurl').head().to_html())"
   ]
  },
  {
   "cell_type": "code",
   "execution_count": 30,
   "metadata": {
    "ExecuteTime": {
     "end_time": "2017-07-17T11:36:18.606198",
     "start_time": "2017-07-17T11:36:18.565338Z"
    },
    "collapsed": true
   },
   "outputs": [],
   "source": [
    "# endings = pd.read_html('https://iwantmyname.com/domains/domain-name-registration-list-of-extensions')[0]\n",
    "# endings.columns = ['Domain extension','USD per year','Description']"
   ]
  },
  {
   "cell_type": "code",
   "execution_count": 31,
   "metadata": {
    "ExecuteTime": {
     "end_time": "2017-07-17T11:36:18.651944",
     "start_time": "2017-07-17T11:36:18.608522Z"
    },
    "collapsed": true
   },
   "outputs": [],
   "source": [
    "# endings = endings.assign(doms=endings['Domain extension'].apply(lambda x: (\"\\\\\"+ x.split(' ')[0])))\n",
    "# endingslist = endings['doms'].values.tolist()\n",
    "# endingslist.append('\\.IE')\n",
    "# endingsString = \"|\".join(endingslist)"
   ]
  },
  {
   "cell_type": "code",
   "execution_count": 32,
   "metadata": {
    "ExecuteTime": {
     "end_time": "2017-07-17T11:36:18.694396",
     "start_time": "2017-07-17T11:36:18.654706Z"
    },
    "collapsed": true
   },
   "outputs": [],
   "source": [
    "# r = re.compile('()({})'.format(endingsString),flags = re.IGNORECASE)\n",
    "s = re.compile('(http://|https://)([A-Za-z0-9_\\.-]+)')"
   ]
  },
  {
   "cell_type": "code",
   "execution_count": 33,
   "metadata": {
    "ExecuteTime": {
     "end_time": "2017-07-17T11:36:18.758499",
     "start_time": "2017-07-17T11:36:18.697124Z"
    },
    "collapsed": true
   },
   "outputs": [],
   "source": [
    "frame = maute2\n",
    "# frame[frame.sourceurl.\\\n",
    "#       apply(lambda x: s.search(x).group() if s.search(x) else np.nan)\\\n",
    "#       .isnull()==False]['sourceurl']#.loc['2017-05-23 15:45:00']\n",
    "# print(frame.shape)\n",
    "frame = frame.drop_duplicates(['sourceurl'])\n",
    "# print(frame.shape)\n",
    "frame=frame.assign(provider=frame.sourceurl.\\\n",
    "      apply(lambda x: s.search(x).group() if s.search(x) else np.nan))\n",
    "\n",
    "groups = frame.groupby(['provider']).size().sort_values(ascending=False).reset_index()\n",
    "groups.columns = ['provider','count']\n",
    "\n",
    "# frame[frame.provider==groups['provider'][0]]['sourceurl'].unique()"
   ]
  },
  {
   "cell_type": "code",
   "execution_count": 34,
   "metadata": {
    "ExecuteTime": {
     "end_time": "2017-07-17T11:36:18.800718",
     "start_time": "2017-07-17T11:36:18.760801Z"
    }
   },
   "outputs": [],
   "source": [
    "# print(groups.head(5).to_html())"
   ]
  },
  {
   "cell_type": "code",
   "execution_count": 35,
   "metadata": {
    "ExecuteTime": {
     "end_time": "2017-07-17T11:36:18.848151",
     "start_time": "2017-07-17T11:36:18.802981Z"
    },
    "collapsed": true
   },
   "outputs": [],
   "source": [
    "frame2 = frame.copy()[frame.provider.notnull()==True].drop_duplicates('sourceurl')[['provider','sourceurl','dates']]"
   ]
  },
  {
   "cell_type": "code",
   "execution_count": 36,
   "metadata": {
    "ExecuteTime": {
     "end_time": "2017-07-17T11:36:18.893411",
     "start_time": "2017-07-17T11:36:18.850670Z"
    },
    "collapsed": true
   },
   "outputs": [],
   "source": [
    "frame2 = frame2.assign(dates=frame2['dates'].apply(lambda x: (x.to_pydatetime().timestamp())))"
   ]
  },
  {
   "cell_type": "code",
   "execution_count": 37,
   "metadata": {
    "ExecuteTime": {
     "end_time": "2017-07-17T11:36:18.955683",
     "start_time": "2017-07-17T11:36:18.895582Z"
    },
    "collapsed": true
   },
   "outputs": [],
   "source": [
    "grp = frame2.groupby('provider').filter(lambda x: len(x)>=3).groupby('provider')"
   ]
  },
  {
   "cell_type": "code",
   "execution_count": 38,
   "metadata": {
    "ExecuteTime": {
     "end_time": "2017-07-17T11:36:19.020003",
     "start_time": "2017-07-17T11:36:18.959159Z"
    }
   },
   "outputs": [],
   "source": [
    "final = grp.agg([np.mean,np.max,np.min]).sortlevel('mean',ascending=False)\n",
    "newfinal = pd.DataFrame(final['dates']['mean'].apply(lambda x:datetime.datetime.fromtimestamp(int(x))).sort_values(ascending=True)).reset_index().set_index('mean',drop=False)\n",
    "newfinal = newfinal.tz_localize('UTC')\n",
    "newfinal = newfinal.tz_convert('Asia/Manila')\n",
    "newfinal.columns = ['provider','UTC Time']\n",
    "newfinal.index.name='Philippines Time'\n",
    "# print(newfinal.to_html())"
   ]
  },
  {
   "cell_type": "code",
   "execution_count": 18,
   "metadata": {
    "ExecuteTime": {
     "end_time": "2017-07-17T04:07:15.444755",
     "start_time": "2017-07-17T04:07:14.531401Z"
    }
   },
   "outputs": [
    {
     "name": "stdout",
     "output_type": "stream",
     "text": [
      "The autoreload extension is already loaded. To reload it, use:\n",
      "  %reload_ext autoreload\n"
     ]
    },
    {
     "data": {
      "image/png": "[encoded data removed]",
      "text/plain": [
       "<matplotlib.figure.Figure at 0x13f7b1860>"
      ]
     },
     "metadata": {},
     "output_type": "display_data"
    }
   ],
   "source": [
    "%matplotlib inline\n",
    "%load_ext autoreload\n",
    "%autoreload 2\n",
    "import matplotlib.pyplot as plt\n",
    "import matplotlib as mpl\n",
    "\n",
    "\n",
    "mpl.style.use('economist')\n",
    "timeseries= pd.concat([marawi.resample('H')['sourceurl'].count(),maute2.resample('H')['sourceurl'].count()]\n",
    "         ,axis=1)\n",
    "timeseries.fillna(0,inplace=True)\n",
    "timeseries.columns = ['Total Events','Marawi Violent Events Only']\n",
    "timeseries = timeseries\\\n",
    ".assign(Normalized=(timeseries['Marawi Violent Events Only']/timeseries['Total Events'])*100)\n",
    "f,ax = plt.subplots(figsize=(13,7))\n",
    "ax = timeseries.Normalized\\\n",
    ".ewm(adjust=True,ignore_na=True,min_periods=5,span=12).mean()\\\n",
    ".plot(color=\"#C10534\",label='Exponentially Weighted Count', linewidth=4.8)\n",
    "ax.set_title('Hourly Count of Violent Events in Marawi',fontsize=28)\n",
    "for label in ax.get_xticklabels():\n",
    "      label.set_fontsize(16)\n",
    "ax.set_xlabel('Hour of the Day', fontsize=20)\n",
    "ax.set_ylabel('Percentage of Hourly Total',fontsize='15')\n",
    "ax.legend()\n",
    "plt.tight_layout()\n",
    "plt.savefig('../assets/img/countGraphic.png')\n",
    "# pd.date_range(start='2017 23 May 00:00:00', end='2017 23 May 23:59:59',freq='1H')"
   ]
  },
  {
   "cell_type": "code",
   "execution_count": 39,
   "metadata": {
    "ExecuteTime": {
     "end_time": "2017-07-17T11:38:10.816139",
     "start_time": "2017-07-17T11:38:10.728308Z"
    },
    "collapsed": true
   },
   "outputs": [],
   "source": [
    "maute2= marawi[(marawi.actiongeofeatureid=='-2438515') \\\n",
    "               & (marawi.eventrootcode=='19')]"
   ]
  },
  {
   "cell_type": "code",
   "execution_count": 45,
   "metadata": {
    "ExecuteTime": {
     "end_time": "2017-07-17T11:45:39.629080",
     "start_time": "2017-07-17T11:45:39.586036Z"
    }
   },
   "outputs": [
    {
     "data": {
      "text/plain": [
       "(206,)"
      ]
     },
     "execution_count": 45,
     "metadata": {},
     "output_type": "execute_result"
    }
   ],
   "source": [
    "maute2.sourceurl.shape"
   ]
  },
  {
   "cell_type": "code",
   "execution_count": 46,
   "metadata": {
    "ExecuteTime": {
     "end_time": "2017-07-17T11:54:59.039834",
     "start_time": "2017-07-17T11:54:59.000107Z"
    }
   },
   "outputs": [
    {
     "data": {
      "text/plain": [
       "(211911, 65)"
      ]
     },
     "execution_count": 46,
     "metadata": {},
     "output_type": "execute_result"
    }
   ],
   "source": [
    "marawi.shape"
   ]
  },
  {
   "cell_type": "code",
   "execution_count": 44,
   "metadata": {
    "ExecuteTime": {
     "end_time": "2017-07-17T11:44:04.288000",
     "start_time": "2017-07-17T11:44:04.244554Z"
    }
   },
   "outputs": [
    {
     "data": {
      "text/plain": [
       "(79,)"
      ]
     },
     "execution_count": 44,
     "metadata": {},
     "output_type": "execute_result"
    }
   ],
   "source": [
    "maute2.drop_duplicates('sourceurl',keep='first').sort_values('dates',ascending=True)['sourceurl'].values.shape"
   ]
  },
  {
   "cell_type": "code",
   "execution_count": 182,
   "metadata": {
    "ExecuteTime": {
     "end_time": "2017-07-16T19:16:25.445508",
     "start_time": "2017-07-16T19:16:25.350646Z"
    },
    "collapsed": true
   },
   "outputs": [],
   "source": [
    "# Author: Linwood Creekmore\n",
    "# Email: valinvescap@gmail.com\n",
    "# Description:  Python script to pull content from a website (works on news stories).\n",
    "\n",
    "###################################\n",
    "# Standard Library imports\n",
    "###################################\n",
    "\n",
    "import re\n",
    "from io import BytesIO\n",
    "\n",
    "###################################\n",
    "# Third party imports\n",
    "###################################\n",
    "\n",
    "import requests\n",
    "import numpy as np\n",
    "from bs4 import BeautifulSoup\n",
    "\n",
    "done ={}\n",
    "def textgetter(url):\n",
    "    \"\"\"Scrapes web news and returns the content\n",
    "    \n",
    "    Parameters\n",
    "    ----------\n",
    "    \n",
    "    url : str\n",
    "        Address to news report\n",
    "        \n",
    "    newstext: str\n",
    "        Returns all text in the \"p\" tag.  This usually is the content of the news story.\n",
    "    \"\"\"\n",
    "    global done\n",
    "    \n",
    "    # regex for url check\n",
    "    s = re.compile('(http://|https://)([A-Za-z0-9_\\.-]+)')\n",
    "    \n",
    "    # check that its an url\n",
    "    if s.search(url):\n",
    "        if url in done.keys():\n",
    "            return done[url]\n",
    "            pass\n",
    "        else:\n",
    "\n",
    "            r  = requests.get(url)\n",
    "            if r.status_code != 200:\n",
    "                done[url]=\"Unable to reach website.\"\n",
    "                return {url:\"Unable to reach website.\"}\n",
    "\n",
    "            data = r.content\n",
    "\n",
    "            soup = BeautifulSoup(data,'html.parser')\n",
    "\n",
    "            newstext = \" \".join([l.text for l in soup.find_all('p')])\n",
    "            done[url]=newstext\n",
    "            del r\n",
    "            if len(newstext)>200:\n",
    "                return {url:newstext}\n",
    "            else:\n",
    "                newstext = \" \".join([l.text for l in soup.find_all('div',class_='field-item even')])\n",
    "                done[url]=newstext\n",
    "                if len(newstext)>200:\n",
    "                    return {url:newstext}\n",
    "                else:\n",
    "                    return {url: \"No text returned\"}\n",
    "    else:\n",
    "        return {url:\"This is not a proper url.\"}"
   ]
  },
  {
   "cell_type": "code",
   "execution_count": 47,
   "metadata": {
    "ExecuteTime": {
     "end_time": "2017-07-17T12:19:21.576539",
     "start_time": "2017-07-17T12:19:21.534532Z"
    }
   },
   "outputs": [
    {
     "data": {
      "text/plain": [
       "array([nan, 'VILLAGE', 'GUNMEN', 'ARMY', 'POLICE FORCE', 'RESIDENTS',\n",
       "       'PHILIPPINE', 'CITIZEN', 'AMERICAN', 'INFANTRY', 'SPOKESMAN',\n",
       "       'REBEL GROUP', 'TROOPER', 'GOVERNMENT FORCES', 'GOVERNMENT',\n",
       "       'MILITARY', 'CALOOCAN', 'POLICEMAN', 'POLICE', 'ISLAMIC',\n",
       "       'HOSPITAL', 'GOVERNMENT TROOPS AND POLICE', 'MILITANT', 'SCHOOL',\n",
       "       'FIGHTER', 'GOVERNMENT TROOPS', 'REUTERS', 'MINDANAO', 'MANILA',\n",
       "       'PRESIDENT', 'INSURGENT', 'POLICE OFFICER', 'SOUTHEAST ASIA',\n",
       "       'TERRORIST', 'ARMED GROUP', 'MUSLIM', 'ABU SAYYAF', 'MILITARY RULE',\n",
       "       'NANTES', 'POLICEMEN', 'MANCHESTER', 'SYRIA', 'DAMASCUS',\n",
       "       'EXTREMIST', 'MOSCOW', 'ISNILON'], dtype=object)"
      ]
     },
     "execution_count": 47,
     "metadata": {},
     "output_type": "execute_result"
    }
   ],
   "source": [
    "maute2.actor2name.unique()"
   ]
  },
  {
   "cell_type": "code",
   "execution_count": 183,
   "metadata": {
    "ExecuteTime": {
     "end_time": "2017-07-16T19:16:25.726624",
     "start_time": "2017-07-16T19:16:25.723041Z"
    },
    "collapsed": true
   },
   "outputs": [],
   "source": [
    "urls = frame2['sourceurl'].unique()"
   ]
  },
  {
   "cell_type": "code",
   "execution_count": 184,
   "metadata": {
    "ExecuteTime": {
     "end_time": "2017-07-16T19:16:26.008774",
     "start_time": "2017-07-16T19:16:26.003795Z"
    },
    "collapsed": true,
    "scrolled": true
   },
   "outputs": [],
   "source": [
    "d=maute2.sourceurl.drop_duplicates().values"
   ]
  },
  {
   "cell_type": "code",
   "execution_count": 191,
   "metadata": {
    "ExecuteTime": {
     "end_time": "2017-07-16T19:25:10.518879",
     "start_time": "2017-07-16T19:24:30.086028Z"
    }
   },
   "outputs": [
    {
     "name": "stdout",
     "output_type": "stream",
     "text": [
      "CPU times: user 52.8 ms, sys: 42.1 ms, total: 94.9 ms\n",
      "Wall time: 40.4 s\n"
     ]
    }
   ],
   "source": [
    "from concurrent.futures import ProcessPoolExecutor\n",
    "\n",
    "e = ProcessPoolExecutor()\n",
    "%time results = list(e.map(textgetter,urls))\n",
    "# %time results2 = np.array(list(e.map(textgetter,d)))\n",
    "# done = {}\n",
    "# %time results3 = marawi.sourceurl.drop_duplicates()[1240:1245].apply(textgetter).values\n",
    "# %time results3 = marawi.sourceurl.drop_duplicates()[1240:1245].apply(textgetter).values"
   ]
  },
  {
   "cell_type": "code",
   "execution_count": 187,
   "metadata": {
    "ExecuteTime": {
     "end_time": "2017-07-16T19:22:54.658088",
     "start_time": "2017-07-16T19:22:54.640348Z"
    },
    "collapsed": true
   },
   "outputs": [],
   "source": [
    "sers = []\n",
    "\n",
    "for l in results:\n",
    "    ul = list(l.keys())[0]\n",
    "    content = l[ul]\n",
    "    sers.append(pd.Series({'url':ul,'content':content}))\n",
    "connie = pd.concat(sers,axis=1).T"
   ]
  },
  {
   "cell_type": "code",
   "execution_count": 220,
   "metadata": {
    "ExecuteTime": {
     "end_time": "2017-07-16T22:02:30.163327",
     "start_time": "2017-07-16T22:02:30.107568Z"
    },
    "collapsed": true
   },
   "outputs": [],
   "source": [
    "maute2 = maute2.merge(connie,left_on='sourceurl',right_on='url')"
   ]
  },
  {
   "cell_type": "code",
   "execution_count": 227,
   "metadata": {
    "ExecuteTime": {
     "end_time": "2017-07-16T22:15:41.203896",
     "start_time": "2017-07-16T22:15:41.156665Z"
    }
   },
   "outputs": [
    {
     "name": "stdout",
     "output_type": "stream",
     "text": [
      "LANAO DEL SUR, Philippines - Gunshots reverberated through villages in Barangay Basak Malulut in Marawi City as Maute gunmen and soldiers clashed there Tuesday, sending Maranaws running for their lives. Senior Superintendent Oscar Nantes, director of the Lanao del Sur provincial police, said the scene of the encounter is not too distant from their headquarters and the campus of the Mindanao State University. “We can hear automatic gunshots from where we are,” Nantes told The STAR at exactly 3:20 p.m. Tuesday. Local officials told The STAR loud explosions rocked the barangay as members of the Maute terror group and soldiers traded shots. The Maute group is also known as the Dawlah Islamiya Philippines, which espouses hatred to non-Muslims. It also boasts of loyalty to the Islamic State of Iraq and Syria and uses the black ISIS flag as its revolutionary banner. Nantes said personnel of Army units under the 103rd Brigade based in Marawi City were to search for members of the Maute group in Barangay Basak Malulut when the encounter erupted. The group, founded by radical siblings Abdullah and Omar Maute, lost more than 50 members in a spate of encounters with soldiers in the past five months. “We are still investigating on what caused the encounter this afternoon,” Nantes said. Army intelligence sources said members of the Maute group had infiltrated a gathering of hundreds of Tablighs in the barangay, prompting the deployment there of soldiers backed by armoured vehicles. The Tablighs are missionaries engage in da’awah (preaching) activities that many moderate Islamic theologians do not agree with. Among the staunch critics of the Tablighs was the late Imam Salamat Hashim, founder of the Moro Islamic Liberation Front, who had studied Islamic theology at the Al-Azzhar University in Cairo, Egypt. Zia Alonto Adiong, a member of the 24-seat Regional Assembly in the Autonomous Region in Muslim Mindanao, said he received reports purporting that the raging gunfights in Barangay Basak Malulut involved local ISIS-styled extremists and soldiers. Adiong, who resides in Marawi City, has urged his constituents to stay in their homes to ensure their safety through text messages to community elders and via an appeal he posted on his Facebook timeline. View the discussion thread.  Unit 909-910 Infinity Tower 26th St. BGC, Taguig City Tel. No. (632) 847-0048\n",
      "No text returned\n",
      "Unable to reach website.\n",
      " Marawi is the gateway to Lanao del Sur, a component province of the Autonomous Region in Muslim Mindanao. Philstar.com/John Unson, file \n",
      "\tLANAO DEL SUR, Philippines  —  Officials on Tuesday urged Marawi City residents to stay home as firefights continued on city streets between Maute terrorists and soldiers.\n",
      "\n",
      "\t \n",
      "\n",
      "\tLanao del Sur Vice Gov. Mamintal Adiong, Jr., a senior member of the provincial peace and order council, also called on Marawi City residents to be extra vigilant and prevent strangers from intruding into their property.\n",
      "\n",
      "\t \n",
      "\n",
      "\t“I’m appealing to residents of Marawi City to stay home, drop on the ground if they hear gunshots. They have to lock their doors and gates too,” Adiong told The STAR via mobile phone on Tuesday afternoon.\n",
      "\n",
      "\t \n",
      "\n",
      "\tShooting between Islamic militants and personnel of the Army’s 103rd Infantry Brigade in Marawi City started at about 3:00 p.m. Tuesday, sending residents running for safety.\n",
      "\n",
      "\t \n",
      "\n",
      "\tSenior officials of the Police Regional Office-Autonomous Region in Muslim Mindanao told The STAR the hostilities first erupted in Barangay Basak Malulut in Marawi City when Maute gunmen attacked soldiers dispatched to verify the reported presence there of men brandishing assault rifles.\n",
      "\n",
      "\t \n",
      "\n",
      "\tA resident told Philstar.com by text message that sporadic gunfire could be heard in the city. \n",
      "\n",
      "\t \n",
      "\n",
      "\t\"There [were] no indications that an attack like this will happen. There are no checkpoints in the city,\" the resident said. \"Everything is in silence. No news about the city government. Everything is vague.\" \n",
      "\n",
      "Militants in areas of Marawi\n",
      "\n",
      "\tOther groups of terrorists, many of them clad in attires identical with what members of the Islamic State of Iraq and Syria in the Middle East wear, immediately scattered in other spots in Marawi City as the encounter in Barangay Basak Malulut ensued.\n",
      "\n",
      "\t \n",
      "\n",
      "\tPatients and personnel of the government-owned Amai Pakpak Hospital in Marawi City said a group also showed force in the gate of the facility.\n",
      "\n",
      "\t \n",
      "\n",
      "\tAdiong said they have mobilized their emergency response teams to help civilians trapped in the crossfire.\n",
      "\n",
      "\t \n",
      "\n",
      "\t“Our rescue and emergency teams will work round-the-clock to serve the affected communities,” he said.\n",
      "\n",
      "\t \n",
      "\n",
      "\tARMM’s regional vice governor, Haroun Al-Rashid Lucman, said employees of the region‘s social welfare department in Lanao del Sur and in Marawi City have been directed to monitor the plight of residents affected by the fighting.\n",
      "\n",
      "\t \n",
      "\n",
      "\tLucman, concurrent regional social welfare secretary of ARMM, said he is now coordinating with the police and military their plan to deploy social workers in areas affected by the hostilities.\n",
      "\n",
      "\t \n",
      "\n",
      "\t“Meantime, my advice to Marawi City residents is to stay in their homes and be watchful of the goings-on in the surroundings,” said Lucman.\n",
      "\n",
      " Breaking News \n",
      " Email this.\n",
      " \n",
      " Tweet this.\n",
      " \n",
      " Share this on Facebook.\n",
      " Go Back | Go Home © Copyright {2012} Philstar.com  \r\n",
      "#webapp_wrap {\r\n",
      "\tmargin: 12px 0 0;\r\n",
      "}\r\n",
      "\r\n",
      "#content_gui .author-info {\r\n",
      "    padding: 0 0 10px 0;\r\n",
      "    display: block;\r\n",
      "}\r\n",
      "\r\n",
      "#content_gui img {\r\n",
      "    width: 100%;\r\n",
      "}\r\n",
      "\r\n",
      "#content_gui .image-caption {\r\n",
      "    font-size: small;\r\n",
      "    font-style: italic;\r\n",
      "    padding: 10px;\r\n",
      "    display: block;\r\n",
      "    background: #cccccc;\r\n",
      "    margin: -11px 0 19px 0;\r\n",
      "}\r\n",
      "\r\n",
      "#footer {\r\n",
      "\tdisplay: none;\r\n",
      "}\r\n",
      "\r\n",
      ".footer-wrapper {\r\n",
      "\tborder-top: thin solid #CCCCCC;\r\n",
      "\tbackground: #CCCCCC;\r\n",
      "\tmargin: 10px 0 -30px 0;\r\n",
      "}\r\n",
      "\t\r\n",
      ".footer-wrapper h10 {\r\n",
      "\tfont-family: Arial,Helvetica,sans-serif;\r\n",
      "\tfont-size: 14px;\r\n",
      "\tcolor: #333333;\r\n",
      "\tdisplay: block;\r\n",
      "\tpadding: 10px 0 0 0;\r\n",
      "}\r\n",
      "\r\n",
      ".footer-wrapper h10 a {\r\n",
      "\tfont-size: 14px;\r\n",
      "\tcolor: #1c94d2;\r\n",
      "\ttext-decoration: none;\r\n",
      "}\r\n",
      "\r\n",
      ".footer-wrapper h10 a:hover {\r\n",
      "\ttext-decoration: underline;\r\n",
      "}\r\n",
      "\r\n",
      ".footer-wrapper h11 {\r\n",
      "\tfont-family: Arial,Helvetica,sans-serif;\r\n",
      "\tfont-size: 12px;\r\n",
      "\tcolor: #333333;\r\n",
      "\tdisplay: block;\r\n",
      "\tpadding: 5px 0 0 0;\r\n",
      "}\r\n",
      "\r\n",
      ".footer-wrapper h11 a {\r\n",
      "\tfont-size: 12px;\r\n",
      "\tcolor: #333333;\r\n",
      "\ttext-decoration: none;\r\n",
      "}\r\n",
      "\r\n",
      ".footer-wrapper h11 a:hover {\r\n",
      "\tcolor: #1c94d2;\r\n",
      "\ttext-decoration: underline;\r\n",
      "}\r\n",
      "\r\n",
      ".footer-wrapper h12 {\r\n",
      "\tfont-family: Arial,Helvetica,sans-serif;\r\n",
      "\tfont-size: 11px;\r\n",
      "\tcolor: #333333;\r\n",
      "\tdisplay: block;\r\n",
      "\tpadding: 5px 0 10px 0;\r\n",
      "}\r\n",
      "\r\n",
      "#adsense > div,\r\n",
      "#adsense-fifth > div,\r\n",
      "#adsense-last > div {\r\n",
      "    height: auto;\r\n",
      "}\r\n",
      "\r\n",
      "#div-gpt-ad-1401936081531-0_ad_container > div:nth-child(2) {\r\n",
      "    top: -250px;\r\n",
      "}\r\n",
      "\r\n",
      "div#adsense-hide,\r\n",
      "div#adsense-hide-fifth,\r\n",
      "div#adsense-hide-last {\r\n",
      "\tvisibility: hidden;\r\n",
      "\tdisplay: none;\r\n",
      "}\r\n",
      "\r\n",
      "@media only screen {\r\n",
      "\tdiv#adsense-hide,\r\n",
      "\tdiv#adsense-hide-fifth,\r\n",
      "\tdiv#adsense-hide-last {\r\n",
      "\t\tvisibility: hidden;\r\n",
      "\t\tdisplay: none;\r\n",
      "\t}\r\n",
      "}\r\n",
      "\r\n",
      "iframe#google_ads_iframe_Exponential_Mobile_300x250 {\r\n",
      "    top: -260px !important;\r\n",
      "}\r\n",
      "\r\n",
      "/* Duterte's first State of the Nation Address */\r\n",
      "@media screen and (min-width: 700px) {\r\n",
      "\t#a-776988 {\r\n",
      "\t\tbackground-image: url(\"http://www.philstar.com:8080/embed/template/images/widget/sona/2016/skinny-desktop.jpg\");\r\n",
      "\t\tbackground-position: center top;\r\n",
      "\t\tbackground-repeat: no-repeat;\r\n",
      "\t\theight: 45px;\r\n",
      "\t\tpadding: 0 !important;\r\n",
      "\t\tbackground-color: transparent;\r\n",
      "\t}\r\n",
      "\t\r\n",
      "}\r\n",
      "@media screen and (max-width: 699px) {\r\n",
      "\t#a-776988 {\r\n",
      "\t\tbackground-image: url(\"http://www.philstar.com:8080/embed/template/images/widget/sona/2016/skinny-mobile.jpg\");\r\n",
      "\t\tbackground-position: center top;\r\n",
      "\t\tbackground-repeat: no-repeat;\r\n",
      "\t\theight: 50px;\r\n",
      "\t\tpadding: 0 !important;\r\n",
      "\t\tbackground-color: transparent;\r\n",
      "\t}\r\n",
      "}\r\n",
      "#a-776988 a {\r\n",
      "\tdisplay: block;\r\n",
      "\theight: 100%;\r\n",
      "\tmargin: auto;\r\n",
      "\twidth: 100%;\r\n",
      "\topacity: 0;\r\n",
      "}\r\n",
      "/* Duterte's first State of the Nation Address */\r\n",
      "\n",
      "\n",
      "\n",
      "\r\n",
      "\t\tnew innity_adZone(\"8aec51422b30d61bce078b27f0babeb1\", \"44224\", {});\r\n",
      "\t\n",
      "\n",
      "\n",
      "\r\n",
      "\twindow._ttf = window._ttf || [];\r\n",
      "\t_ttf.push({\r\n",
      "\t\t   pid          : 40694 //MOBILE\r\n",
      "\t\t   ,lang        : \"en\"\r\n",
      "\t\t   ,slot        : '#webapp_wrap #content_gui > p, #content_gui > p'\r\n",
      "\t\t   ,format      : \"inread\"\r\n",
      "\t\t   ,minSlot     : 3\r\n",
      "\t\t   ,components  : { mute: {delay :0}, skip: {delay :0} }\r\n",
      "\t\t   ,mutable     : false\r\n",
      "\t});\r\n",
      "\r\n",
      "\t(function (d) {\r\n",
      "\t\t\tvar js, s = d.getElementsByTagName('script')[0];\r\n",
      "\t\t\tjs = d.createElement('script');\r\n",
      "\t\t\tjs.async = true;\r\n",
      "\t\t\tjs.src = '//cdn.teads.tv/media/format.js';\r\n",
      "\t\t\ts.parentNode.insertBefore(js, s);\r\n",
      "\t})(window.document);\r\n",
      "\t\n",
      "\n",
      "\n",
      "\n",
      "\r\n",
      "\t  var googletag = googletag || {};\r\n",
      "\t  googletag.cmd = googletag.cmd || [];\r\n",
      "\t\n",
      "\r\n",
      "\t  googletag.cmd.push(function() {\r\n",
      "\t\tgoogletag.defineSlot('/1015401/MobileAD_MRec_Top2_300x250', [[336, 280], [300, 250]], 'div-gpt-ad-1496306138364-0').addService(googletag.pubads());\r\n",
      "\t\tgoogletag.pubads().enableSingleRequest();\r\n",
      "\t\tgoogletag.enableServices();\r\n",
      "\t  });\r\n",
      "\t\n",
      "\n",
      "\n",
      "\r\n",
      "\t\t\t\tgoogletag.cmd.push(function() { googletag.display('div-gpt-ad-1496306138364-0'); });\r\n",
      "\t\t\t\n",
      "\n",
      "\n",
      "\r\n",
      "\t\tvar paraFifth = document.createElement(\"div\");\r\n",
      "\t\t\tparaFifth.setAttribute(\"id\",\"adsense-fifth\");\r\n",
      "\t\t\tparaFifth.setAttribute(\"style\",\"margin:10px 0; height:auto;\");\r\n",
      "\t\tvar nodeFifth = document.createTextNode(\"\");\r\n",
      "\t\t\tparaFifth.appendChild(nodeFifth);\r\n",
      "\r\n",
      "\t\tvar elementFifth = document.getElementById(\"content_gui\");\r\n",
      "\t\t\tchildFifth = elementFifth.children[5];\r\n",
      "\t\t\telementFifth.insertBefore(paraFifth,childFifth);\r\n",
      "\t\n",
      "\r\n",
      "\t\tvar adFifth = $(\"#adsense-hide-fifth\").html();\r\n",
      "\t\t\t$(\"#adsense-fifth\").html(adFifth);\r\n",
      "\t\n",
      "\n",
      "\n",
      "\n",
      "\r\n",
      "\t  var googletag = googletag || {};\r\n",
      "\t  googletag.cmd = googletag.cmd || [];\r\n",
      "\t\n",
      "\r\n",
      "\t  googletag.cmd.push(function() {\r\n",
      "\t\tgoogletag.defineSlot('/1015401/Philstar_All_Mobile_MRec_300x250', [300, 250], 'div-gpt-ad-1479199886007-0').addService(googletag.pubads());\r\n",
      "\t\tgoogletag.pubads().enableSingleRequest();\r\n",
      "\t\tgoogletag.enableServices();\r\n",
      "\t  });\r\n",
      "\t\n",
      "\n",
      "\n",
      "\r\n",
      "\t\t\t\tgoogletag.cmd.push(function() { googletag.display('div-gpt-ad-1479199886007-0'); });\r\n",
      "\t\t\t\n",
      "\n",
      "\n",
      "\r\n",
      "\t\tvar paraLast = document.createElement(\"div\");\r\n",
      "\t\t\tparaLast.setAttribute(\"id\",\"adsense-last\");\r\n",
      "\t\t\tparaLast.setAttribute(\"style\",\"margin:10px 0; height:250px;\");\r\n",
      "\t\tvar nodeLast = document.createTextNode(\"\");\r\n",
      "\t\t\tparaLast.appendChild(nodeLast);\r\n",
      "\r\n",
      "\t\tvar elementLast = document.getElementById(\"content_gui\");\r\n",
      "\t\t\tchildLast = elementLast.lastChild;\r\n",
      "\t\t\telementLast.insertBefore(paraLast,childLast);\r\n",
      "\t\n",
      "\r\n",
      "\t\tvar adLast = $(\"#adsense-hide-last\").html();\r\n",
      "\t\t\t$(\"#adsense-last\").html(adLast);\r\n",
      "\t\n",
      "\n",
      "\n",
      "\r\n",
      "\t_ymop = [] || _ymop;\r\n",
      "\t_ymop.push({\r\n",
      "\tprod: 'plg1',\r\n",
      "\tdomainFlash: '2540cdEZwdvi',\r\n",
      "\tdomainHtml5: '2540SFDFfQnW',\r\n",
      "\tslot: '#yume-main-container',\r\n",
      "\ttype: 'midtext',\r\n",
      "\tpip: '0',\r\n",
      "\tvol: \"1\",\r\n",
      "\tpwidth:480,\r\n",
      "\tpheight:360,\r\n",
      "\t});\r\n",
      "\t(function(d) {\r\n",
      "\tvar js, s = d.getElementsByTagName('script')[0];\r\n",
      "\tjs = d.createElement('script');\r\n",
      "\tjs.async = true;\r\n",
      "\tjs.src = \"http://plg1.yumenetworks.com/yvp/Outstream/SDK/yumeOutstream.js\";\r\n",
      "\ts.parentNode.insertBefore(js, s);\r\n",
      "\t})(window.document)\r\n",
      "\t\n",
      "\n",
      "\n",
      "\n",
      "\n",
      "\n",
      "\n",
      "\n",
      "\n",
      "\n",
      "\n",
      "\n",
      "\r\n",
      "\t\t/* * * CONFIGURATION VARIABLES: EDIT BEFORE PASTING INTO YOUR WEBPAGE * * */\r\n",
      "\t\tvar disqus_shortname = '01philstar-com01'; // required: replace example with your forum shortname\r\n",
      "\r\n",
      "\t\t/* * * DON'T EDIT BELOW THIS LINE * * */\r\n",
      "\t\t(function() {\r\n",
      "\t\t\tvar dsq = document.createElement('script'); dsq.type = 'text/javascript'; dsq.async = true;\r\n",
      "\t\t\tdsq.src = '//' + disqus_shortname + '.disqus.com/embed.js';\r\n",
      "\t\t\t(document.getElementsByTagName('head')[0] || document.getElementsByTagName('body')[0]).appendChild(dsq);\r\n",
      "\t\t})();\r\n",
      "\t\t\n",
      "\n",
      "Please enable JavaScript to view the comments powered by Disqus.comments powered by Disqus\n",
      "\n",
      "\n",
      "\n",
      "\r\n",
      "\t\t$(document).ready(function() {\r\n",
      "\t\t\tvar author = [\"FROM A DISTANCE By Carmen N. Pedrosa\"];\r\n",
      "\t\t\tfor (var i = 0; i < author.length; i++) {\r\n",
      "\t\t\t\tif ($(\"span\").eq(0).text() == author[i]) {\r\n",
      "\t\t\t\t\t$(\"#disqus_thread\").empty();\r\n",
      "\t\t\t\t\t$(\"#disqus_thread\").css(\"display\", \"none\");\r\n",
      "\t\t\t\t\t}\r\n",
      "\t\t\t\t}\r\n",
      "\t\t});\r\n",
      "\t\n",
      "\n",
      "\n",
      "Mobile | Desktop\n",
      "HOME | BREAKING NEWS | HEADLINES | OPINION | NATION | LIFESTYLE | ENTERTAINMENT | SPORTS | BUSINESS\n",
      "Copyright © 2012 Philstar.com | All Right Reserved\n",
      "\n",
      "\n",
      "\n",
      "\n",
      "\r\n",
      "  GS_googleAddAdSenseService(\"ca-pub-1876439796539993\");\r\n",
      "  google_override_format=true;\r\n",
      "  google_ad_width = 156;\r\n",
      "  google_ad_height = 131;\r\n",
      "  GS_googleEnableAllServices();\r\n",
      "\n",
      "\r\n",
      "  GA_googleAddSlot(\"ca-pub-1876439796539993\", \"Mobile_Interstitial\"); \r\n",
      "\n",
      "\r\n",
      "  GA_googleFetchAds();\r\n",
      "\n",
      "\r\n",
      "  GA_googleFillSlot(\"Mobile_Interstitial\");\r\n",
      "\n",
      "\n",
      "\n",
      "\r\n",
      "\t$('.image-caption:empty').remove();\r\n",
      "\n",
      "\n",
      "By\n",
      "\n",
      "Afp\n",
      " \n",
      "Published:\n",
      "  07:07 EDT, 23 May 2017\n",
      "\n",
      " | \n",
      "Updated:\n",
      "  09:32 EDT, 23 May 2017\n",
      "\n",
      " \n",
      "\n",
      "\n",
      "\n",
      "\n",
      "\n",
      "\n",
      "\n",
      "\n",
      "\n",
      "\n",
      "\n",
      "e-mail\n",
      "\n",
      "\n",
      "\n",
      "\n",
      "\n",
      "          var twitterVia = '';\n",
      "          DM.later('bundle', function(){\n",
      "            DM.has('shareLinkTop', 'shareLinks', {\n",
      "                    'id': '4533700',\n",
      "                    'title': 'Philippine forces hunt top Islamist militant in city',\n",
      "                    'url': 'http://www.dailymail.co.uk/wires/afp/article-4533700/Philippine-forces-hunt-IS-linked-militant.html',\n",
      "                    'eTwitterStatus': ' http://dailym.ai/2rOzL1T via @' + twitterVia,\n",
      "                    'articleChannelFollowButton': '',\n",
      "                    'isChannel': false,\n",
      "                    'hideEmail': true,\n",
      "                    'placement': 'top',\n",
      "                    'anchor': 'tl'});\n",
      "          });\n",
      "\n",
      "\n",
      "            \n",
      "\n",
      "\n",
      "\n",
      "        DM.later('bundle', function(){\n",
      "            DMS.Article.init('top');\n",
      "        });\n",
      "\n",
      "\n",
      "    \n",
      "\n",
      " Philippines security forces continue to battle the Abu Sayyaf group, which has kidnapped hundreds since the early 1990s to extract ransoms Philippine troops and police battled dozens of gunmen protecting one of the world's most wanted Islamic militants in a built-up area of a southern city on Tuesday, authorities said. At least one policeman was killed in the hunt for Isnilon Hapilon, a leader of the infamous Abu Sayyaf kidnap gang and Philippine head of the Islamic State group, according to Philippine military chief of staff General Eduardo Ano. The fighting took place in Marawi, a mostly Muslim-populated city of about 200,000 people on the southern island of Mindanao, with the gunmen attacking a hospital during the clashes, Ano told CNN Philippines. \"Please advise people to stay inside their houses. We will clear the area,\" Ano said. He said the fighting began when police and troops raided a house on Tuesday afternoon where Hapilon, the subject of a US State Department bounty of $5 million, was believed to be hiding. This triggered fierce clashes throughout the afternoon and into the evening, with Ano estimating there were about 50 gunmen. Photos posted on social media by Marawi residents showed the gunmen walking through the streets of Basak, a Marawi suburb of about 1,700 people. A woman who asked not to be named told AFP by text that she saw about 10 armed men take up positions at the gate of a government hospital. Police clashed with the gunmen near the hospital, leaving one officer seriously wounded and one of the extremists dead, she added. The military said it could not confirm the militant's death. Ano said eight security personnel had been injured in the clashes. - Deadly history - The Abu Sayyaf, based on the most southern islands of Mindanao, has kidnapped hundreds of Filipinos and foreigners since the early 1990s to extract ransoms. The militants beheaded an elderly German early this year and two Canadians last year after ransom demands were not met. It has also been blamed for the country's worst terrorist attacks, including the 2004 bombing of a ferry in Manila Bay that claimed more than 100 lives. The US State Department bounty for Hapilon was offered following alleged terrorist acts against US citizens, including the 2001 kidnapping of three Americans in the western Philippines -- two of whom were later killed. Security analysts say Hapilon has been trying to unite Filipino militant groups that have professed allegiance to IS. These include the Maute group, which is based near Marawi, hundreds of kilometres to the north of the Abu Sayyaf strongholds. The Maute group has engaged in repeated deadly battles with the military over the past year in rural areas around Marawi. The International Committee of the Red Cross, which has an office near Marawi and operates in the area, voiced alarm that civilians may get caught up in the fighting. \"We are extremely concerned about the impact of the ongoing hostilities in Marawi City on the civilians,\" the head of the ICRC's Philippine delegation, Pascal Porchet, said in a statement. \"We urge all parties to the conflict to spare civilians and respect civilian property, such as hospitals and schools, in fulfullment of their obligations to respect international humanitarian law.\" The Marawi fighting came six weeks after the military foiled a mass kidnapping attempt by the Abu Sayyaf on the central resort island of Bohol. The US and other Western governments warned this month that terrorists plan to kidnap foreigners in tourist hotspots across the central and western Philippines. Sorry we are not currently accepting comments on this article. Published by Associated Newspapers Ltd Part of the Daily Mail, The Mail on Sunday & Metro Media Group\n",
      "Unable to reach website.\n",
      "Martin Petty and Manuel Mogato 4 Min Read MANILA (Reuters) - Philippine President Rodrigo Duterte cut short a visit to Russia and imposed martial law on the island of Mindanao on Tuesday after a fierce bout of fighting erupted during a raid by security forces at a hideout of Islamic State-linked militants.  Two soldiers and a policeman were killed and 12 wounded amid chaos in Marawi, a predominantly Muslim city of about 200,000 people, where members of the Maute militant group took control of buildings and set fire to a school, a church and a detention facility.  Duterte, a native of Mindanao, canceled a meeting set for Wednesday with Russian Prime Minister Dmitry Medvedev. Tass news agency said President Vladimir Putin would see him before his departure Tuesday night, instead of on Thursday as planned.   \"The government is in full control of the situation and is fully aware that the Maute/ISIS and similar groups have the capability, though limited, to disturb the peace,\" presidential spokesman Ernesto Abella told a news conference in Moscow.  The Maute and Abu Sayyaf militant groups have pledged allegiance to Islamic State, also known as ISIS, and have proved  fierce opponents for the military as Duterte seeks to crush extremists and prevent radical Islamist ideology from spreading in the Philippines.  Abella said the militants \"have shown no hesitation in causing havoc, taking innocent lives and destroying property.\"  Duterte has warned repeatedly that Mindanao, an impoverished, restive region the size of South Korea, was at risk of \"contamination\" by Islamic State fighters driven out of Iraq and Syria.  Brigadier General Rolando Bautista, commander of the Philippines' First Infantry Division, said security forces were trying to locate militants who had scattered everywhere and were blocking reinforcements from arriving.  \"There are more or less 100, divided into groups of 10 in different locations,\" Bautista told news channel ANC.  \"Since they are advocating ISIS ideology they have to show ISIS that they are a force to be reckoned with.\"  Defence Secretary Delfin Lorenzana said and some 1,000 soldiers would be in Marawi by morning, but warned civilians to stay in their homes.  \"There are Maute snipers all around, so the troops are still holding and elements have already joined,\" he said.  The purpose of Tuesday's raid was to capture Isnilon Hapilon, a leader of the Abu Sayyaf group which is notorious for piracy and for kidnapping and beheading Westerners. The U.S. State Department has offered a bounty of up to $5 million for Hapilon's arrest.  The military has not explained how the raid on an apartment turned into urban warfare that was still raging 12 hours later.  The incident highlights the challenges facing Duterte, who has pleaded with separatists and moderate Muslims in the predominantly Catholic nation to shun Abu Sayyaf and Maute.   He has threatened several times to declare martial law in Mindanano, and deliver a \"harsh\" crackdown. Martial law will apply for 60 days.  The government has blamed the Maute for a bombing in September 2016 at a street market in Duterte's hometown of Davao City, which killed 14 people and wounded dozens.  Maute fighters took over a disused building in the region in November and endured five days of military air and ground assaults before fleeing, with 61 fighters killed.  Editing by Mark TrevelyanEditing by Mark Trevelyan All quotes delayed a minimum of 15 minutes. See here for a complete list of exchanges and delays. © 2017 Reuters. All Rights Reserved.\n",
      "  Security analysts say Isnilon Hapilon, a leader of the infamous Abu Sayyaf kidnapping-for-ransom gang, has been trying to unite militant groups that have professed allegiance to IS.  MANILA: Philippine security forces hunting one of the world’s most-wanted Islamist militants were battling gunmen in a southern city on Tuesday, authorities said. Isnilon Hapilon, a leader of the infamous Abu Sayyaf kidnapping-for-ransom gang who the Islamic State group has appointed its Philippine chief, was believed to be among those fighting police and soldiers in Marawi city, regional military spokeswoman Captain Jo-Ann Petinglay told AFP. “Right now we are conducting a surgical operation,” Lieutenant-Colonel Jo-ar Herrera, spokesman for the army division involved in the fighting, told AFP by phone. Herrera said five security personnel had been injured, although he did not know if there were any casualties among the estimated 15 gunmen. Herrera and other military officials said Hapilon was the target of the operation, which took place in the residential area of Basak, a suburb of about 1,700 people in the mainly Muslim southern city of Marawi. The Abu Sayyaf, based in the southern region of Mindanao, has kidnapped hundreds of Filipinos and foreigners since the early 1990s to extract ransoms. The militants beheaded an elderly German and two Canadians last year after ransom demands were not met. It has also been blamed for the country’s worst terrorist attacks, including the 2004 bombing of a ferry in Manila Bay that claimed more than 100 lives. The US State Department has a put up a $5-million bounty on Hapilon’s head for alleged terrorist acts against US citizens, including the 2001 kidnapping of three Americans in the western Philippines, two of whom were later killed. Security analysts say Hapilon has been trying to unite militant groups that have professed allegiance to IS. These include the Maute group, which is based near Marawi in central Mindanao. The Maute group has been the subject of military operations in the past year in rural areas around Marawi, a city of about 200,000 residents that is located 800 kilometres (500 miles) south of the Philippine capital Manila. “Our objective is to neutralise Hapilon, who is reported to be in the area, and the Maute core group,” Petinglay told AFP, adding the operation began at 2:00 pm (0600 GMT) and was continuing. “These are all high-value targets, so you can say this is a major operation,” she said, adding the estimated 15 suspects were armed with high-powered rifles. An army brigade comprising at least a thousand troops were involved in the operation, she said. Readers are required to have a valid Facebook account to comment on this story. We welcome your opinions to allow a healthy debate. We want our readers to be responsible while commenting and to consider how their views could be received by others. Please be polite and do not use swear words or crude or sexual language or defamatory words. FMT also holds the right to remove comments that violate the letter or spirit of the general commenting rules.The views expressed in the contents are those of our users and do not necessarily reflect the views of FMT. special  Home | About Us | Disclaimers / Copyright | Advertise | Contact Us | Copyright (C) 2009-2016 MToday News Sdn. Bhd. All Rights Reserved.  \n",
      "\n",
      "  \n",
      " \n",
      "\n",
      " \n",
      "\n",
      " \n",
      "\n",
      " \n",
      " \n",
      "\n",
      "\n",
      " \n",
      " \n",
      " \n",
      "  \n",
      "  \n",
      "  By Francis T. Wakefield\n",
      "\n",
      "Fresh clashes erupted Tuesday afternoon between government troops and joint forces of the Maute Group and Abu Sayyaf Group (ASG), under Isnilon Hapilon, in Marawi City, the military said. Map of Marawi City.Wikipedia | mb.com.ph Map of Marawi City.Wikipedia | mb.com.ph Lt. Col. Jo-Ar Herrera, the spokesman of the Army’s 1st Infantry Division (1ID), said the gun battle erupted at 2 p.m. in Barangay Basak, Malulut, Marawi. Residents reportedly identified the gunmen as core group members of the Maute Group, said Herrera. He added that ASG leader Hapilon was seen with the group. Hapilon was earlier reported wounded seriously in the airstrikes in Butig, Lanao del Sur, last January. “Initially, what they (residents) saw were 15 members of the armed group. Allegedly Isnilon Hapilon is also there. So our operation is centered on a high-value target,” said Herrera, adding that the military has launched operations to neutralize the group. However, he said that they have yet to get details on their men on the ground if the enemy sustained any casualties, stressing that the firefight was on-going as of press time. Latest reports from the ground said five troopers have been wounded. They are undergoing treatment. Herrera said has yet to receive verification that members of the Maute Group had raised an ISIS flag at the Amai Pakpak Medical Center during the attack. “We have not received any report regarding that,” he said. Meanwhile, AFP spokesman Brig. Gen. Restituto Padilla said that contrary to various reports circulating, the AFP and Philippine National Police (PNP) initiated this operation in Marawi. “We received reliable information on Hapilon and a number of his cohorts. Updates to follow as the operation is still ongoing,” Padilla said. “Please do not believe propaganda from other groups,” he added. Tags: Abu Sayyaf Group, government troops, ISIS, Manila Bulletin, Marawi city, Maute ASG gunmen clash with troops in Marawi; 5 soldiers wounded, Maute Group put snipers and SOF ….this time no mercy… Nagkakagulo na sa bansa.. Pasyal pa ng Pasyal ang Gagong Presidente.. cge Russia pa more.. sama po pa anak mong ulol.. lustayin nyo pera ng bansa mga puking ina nyo!!!\n",
      " Photos uploaded on ISIS Live Map show Maute jihadists during the May 23, 2017 Marawi City siege. (Mindanao Examiner)   MARAWI CITY – Members of the jihadist Maute group have occupied several areas in Marawi City in the restive province of Lanao del Sur sparking sporadic clashes with army soldiers. The jihadists hoisted ISIS flags at a hospital and several establishments here and even used a police car with the Daesh flag to block a road. Several civilians and soldiers, including a policeman, were reported wounded or killed in the fighting, but local security officials did not release a statement on the clashes. The 103rd Infantry Brigade also did not issue any statement or reports over the daring attacks by the Maute fighters, whose group has pledged allegiance to the ISIS, and vowed to establish a caliphate in the troubled region. But by evening, the Western Mindanao Command military headquarters in Zamboanga City said troops clashed with about 15 gunmen in the village of Basak. It said the fighting erupted after Maute members attacked security forces sent to the area following intelligence reports that gunmen were hiding in the village. However, locals said there were dozens of Maute members scattered in the villages. A building was also set on fire and electricity cut off and making it extremely difficult for security forces to pursue the militants here.  And the local mayor Majul Gandamra, who is holed out with his security personnel at the City Hall building, said there were no soldiers and policemen in areas where the militants were. He said he asked the military and police for assistance to help protect City Hall, but no soldiers arrived.  Army Captain Jo-ann Petinglay, a spokeswoman for the Western Mindanao Command, said sympathizers of the Maute group also attacked soldiers triggering a gun battle. “Government forces were able to contain majority of the militants in one area however, some of their sympathizers conducted diversionary tactics in other locations to divide the attention of the reinforcing military personnel,” she said, adding, by dusk, operations against the armed group were continuing. “Operations are still ongoing and other details cannot yet be revealed so as not to compromise operational security,” Petinglay said, who also urged locals to refrain from uploading photos or video clip of soldiers pursuing the militants. “We urge all peace loving people to refrain from posting in social media information that would tend to exacerbate the situation. Especially photos and videos on the movements of our troops and on terrorist propaganda circulating through social media,” she said. Regional Governor Mujiv Hataman has condemned “these acts of terror” and said the government stands in solidarity with Marawi “in thee dark times.”  Words might seem useless right now, as no words can express what we feel as we share in the fear and anger of our people. We strongly condemn these acts of terror committed against the people of Marawi City and swear to take immediate action as necessary. Marawi City is known as the Philippines’ Islamic City, but it is home to people of different histories, different beliefs. That these acts of terror are happening in a diverse community bound by mutual respect and a shared commitment to peace is a travesty.” “Any group who sows terror and then dares to say that they do it in the name of Islam should be ashamed. Any man who claims to fight for a just cause, yet dares to incite violence a few days before the Holy Month of Ramadhan is a monster whose words belie his actions. The regional government stands in solidarity with the city of Marawi in these dark times. We have won many struggles together and we will stop at nothing to bring these terrorists to justice and win back the peace in your beloved city and in the Bangsamoro,” Hataman said. Abu Sayyaf chieftain Isnilon Hapilon, who is also the titular head of the local ISIS group, was spotted along with a group of jihadists. Hapilon was first reported by the military to have been either killed or wounded in clashes last year with security forces in nearby Butig town. This was not the first time jihadists had launch attacks against security forces right in the heart of Marawi. There had been previous Maute offensives that military and police failed to prevent. The siege lasted for several hours. Photos and video clip of the siege were also posted by locals on their social media account and ISIS Live Map also uploaded pictures on the Internet showing heavily-armed jihadists clad in black robe walking the streets of Marawi. One of them even spoke on a bullhorn as he walked the street while locals listen nervously. No one dared to stop the jihadist. (Mindanao Examiner. With a report from Moh Saaduddin.)   Like Us on Facebook: https://www.facebook.com/mindanaoexaminer\n",
      "Follow Us on Twitter: https://twitter.com/MindanaoExamine\n",
      "Read Our News on: http://www.mindanaoexaminer.com /http://mindanaoexaminernewspaper.blogspot.com/\n",
      "Share Our News\n",
      "Digital Archives: issuu.com/mindanaoexaminernewspaper\n",
      "\n",
      "2,273 total views, 12 views today\n",
      "\n",
      "\n",
      "\n",
      "You may also like:\n",
      "\n",
      "\n",
      "Abu Sayyaf sub-leader killed in Tawi-Tawi\n",
      "\n",
      "ARMM, PEZA get help from US Halal Chamber of Commerce in exploring US halal market\n",
      "\n",
      "Hydrogen cylinder explodes near house of presidential daughter in Davao City\n",
      "\n",
      "Saudi OFWs thank Duterte for visiting them\n",
      "\n",
      "Zambo, naghigpit ng seguridad!\n",
      "\n",
      "Davao police kill man, yields explosive, grenades\n",
      "\n",
      "Cotabato City wants all motorbikes registered\n",
      "\n",
      "Gunmen kill diner, injures woman in Maguindanao resto shooting\n",
      "\n",
      "\n",
      "\n",
      "\n",
      "Posted in:  Featured, Headlines, Mindanao Post\n",
      "\n",
      "\n",
      "\n",
      "Tags:\n",
      "Aiza Seguera,Alden and Maine,Aquino,ARMM,ARMM-Heart,Asia,Ban Ki-moon,Bangsamoro Basic Law,basilan,BBL,Beng Climaco,Benigno Aquino,Brexit,Cagayan de Oro,Canada,Cannibalism in Philippines,Caraga,Celso Tizon,Central Intelligence Agency,Charice Pempengco,CIA,Communist Party of the Philippines,Comprehensive Agreement on the Bangsamoro,CPP,CPP-NPA,CPP-NPA-NDFP,Daniel Padilla,Datu Saudi Ampatuan,Datu ShahBandar,Davao City Bombing,Delfin Lorenzana,Dipolog,Donald Trump,Du30,Duterte,Edgar Matobato,ESSCOM,FAO,Featured,Food and Agricultural Organization,Hadar Hajiri,Headlines,Health Organization of Mindanao,Hilary Clinto,Hilary Clinton,HOM,Hugpong Federal Movement,Iglesia ni Cristo,Indonesia,ISIS,Jadine,Jakarta,Japan,Jesus Dureza,Jesus Miracle Crusade,Kathryn Bernardo,Khilafa Islamiya Movement,Kivlan Zein,Kjartan Sekkingstad,Kris Aquino,Lanao del Norte,Lanao Norte,Lanao Sur,Leila de Lima,Leni Robdredo,Leni Robredo,Lucky and Angel Locsin,Luzon,Maguindanao,Malaysia,Marawi,Marian Rivera,Maute,Mayor Samsudin Dimaukom,Michael Meiring,Middle East,MILF,Mindanao,Mindanao Examiner Podcast,Mindanao Number 1 Newspaper,Mindanao Post TAGS: Abu Sayyaf,Misamis,Mohammad Venizar Julkarnain Jainal Abirin,Moro Islamic Liberation Front,Muedzul-Lail Tan Kiram,Muizuddin Jainal Abirin Bahjin,Mujiv Hataman,Murad Ebrahim,Myrna Jo Henry,Nadine Lustre,Norway,NSA,Nur Misuari,OFWs,Ozamis,Pagadian,Paolo Duterte,Pentagon,Philippine media,putin,Radio Mindanao,Radyo Mindanao,Ramil Masukat,Rodrigo Duterte,Royal Council of the Sulu Sultanate,Sabah,Sabal,Sakur Tan,Salvador Panelo,Samal Island,Sasa Wharf,Saudi Arabia,Siegfried Red,State of lawless Violence,Sultan of Sulu,Sultans Ibrahim Bahjin,Sulu,Syria,Tawi-Tawi,The Mindanao Examiner Regional Newspaper,Totoh Tan,UK,UNICEF,United Nations,US,US Embassy,US forces,Vic Sotto,Vice Ganda,Virgilio dela Cruz,Visayas,Washington,Widodo\n",
      "\n",
      "\n",
      " 2,273 total views, 12 views today Name *\n",
      " Email  *\n",
      " Website\n",
      " Your Comments \n",
      "\n",
      " \n",
      "\n",
      "\n",
      " − \n",
      "2\n",
      " = \n",
      "\n",
      "\n",
      "\n",
      "\n",
      "\n",
      "\n",
      "\n",
      "\t\t\t\t\t\t\t.hide-if-no-js {\n",
      "\t\t\t\t\t\t\t\tdisplay: none !important;\n",
      "\t\t\t\t\t\t\t}\n",
      "\t\t\t\t\t\t\n",
      "\n",
      "\n",
      " \n",
      "\n",
      "\n",
      " − \n",
      "2\n",
      " = \n",
      "\n",
      "\n",
      "\n",
      "\n",
      "\n",
      "\n",
      "\n",
      "\t\t\t\t\t\t\t.hide-if-no-js {\n",
      "\t\t\t\t\t\t\t\tdisplay: none !important;\n",
      "\t\t\t\t\t\t\t}\n",
      "\t\t\t\t\t\t\n",
      "\n",
      "\n",
      " The Mindanao Examiner Regional Newspaper July 17-23, 2017 For all your publication needs and advertisements, please call Sales and Advertising Department at telephone numbers … Full article\n",
      "\n",
      " The Mindanao Examiner Regional Newspaper July 10-16, 2017 For all your publication needs and advertisements, please call Sales and Advertising Department at telephone numbers …\n",
      "\n",
      "\n",
      "Unable to reach website.\n",
      "Share Manila (AFP) - Philippine troops and police battled dozens of gunmen protecting one of the world's most wanted Islamic militants in a built-up area of a southern city on Tuesday, authorities said. At least one policeman was killed in the hunt for Isnilon Hapilon, a leader of the infamous Abu Sayyaf kidnap gang and Philippine head of the Islamic State group, according to Philippine military chief of staff General Eduardo Ano. The fighting took place in Marawi, a mostly Muslim-populated city of about 200,000 people on the southern island of Mindanao, with the gunmen attacking a hospital during the clashes, Ano told CNN Philippines. \"Please advise people to stay inside their houses. We will clear the area,\" Ano said. He said the fighting began when police and troops raided a house on Tuesday afternoon where Hapilon, the subject of a US State Department bounty of $5 million, was believed to be hiding. This triggered fierce clashes throughout the afternoon and into the evening, with Ano estimating there were about 50 gunmen. Photos posted on social media by Marawi residents showed the gunmen walking through the streets of Basak, a Marawi suburb of about 1,700 people. A woman who asked not to be named told AFP by text that she saw about 10 armed men take up positions at the gate of a government hospital. Police clashed with the gunmen near the hospital, leaving one officer seriously wounded and one of the extremists dead, she added. The military said it could not confirm the militant's death. Ano said eight security personnel had been injured in the clashes. - Deadly history - The Abu Sayyaf, based on the most southern islands of Mindanao, has kidnapped hundreds of Filipinos and foreigners since the early 1990s to extract ransoms. The militants beheaded an elderly German early this year and two Canadians last year after ransom demands were not met. It has also been blamed for the country's worst terrorist attacks, including the 2004 bombing of a ferry in Manila Bay that claimed more than 100 lives. The US State Department bounty for Hapilon was offered following alleged terrorist acts against US citizens, including the 2001 kidnapping of three Americans in the western Philippines -- two of whom were later killed. Security analysts say Hapilon has been trying to unite Filipino militant groups that have professed allegiance to IS. These include the Maute group, which is based near Marawi, hundreds of kilometres to the north of the Abu Sayyaf strongholds. The Maute group has engaged in repeated deadly battles with the military over the past year in rural areas around Marawi. The International Committee of the Red Cross, which has an office near Marawi and operates in the area, voiced alarm that civilians may get caught up in the fighting. \"We are extremely concerned about the impact of the ongoing hostilities in Marawi City on the civilians,\" the head of the ICRC's Philippine delegation, Pascal Porchet, said in a statement. \"We urge all parties to the conflict to spare civilians and respect civilian property, such as hospitals and schools, in fulfullment of their obligations to respect international humanitarian law.\" The Marawi fighting came six weeks after the military foiled a mass kidnapping attempt by the Abu Sayyaf on the central resort island of Bohol. The US and other Western governments warned this month that terrorists plan to kidnap foreigners in tourist hotspots across the central and western Philippines. Share Sorry, we can't show this content as your browser does not support iframes. \n",
      "                     Father-of-seven allegedly stabbed six times coming to aid of two women\n",
      "                  \n",
      "                     Four men from inter-state in police custody after unidentified woman in her 20s found dead in shower.\n",
      "                  \n",
      "                     Unconscious rock climber hanging upside down off Mount Maroon in 58-minute rescue.\n",
      "                  \n",
      "                     Fans of Perth man at large after Bali breakout urged to 'fund a fugitive'\n",
      "                 \n",
      "\n",
      "By Ver Marcelo, CNN Philippines\n",
      " Updated 23:06 PM PHT Tue, May 23, 2017 (CNN Philippines, May 23) — Government forces clashed with members of the rebel group Maute in Marawi City, Lanao del Sur on Tuesday. Reports said armed men have taken over the Amai Pakpak Medical Center, with the group allegedly replacing the Philippine flag with a black flag, supposedly representing the Islamic State (ISIS). They have also reportedly blocked checkpoints in the vicinity. Armed Forces of the Philippines (AFP) First Infantry Division Spokesman Lt. Col. Jo-Ar Herrera said the firefight started 2 p.m. at Barangay Basak Malutlut. \"Nakatangap po tayo ng report from the community, meron silang nakitang mga armado...na-check po natin na ito pala yung ano, yung core group ng Maute, so nag-launch po tayo ng surgical operation para i-neutralize 'yung grupo na may planong mag-ano ng terorismo sa Marawi City,\" Herrera said. [Translation: We received a report from the community, they saw armed men…we checked that this is the core group of Maute, so we launched a surgical operation to neutralize the group planning to incite terrorism in Marawi City.] He added Abu Sayyaf leader Isnilon Hapilon was among the 15 armed men seen in the area. Herrera said while firefight has ended, clearing operations are still ongoing, as at least five members of the government force sustained injuries. Redoble Adonis of Camp Ranao said a group inspired by ISIS attacked the 103rd Brigade, situated at Camp Ranao in Marawi City. \"The AFP members directly blocked their way resulting to exchange of fire. Accordingly, not less than 500 members of Maute (Isis) tried to penetrate the camp. GT Marawi situated at Campo Ranaw, Marawi City is about 300 meters from the place of the attacked,\" Adonis said. However, AFP spokesman Brig. Gen. Restituto Padilla said a combined military and police force initiated the operation in Marawi. \"We received reliable info on Hapilon and a number of his cohorts. Updates to follow as the operation is still ongoing,\" Padilla said. Marawi City Mayor Majul Gandamra told CNN Philippines' News Night the hospital under siege is just about 2 km away from the city hall. \"Right now, based on initial information, no casualties reported...we are coordinating with the military, wala po silang casulaties na sinabi,\" Gandamra said. There are eyewitness reports that the Marawi City Jail and the Dansalan Junior College were on fire. \n",
      "\n",
      "Fire hits SM City North EDSA\n",
      "\n",
      " \n",
      "Opposition gives assessment ahead of Duterte's SONA\n",
      " \n",
      "Lorenzana: I submitted martial law recommendation to Duterte\n",
      " \n",
      "AFP: Duterte to decide on martial law extension before deadline\n",
      " \n",
      "Apple iPhone sales top expectations\n",
      "  800   © 2015 Nine Media Corp. CNN name, logo and all associated elements ™ and © 2015 Cable News Network. Turner Broadcasting System, Inc. All rights reserved. CNN and the CNN logo are registered marks of Cable News Network, Inc., displayed with permission.\n",
      "No text returned\n",
      "MARAWI. Armored personnel carrier are deployed by the Philippine Army in a firefight in barangay Caloocan, Marawi City, Tuesday, May 23. (Photo courtesy of AFP) (UPDATED) -- Two soldiers and one policeman were reported killed, while 12 others were injured, during a firefight between government forces and members of the Maute terror group on Tuesday afternoon, May 23, Defense Secretary Delfin Lorenzana said. Armed Forces of the Philippines spokesperson Brigadier General Restituto Padilla said that the ongoing clash in Marawi City, Lanao Del Sur is aimed at neutralizing Abu Sayyaf leader Isnilon Hapilon, who was spotted along with an estimated 15 followers in the area. \"The military operation focus on the alleged presence of Isnilon Hapilon with the 15 fully armed Maute group who occupied an apartment as their rendezvous in Marawi City,\" Philippine Army 1st Infantry Tank Division spokesperson Colonel Jo-ar Herera said. READ: Duterte declares martial law in Mindanao Hapilon is reportedly the representative of the Islamic State in Iraq and Syria (Isis) terror group in the Philippines.  Lorenzana also confirmed that Maute bandits began occupying some establishments in the city like Amai Pakpak Medical Center, the City Hall, and the city jail. He also verified that the church, city jail, Ninoy Aquino School and Dansalan College have been set on fire by the group. “As of tonight (Tuesday, May 23), the Maute group burned several facilities – the church, city jail, the Ninoy Aquino School and the Dansalan College. The Maute fighters still occupy also the main street of Marawi city called the Quezon Street and two bridges,” Lorenzana said. Senior Superintendent Oscar Nantes, Lanao del Sur police provincial director, said the fighting erupted when the Maute group opened fire on personnel from the military’s 103rd Brigade. \"When the firefight ensued, there were reported re-enforcement from the symphatizers of Maute where pocket firefight erupted in nearby areas,\" Hererra said. READ: AFP: Operations, firefight in Marawi City continues Police said the fighting erupted around 3 p.m. in the villages of Caloocan and Basak Malutlut, near the Lanao del Sur police provincial command and Mindanao State University. The fighting reportedly sent thousands of residents fleeing while others were locked inside their homes. It happened about two days before the start of the fasting month of Ramadhan. Chief Superintendent Reuben Sindac, Philippine National Police-Autonomous Region in Muslim Mindanao (Armm) regional director based, said all police units across Lanao del Sur have been placed on heightened alert against the possible spillover of the fighting. Armored personnel carriers backed the ground troops in fighting the Maute Group members, Nantes said. READ: Oro under full alert after Marawi City clash As of 4 p.m., Tuesday, two Air Force planes dropped several bombs in selected areas of Marawi City, particularly in the border with Lanao del Sur beside Lake Lanao. Gunshots could still be heard in the heart of Marawi City, according to Zia Alonto Adiong, an Armm lawmaker and a resident of Marawi City. He appealed for residents to stay home. In the nearby City of Iligan, the police said all entry and exit points in the city are now locked down. Full alert status are being raised. The clashes erupted while Muslims are preparing to start the fasting month, which is expected to begin this Friday with the possible sighting of the moon on Thursday night, May 25. On November 28, 2016, President Rodrigo Duterte revealed the link between the Maute group to Isis after the encounter between the military and the Maute group in Lanao del Sur. READ: Duterte: Isis now connected with Maute group The clash occurred on November 26, 2016 in Butig town, Lanao del Sur where the Maute group occupied and raised the black flag of the Isis at the abandoned municipal hall of the town. At least 20 soldiers were wounded and some 35 Maute group members were killed in the clash. (SunStar Philippines/PNA/With Ruth Abbey Gita/And Richel V. Umel/Divina Morgia Suson/SunStar Cagayan de Oro) Related articles  DISCLAIMER:  SunStar website welcomes friendly debate, but comments posted on this site do not necessary reflect the views of the SunStar management and its affiliates. SunStar reserves the right to delete, reproduce or modify comments posted here without notice. Posts that are inappropriate will automatically be deleted.Forum rules: Do not use obscenity.  Some words have been banned. Stick to the topic.  Do not veer away from the discussion.  Be coherent and respectful. Do not shout or use CAPITAL LETTERS!  All rights reserved. SunStar Publishing, Inc. \n",
      "COTABATO CITY (MindaNews/23 May) — Suspected members of the Maute group ambushed Tuesday troops from the 1st Infantry Division and policemen in downtown Marawi City and took control of parts of the area causing panic among residents. Retired colonel Tatar Boriongan, Lanao Del Sur Provincial Disaster Risk Reduction and Management Office chief said the clash erupted around 2pm at the lower portion of the Mindanao State University Compound in Marawi City’s Basak Malulut village. “Civilians now are in panic, there is tension in many corners of the downtown area, so we advised the public to stay in their houses as situation is still unpredictable,” Boriongan said. He said even their team could not get out of the office due to reports that the Maute group had put up checkpoints. He added they were still trying to ascertain if there had been civilian casualties. Lt. Col. Joar Herrera, spokesperson of the 1st Infantry Division said they conducted law enforcement operation on Tuesday afternoon together with police forces in the province in response to reports that suspected terrorists led by Abu Sayyaf leader Isnilon Hapilon were conducting community organizing among residents. But upon reaching Basak Malulut gunfire greeted the government forces forcing them to fire back, Herrera said. As of Tuesday afternoon there were no reports of casualties on either side. The armed group has reportedly taken control of Barangays Saber, Sarimanok, Mapandi, Amai Pakpak, the area near the provincial jail, Malutlut, and Calookan. Resident Norhanidah Macatoon posted on Facebook photos seemingly grabbed from a CCTV footage in her house, of armed men with high-powered firearms wearing camouflage parading near Masjid Abubakar Markaz where the heavy clash took place. “Allahu Akbar! Brothers and Sisters please stay in your houses,” she said. A flag of the Islamic State of Iraq and Syria (ISIS) was hoisted inside Amai Pakpak Hospital, which is near the city hall and the Army’s brigade station, a report confirmed by the Autonomous Region in Muslim Mindanao Humanitarian Emergency Action Response Team (ARMM-HEART). “It caused panic (among) civilians inside the hospital but none of them was used as shields by the armed group. They only raised the black flag there,” said Abul Alibasa, a resident of Marawi city who is monitoring the developments. “There is also violence happening near Haifah Palace of Calookan of Marawi city,” Alibasa said. “All of the physicians and nurses on duty there are safe and okay per our communication. Employees are in hiding. May mga sundalo na daw duon sa may (There are soldiers at the) gate. Sana manegotiate nila (I hope they can negotiate) peacefully. Please spare the hapless patients at the hospital,” said Omai Atar, wife of Marawi’s sultan and an employee of Amai Pakpak hospital. She said it would appear that the attacks in various parts of the city were simultaneously done. “I heard bombs and gunfire. The ISIS flag was raised in our hospital,” Dr. Sainuddon Moti said. When asked how many patients were inside the hospital, he could not give a figure. “But they are okay, they are okay,” assured Atar. The movement of the armed group within the city caused traffic congestion, said Drieza Lininding on Facebook. “The Marawi City jail is also under siege. Oh my Allah, spare my family and relatives from any harm,” Lininding added. Maulana Macadato, who was inside his residence during the siege, was able to take hold of an ISIS flag carried by the group. He said it would appear that the attackers were controlling the traffic. “Meanwhile, as conflict escalates, we also have power interruption,” said Javier Alonto, another resident. Some teachers were able to get out of MSU and flee to Iligan City, about 40 kilometers away from Marawi. Calls for peaceful resolution Several Maranaos living in Marawi and other areas posted #savemarawi and #prayforMarawi on social media to call attention to the situation. Mino Macalandap, a residenti, posted: “It may have gone beyond man’s control. I can only offer my prayers for my Ranao.” Akram Latip, a native of Lanao Sur, opined: “The best solution for Marawi City now is for the AFP to disengage the ISIS Group. If they push through with the military operation the city will be left with total destruction. Let the Local Executives, Ulama, Elders and other influential people talk with the ISIS Group and allow them to leave in peace. That’s the best way to protect the civilians and avoid more casualties and destruction.” “Please keep the civilians safe in Marawi City. I call on the government to help the civilians evacuate the area safely. Many of the students are trapped in their schools, among them are my relatives. I pray to Allah swt to please keep them safe from harm,” said Maisara Damdamun, a commissioner of the Bangsamoro Transition Commission. “As the city becomes a battleground between armed groups and government forces, the Iligan-Marawi highway has been closed, prompting fears of a food shortage. I fear for the women and children who might be caught in the crossfire. And I pray for the safety and protection of MSU students, faculty, administration officials and staff and their families, and other residents there. May this disturbance be a short one,” said James Mante, an alumnus of MSU. Others posted tips on how to keep themselves safe. “Let us all pray for the fast resolution of the crisis,” Marawi-based lawyer Adom Macarambon pleaded. Fear and anger ARMM Governor Mujiv Hataman called for an emergency meeting and activated a technical management group monitoring developments in Marawi. In a statement Tuesday, Hataman said “the regional government of the Autonomous Region in Muslim Mindanao has been receiving reports of firefighting across Marawi City between an unidentified group of armed men and government security forces. “Words might seem useless right now, as no words can express what we feel as we share in the fear and anger of our people. We strongly condemn these acts of terror committed against the people of Marawi City and swear to take immediate action as necessary. “Marawi City is known as the Philippines’ Islamic City, but it is home to people of different histories, different beliefs. That these acts of terror are happening in a diverse community bound by mutual respect and a shared commitment to peace is a travesty. “Any group who sows terror and then dares to say that they do it in the name of Islam should be ashamed. Any man who claims to fight for a just cause, yet dares to incite violence a few days before the Holy Month of Ramadhan is a monster whose words belie his actions. “The regional government stands in solidarity with the city of Marawi in these dark times. We have won many struggles together and we will stop at nothing to bring these terrorists to justice and win back the peace in your beloved city and in the Bangsamoro.” ‘Contained’ In a statement Tuesday, the Armed Forces’ Western Mindanao Command identified the attackers as members of the Maute group. “At 5pm, government forces were able to contain majority of the militants in one area, however, some of their sympathizers conducted diversionary tactics in other locations to divide the attention of the reinforcing AFP personnel. “Operations are still ongoing and other details cannot yet be revealed so as not to compromise operational security.” Wesmincom urged people not to post on social media “information that would tend to exacerbate the situation. Especially photos and videos on the movements of our troops and on terrorist propaganda circulating through social media.” “We will provide pertinent updates as soon as advisable,” it added. The Maute group, which has claimed to embrace the ISIS cause, has been the target of military and police operations in recent months in Butig and Piagapo towns in Lanao del Sur. (Ferdinandh Cabrera and Violeta M. Gloria/MindaNews)  comments The room is smoky, but greater than cigarettes, it’s the odor of money that fills the air.\n",
      "Despite the fact that the PSL web site has not launched the schedule for the qualification video\n",
      "games, the deadline to use as a participant is coming to an finish\n",
      "and among the poker teams have already been offered to distinguished\n",
      "businesspersons. Vishaal: I liked Rounders with\n",
      "Matt Damon and Edward Norton-very strong solid and great storyline about the ups and down in the life of a poker player.\n",
      "The reason being is it will get overshadowed by Bebo Texas Maintain Em and Facebook Texas Hold Em. Both of those social networks have hundreds of thousands of players participating in their\n",
      "poker rooms. In seven-card variants of poker, palms with one pair are actually\n",
      "extra widespread than palms without pairs. All in all, the authorized situation referring to using\n",
      "online gambling sites in India is decidedly unclear. I began to dissect the pure deterministic mechanics from the game and the probabilistic mechanics from the sport.\n",
      "The main cause they’re enjoyable the nation’s rules is because the\n",
      "gaming business brings in important income for India.\n",
      "Moreover overlaying the extra common games, I’ve rules for a few of the more exotic poker variants.\n",
      "The way tournaments (a minimum of Hold`em tournaments,\n",
      "which are in all probability what you will be taking part in), progress in direction of a winner is with pressured blinds that gamers need to put into\n",
      "the pot each spherical, amounts that rise incrementally because the tournament goes on. You want to begin with smallish blinds,\n",
      "so that individuals have time to indicate off their\n",
      "poker skills earlier than the blinds get too large. Taxation, cash laundering and fee gateways issues\n",
      "must even be taken care of by these proposing to open on-line poker web sites in India. The play by Jay Farber in this hand was not solely probably the most daring and great strikes in poker play but additionally exhibits the importance of bluffing and\n",
      "the skill behind it. So if its poker and different gaming\n",
      "that interests you, Panjim is the ideal place to stay given its\n",
      "proximity to those venues. A Fast Play possibility is now out there for\n",
      "individuals trying to get into video games quicker. As a beginner you would not have to be bothered or embarrassed of the mistakes that\n",
      "you make, when you play poker. In draw poker each participant is given a starting hand (normally\n",
      "five cards, in some instances 4), and has the opportunity to exchange some\n",
      "of his or her cards for brand new ones (that is, draw from the deck) before the showdown. This is the subsequent best hand to a\n",
      "royal flush; once again the playing cards should all be of the identical suit and in running numerical\n",
      "order. Nonetheless I’m not positive if they might (on mixture) handle the temptation of the medication/alcohol that associate\n",
      "with being a true poker star. However when you sit at a poker desk, it does not matter in case your opponent is\n",
      "a robust politician, wealthy businessperson, famous film star or a VIP. They say poker is a chance, however not so long ago, they stated that about entrepreneurship too.\n",
      "As a way to play these totally different Texas Hold’Em variations\n",
      "efficiently, players should not only have a firm grasp of the poker rules,\n",
      "but additionally have the flexibility to put critical poker ideas into play.\n",
      "Poker Web sites has a quantity that has been mathematically calculated to rank all the top poker\n",
      "web sites. Perhaps this is because horse racing would not really have the same enchantment have been there to be no betting involved, but that\n",
      "is nonetheless an amazing example of the contradictory playing legal guidelines in India. Play no-limit Texas Hold ’em poker in a 3D first-particular person perspective against one in every of three subtle AI\n",
      "opponents. Dr Jack Our resident poker pro is half Dr Phil, half Dr\n",
      "Ruth and all Dr Poker-Love. Nagaland and Sikkim are up to now the one states in India which has enacted a statute pertaining\n",
      "to on-line gaming i.e. Sikkim On-line Gaming (Regulation) Act, 2008 (Sikkim Gaming Act). There weren’t any tournaments in India last year attributable\n",
      "to TDS Tax Deducted at Supply issues,” explains Kunal Patni, the second of the two Indians to skip Diwali celebrations, right here to defend his 1st place finish in his pool last 12 months. Thus, even in an India-Zimbabwe match, there is a truthful probability that some Indian batsmen may get out for no-fault of theirs; however total it is the better team that wins. The thing of most games is to make the most effective poker hand from the playing cards you might be dealt. By means of its tournaments, the IPC intends to advertise this sport in India and produce the next poker greats from this a part of the world. Poker Sports activities League (PSL) , the mind youngster of Dabur’s vie chairman Amit Burman, is going to start probably in February. You don’t want the game jumping stupidly from 200/four hundred to 500/one thousand but you do not need it to pull, both. There are actually 1,326 combinations of beginning arms for those who count fits (e.g. A♣-A♦ and A♠-A♥ are different hands), however that’s more of a just for fun” number as suits\n",
      "don’t have any worth over each other in Texas Hold’em.\n",
      "He’s considered probably the most aggressive gamers within the circuit & has revamped half one million on Pokerstars alone.\n",
      "Poker enthusiasts from throughout India can qualify to be part of one of many 12\n",
      "groups – by showcasing their ability in free offline (reside) and/or on-line qualifiers.\n",
      "Anyone who needs to explore to play poker in India has varied options and can merely browse any\n",
      "widespread on-line poker website and begin taking part in your favorite poker sport. There are additionally customary payouts for the Ante Bonus Payout, which depends upon the desk the specific sport you\n",
      "are taking part in or the foundations of the casino you’ve got\n",
      "chosen. Poker has grow to be an International sport played by thousands and\n",
      "thousands of people around the world. Having been performed for 32 years, it is by far the longest-lived pricing recreation to be\n",
      "retired. Collusion principally represents purposeful flawed play, where a person plays the\n",
      "sport in firm of two or more players to take out or\n",
      "weaken other gamers on the desk. The newly\n",
      "launched India Poker Open is turning into essentially the most prestigious and greatest identified poker match\n",
      "in India. This episode checks out a money recreation from Excessive Stakes Poker between Tom ‘’Durrrr’\n",
      "Dwan and Patrik Antonius. All the time test\n",
      "the customer support offered by the web poker room to ensure\n",
      "the poker site cares about its prospects. The simplest on-line poker websites accepting players from India provide an gratifying online poker expertise, wonderful buyer\n",
      "help, good site visitors, a wide variety of stakes and poker video video games,\n",
      "and beneficiant bonuses and promotions. With a purpose to proceed to the next\n",
      "round, players must match the agreed price for every round (or put in all of the chips they’ve if they\n",
      "don’t have enough). It’s a normal rule that the Poker degree raises\n",
      "with the prominence of the casino. As you’ll be able to see\n",
      "the reasons make it extraordinarily unlikely that the poker\n",
      "rooms will ever rig poker for the net participant.\n",
      "At Perry4Law and Perry4Law’s Techno Authorized Base (PTLB) we\n",
      "imagine that cyber regulation due diligence , Net middleman obligation and cyber due diligence for poker india Indian corporations must be saved\n",
      "in thoughts by assorted e-commerce websites and players.\n",
      "Future Gaming will now be able to legally supply real cash online betting and gaming providers throughout the state. Primarily, any hand that’s not two unhealthy offsuit playing cards are truthful game for raising. The online poker web sites are also required\n",
      "to ensure that their fee gateways are duly permitted by the Reserve Financial institution of India (RBI).\n",
      "Earlier than the sport begins, the participant instantly clockwise from the button posts the small\n",
      "blind”, the first pressured bet. The most important possibility accessible solely to Canadian players in all provinces is Bodog Poker There are different, smaller, province sanctioned options such as Espace Jeux , Maritime Poker and PlayNow available only to certain Canadian provinces. Play seamlessly across all web and cellular variations – just log in with your Fb profile! Great article. I am dealing with a ffew of these issues as well.. GOPOKER launches India’s first On-line Poker League with the largest prize pool that online poker\n",
      "in India has ever seen!  Recently Nagaland grew to become the primary\n",
      "Indian State to pass the Nagaland Prohibition of Playing and Promotion and Regulation of On-line Games of Talent Invoice 2015.” We met up with Vaibhav Gaggar, Managing Associate at Gaggar and Associates to discuss the identical. The one hope of internet sites running on-line poker, online rummy, on-line card video games, and so on is that the Central Government formulates techno legal framework that may accommodate on-line video games and other Internet related points. In the occasion you like the concept of having the ability to indicate off your expertise and take a look at your luck with other players, you will truly get pleasure from our online rummy site, and earn some cash whereas having enjoyable along with your online poker and rummy video games. With the popularity of poker, casinos in India have blended the fun of this game with exquisite aura on floating ships and hill side resorts. The most secure guess to run and manage a legal online poker website in India is to draft the terms and situations and other documents very fastidiously protecting in mind the legal guidelines of various States. The Excessive Courts of Karnataka and Kolkata as well as a number of courts in different nations have recognised the excessive degree of talent concerned in the sport of poker. The JV is Mojo’s second partnership in an rising market after it struck a deal to offer China’s Alibaba Group with a poker platform, by way of the ecommerce behemoth’s exclusive on-line social gaming provider VLeague Internet Expertise Firm, in December 2016. Now I’m thought of among the best gamers on this planet.” Etymological reality:\n",
      "the phrase poker derives from pochen, German for bragging.\n",
      "Be it internet hosting multiple tournaments a day or enthralling customers with fascinating promotions,\n",
      "Indian On-line Poker & Rummy Gaming Website has been far ahead of competitors and been striving constantly to give one of the best for customers.\n",
      "A small portion of each purchase-in would go towards seats into Saturday night time’s 20k tournament and in this case 1 seat would be\n",
      "awarded per 20 gamers. Take for example, Ravi Kinjal, who performs on , India’s largest Online Poker Site. The sport play needs to be smooth and the deposit and withdrawal\n",
      "strategies straightforward for me. The promotions don’t\n",
      "matter much, as I am a poker participant and never just\n",
      "on the lookout for freebies. It was Delhi’s Tanuj Moorjani who knocked out 2 players in a single hand and ensured that he together with the remaining 7 players would go house with a share of the spoils.\n",
      "Since gambling is set primarily at the state degree though, this\n",
      "might not be as decisive as some assume it might, as all this would do is strike down a federal regulation making use of to poker, but states still\n",
      "may provide you with their very own legal guidelines, as they do\n",
      "anyway. India Poker Championship made a grand entry to\n",
      "the world of Poker in India in March 2013. He is\n",
      "proper about poker at the Massachusetts Institute of Expertise but I think that there are other\n",
      "causes he loves the game. Other than its single minded deal with the sport\n",
      "of poker, what sets aside from other players out there can be it is\n",
      "emphasis on instructing the finer nuances of the game to beginners and amateurs alike and offering them with\n",
      "a platform to expertise the game in all its varied colors”. Thrill Poker also provides Rummy to its Indian customers, one other game that requires skill and expertise fairly than luck. Since then, there have been a number of Indian court docket rulings pertaining to the standing of poker. Indian Poker Championship which is annual event and India’s largest and hottest poker tournament event which has been operational from the offshore casinos of Panjim, Goa since March 2010. This can be very important for you, the participant, to utterly verify that a given on-line gaming web site is correctly licensed, earlier than you deposit any money or otherwise play actual cash games with the mentioned website. Because the danger is off, gamers can loosen up and play a gripping sport like Texas Holdem without getting nervous. I bear in mind studying the instruction book from one of our poker merchandise and then going to apply on free online poker sites. Patni is kicked about not just January however the remainder of the 12 months’s IPC schedule as effectively, When I gained the Spadie at ACOP, one of many first thoughts that came to my mind was the shortage of the event scene in India. Aspires to turn into the best poker site of India and has invested closely to offer world class poker game software that gives the easiest poker experience to its players on LAPTOP COMPUTER and Cell phone. It is expected poker could be thought-about to also be exempt from the nation’s strict gambling legal guidelines if the Supreme Court rejects the ruling made by the Madras High Court docket resulting from poker can also be think about a skill game by the country. The On line casino Royale also plays host to several national and worldwide poker competitions, together with the New Delhi-based Shark Journal’s Poker Dream Problem, the Indian Poker Sequence, and the World Gaming Festival. Earlier even access to many web sites the place all types of card games and poker games have been banned and only allowed in few stated nevertheless this is not the scenario now. That is important, particularly when taking part in in opposition to wonderful gamers, as a result of something you do at the poker desk can provide your opponent an indication of power or weakness. For these operators who are run from within India, they’re protected and offering a legal service so long as they are abiding by native tax legal guidelines and working cleanly basically. An answer to this is able to be to have your checking account out of the country (significantly if you’re travelling) and to use Indian ATMs to withdraw funds from this account from while in India. You can sign as much as these poker websites in India and play to your heart’s content material. The factor was, avid gamers from India had been at all times present on worldwide websites, if not in nice numbers. At Perry4Law and Perry4Law’s Techno Legal Base (PTLB) we imagine that cyber regulation due diligence , Web intermediary obligation and cyber due diligence for poker india Indian companies ought to be stored in mind by diverse e-commerce websites and gamers. Now the ball is in Indian government’s court docket docket and it has to provide you with guidelines and laws relating to on-line recreation and online playing actions in India. The State has by Sikkim On-line Gaming (Regulation) Rules, 2009, made games like Roulette, Black Jack, Pontoon, Punto Banco, Bingo, Casino Brag, Poker, Poker Cube, Baccarat, Chemin-de-for, Backgammon, Keno, and Super Pan 9 authorized. Due to a ruling final month regarding rummy for real money, operators of online poker websites have turn into more assured with their companies and are beginning to market extra aggressively. And as gamers talk about tells” and tics,” they seem satisfied that poker is about understanding both method and temperament. Ltd was given the first online poker license and the corporate which runs the net poker web site will increase its choices in Nagaland. Recently, The All India Gaming Federation (AIGF) has pressed the Kerala Government to legalize poker game in the state and the federal government is contemplating notifying poker as a skill sport. Whereas Goa and Sikkim legalised gambling in casinos and in different forms, many states passed laws for selling lottery tickets. You just need to be sure you use a web site that is reputable and reliable, and that accepts Indian customers. Properly we cant say about real world however in the world of online poker, betyourskills makes it possible for you to turn out to be The Alchemist. PSL will see 12 teams, enjoying with 9 players every, fighting for the prize cash of Rs 3.36 crore. Every month we check out the most effective poker deals and presents out there for players. On-line poker is laid out on a multitude of Multi Table Tournaments and for various skill ranges and variants.Online poker tournaments, Texas Holdem tournaments, Omaha, multi desk tournaments, in vast numbers are always operating on Poker Nation. A gaggle, named the Public Curiosity Litigation, filed a case towards various gaming organizations together with the Mahalaxmi Cultural Association, Madras City Membership (India) Pvt Ltd, Madras Darkhorse Farm & Land Development Pvt Ltd, and Madras Sakthi Recreation Centre. It’s best to really feel protected signing as much as our checklist of Indian Internet poker websites, because our list incorporates solely the very best online poker web sites for Indians that enable authorized play from prospects in India. One of the troubling points with enjoying online poker in India is the problem with deposits. The seventh edition of the Championship passed off from 2nd – fifth June 2011 within the card room onboard Casino Royale, the largest off-shore casino positioned in the Goan state capital of Panaji (or Panjim). Look over there, it is Erik Seidel, Las Vegas native and Poker Hall of Fame legend, noise cancelling headphones resting round his neck; around him, players from world wide adopt the standard parlour tips: sunglasses to hide pupil dilations, scarves to obscure gulping Adam’s apples, hoodies to, dunno, appear like a thug or one thing. Now one might get all the related data wanted to play poker with all the ideas and tricks in addition to news from totally different international locations. With the return of IPC in 2015, the poker scene fully modified, what an initiative it was!!The IPC collection quickly obtained momentum and noticed gamers throughout all metros and even Tier II Cities widely collaborating in the occasion. Chris Moneymaker , an accountant and newbie poker participant, won a US$39 satellite to qualify for the World Sequence of Poker, which he finally received, taking dwelling US$2.5 million. Nevertheless, there is no mention of on-line gaming in it. Additionally contemplate the fact that laws pertaining to gambling are by and enormous a state enterprise, the place the States have the authentic authority to make legal guidelines with respect to it. Similar occasions are being put collectively by the India Novice Poker League (IPRT) and the India Poker Championship (IPC). They have more than 15 years of experience in sport play and are known for his or her perfection within the industry. We offer a wide range of exciting online Video Poker video games, together with various progressive jackpots – and these jackpots amount to a few of the richest prizes obtainable in any online game. Multi Table Poker Tourneys: Also referred to as MTCT, or Multi Table Collapsible Tournaments, that is the world’s most widely acknowledged competitive poker format, one with the highest requirements of fairness and integrity, and is utilized in all the foremost Poker Tournaments internationally together with the distinguished World Sequence of Poker (WSOP). There is a very skinny line between a cyber crime and a recreation of fun and skill and a slight mistake or negligence could make the poker exercise a punishable offence in India. On-line card video games stakeholders should not be misguided by the misleading and incorrect media studies in regards to the order of the Supreme Court. It attracts poker players from Bangalore and other nearby states to its NLHE tournaments. We provide day by day poker information, poker professionals’ blogs and tweets, unique poker movies, 1000’s of free poker articles, along with coverage from all major poker tournaments on this planet. Whether taking part in for critical money, or simply to be entertained and loosen up, Web poker fills a real place in the enjoyment lexicon for many Indians. PokerBaazi a venture of Baazi Networks Private Restricted is an internet portal geared toward providing a consumer pleasant setting of skill gaming. Poker followers are hopeful that the game will someday be acknowledged by the International Mind Sports activities association, which can put it it alongside different thoughts-games like Chess, Bridge and Draughts. As and when this question will arise, we are going to deal with that, however right this moment there isn’t any problem to be determined,” observed a bench\n",
      "because it disposes a clutch of petitions by on-line rummy web sites.\n",
      "In that regard, one of many video games being performed within the membership premises is that of\n",
      "poker. Our video games are designed to supply hours of entertainment and\n",
      "offer the most effective value for cash with their reliability, safety features and the quality of graphics and sport play. Day 2 was the weekend kickoff i.e. the 10k Friday\n",
      "Night tournament A complete of 106 players participated\n",
      "in this match. As a consequence of ambiguity in laws,\n",
      "only West Bengal, Nagaland and Karnataka has labeled Poker as a valid, ability-based mostly game,\n",
      "whereas in Goa, the game could be performed only in casinos.\n",
      "Getting the hold to manage up with the delirium of gaming software, we in the\n",
      "intervening time are offering the web Poker Recreation Website Development services! An important of these was a ruling by the Indian Supreme Court docket in August of\n",
      "2015. Overall, the authorized status of on-line playing in India is slightly ambiguous and it is an area\n",
      "that the authorities have made no effort to deal with as of but.\n",
      "In case you liked this brief article and also you want to receive details as regards to poker india you could attempt these out i implore you\n",
      "to go to our net-page. Along with Spartan Poker Group Mentor Rohit Bhalla, the addition of\n",
      "Mohan as Workforce Pro has powered up this new team\n",
      "and shall be expected to do some great things in the\n",
      "coming months. It is extremely essential to research all\n",
      "the choices available to you previous to deciding on a selected room to play real\n",
      "cash poker on-line. The event was designed to promote poker in India and is held on the On line\n",
      "casino Carnival in Goa. Horse racing betting is also authorized off\n",
      "beam, and betting parlors exist in lots of parts of the country.\n",
      "As such this doesn’t, by itself, mean that utilizing a gambling website from within India is authorized. Now to play cash video games on Pokerstars you need to have some money in your account.\n",
      "It could possibly be argued that operating a playing web site in India is deemed illegal beneath the phrases of this act, given its wording,\n",
      "but that is far from clear. \n",
      "\n",
      " \n",
      "\n",
      " \n",
      " \n",
      " Please enter an answer in digits:14 + 13 =   \n",
      "\n",
      " Currently you have JavaScript disabled. In order to post comments, please make sure JavaScript and Cookies are enabled, and reload the page. Click here for instructions on how to enable JavaScript in your browser. Mindanao News and Information Center Service Cooperative (MNICSC) is a cooperative composed of independent, professional journalists who believe and practice people empowerment through media. 23C Saturn St. GSIS Subdivision, \r\n",
      "Davao City Philippines\r\n",
      "Tel. No.: 082 297 4360 \r\n",
      "editor [at] mindanews.com \n",
      "Home > News > Regional   < Back to SMG 45 Tuesday, 23 May 2017 | MYT 8:51 PM \n",
      "  \n",
      " An ISIS flag is seen displayed at an apartment in Marawi City where a fierce gun battle between government security forces and ISIS-linked groups is raging. MANILA: Five government troops were injured as police and military clashed with members of the Maute and terrorist groups in Marawi City, Lanao del Sur on Tuesday. The clashes happened in Brgy. Basak Malulut around 2 p.m. and is still ongoing as of posting time, said Lt. Col. Jo-Ar Herrera, spokesperson of the Army’s 1st Infantry Division said. The group of armed men was believed to be led by Abu Sayyaf Group leader Isnilon Hapilon, who was previously based in Basilan. The military has previously reported that Hapilon was badly hurt in one of its airstrikes early this year. A separate spot military report said that the Marawi-Iligan road is temporarily closed. The Department of National Defense earlier said that Hapilon left Basilan province to establish a province or “wilayat” of the Islamic State in Lanao del Sur. There were also circulating reports that terrorists  raised their black flag at the Amai Pakpak Medical Center and attacked the city’s police station, but Herrera said they are still validating the information. The Armed Forces of the Philippines said that the operation in Marawi was initiated by combined state forces contrary to other reports. “We received reliable info on Hapilon and a number of his cohorts. Updates to follow as the operation is still ongoing. Please do not believe propaganda from other groups,” AFP spokesperson Brig. Gen. Restituto Padilla said. A staff member from the Marawi City local government said that they have activated a city crisis committee and peace and order council to pacify the situation. Marawi City is nearby Butig town, where the Maute had previously established its presence. The Maute group is one of less than a dozen new armed Muslim groups that have pledged allegiance to the Islamic State group and formed a loose alliance in the southern Philippines in recent years. It has been blamed for a bomb attack that killed 15 people in southern Davao city, President Rodrigo Duterte’s hometown, last September and a number of attacks on government forces in Lanao, although it has faced setbacks from a series of military offensives. In April, troops backed by airstrikes killed dozens of Maute militants and captured their jungle camp near Lanao del Sur’s Piagapo town. Troops found homemade bombs, grenades, combat uniforms and passports of suspected Indonesian militants in the camp. Residents took to Twitter about the clashes, reporting of gunfire, raising of black flags, and air strikes. Philippines Daily Inquirer/Asia News Network \n",
      "Looking for Liu Xiaobo? Chinese police keep close watch\n",
      " \n",
      "Dalit as Indiaâs head of state\n",
      " \n",
      "China's late Nobel laureate Liu Xiaobo cremated\n",
      " \n",
      "Indonesia restricts Telegram app over 'terrorism' content\n",
      " \n",
      "Thrown out for oath antics\n",
      " \n",
      "How to make your workout count\n",
      " advertisement \n",
      "Picture of sex on Penang highway fake, say police \n",
      "Johor princess to marry on Aug 14 \n",
      "Two girls bitten by rabid dog in Kuala Sepetang \n",
      "Cheryl Yeoh: Why now, and why I'm not pressing charges \n",
      "Zahid Hamidi: Don't meddle in Bagan Datuk politics \n",
      "Cops arrest man who rammed into unmarked police car in Klang \n",
      "Miss Singapore Beauty Pageant 2017 finalists take negative comments in their stride \n",
      "Azmin: DAP not sidelined in Harapan \n",
      "Sungei Petani supermart robbed of RM250k \n",
      "Latiff Romly retains World Para Athletics long jump gold advertisement advertisement Search The Star Online Connect with us Content Partner  Our Radio Stations  site map\r\n",
      "\t\t\t\t\n",
      " subscriptions\r\n",
      "\t\t\t\t\n",
      " other editions\r\n",
      "\t\t\t\t\n",
      " magazines\r\n",
      "\t\t\t\t\n",
      " company info\r\n",
      "\t\t\t\t\n",
      " advertising\r\n",
      "\t\t\t\t\n",
      " policies\r\n",
      "\t\t\t\t\n",
      " our sites\r\n",
      "\t\t\t\t\n",
      " social media\r\n",
      "\t\t\t\t\n",
      " Copyright Â© 1995- Star Media Group Berhad (ROC 10894D)\n",
      "Unable to reach website.\n",
      "\n",
      "By Ver Marcelo, CNN Philippines\n",
      " Updated 02:19 AM PHT Wed, May 24, 2017 (CNN Philippines, May 23) - Armed Forces of the Philippines (AFP) Chief of Staff Gen. Eduardo Año told CNN Philippines on Tuesday that one policeman was killed in a firefight between government forces and the terror group Maute in Marawi City, Lanao del Sur. Año also told CNN Philippines eight other government troopers were wounded in the clash, which erupted early afternoon as the lawless elements tried to rescue Abu Sayyaf leader Isnilon Hapilon. The AFP chief said less than 50 armed men from the Maute group were scattered across the city but the situation has been contained. \"We are in full control, itong mga armadong ito (these armed men), they are trying to distract the troops...We are fully in control, but we are clearing one by one,\" Año said. However, in a separate statement, AFP spokesman Brig. Gen. Restituto Padilla said that there were still intermittent gunfires. \"Our operation is still ongoing in Marawi City and sporadic firefight is still continuing,\" Padilla said. He added a combined military and police force initiated the operation in Marawi. \"The joint AFP-PNP team that is after Isnilon Hapilon and his cohorts is determined to finish him off,\" Padilla said. Earlier, reports said armed men have taken over the Amai Pakpak Medical Center, with the group allegedly replacing the Philippine flag with a black flag, supposedly representing the Islamic State (ISIS). They have also reportedly blocked checkpoints in the vicinity. Armed Forces of the Philippines (AFP) First Infantry Division Spokesman Lt. Col. Jo-Ar Herrera said the firefight started 2 p.m. at Barangay Basak Malutlut. \"Nakatangap po tayo ng report from the community, meron silang nakitang mga armado...na-check po natin na ito pala yung ano, yung core group ng Maute, so nag-launch po tayo ng surgical operation para i-neutralize 'yung grupo na may planong mag-ano ng terorismo sa Marawi City,\" Herrera said. [Translation: We received a report from the community, they saw armed men…we checked that this is the core group of Maute, so we launched a surgical operation to neutralize the group planning to incite terrorism in Marawi City.] Marawi City Mayor Majul Gandamra told CNN Philippines' News Night the hospital under siege was just about 2 km away from the city hall. A local resident, Chico Usman, told CNN Philippines the group set the Marawi City jail and the Dansalan College on fire. He added that initially, Maute members told residents to vacate the area as a firefight with the military was about to erupt. Usman added one member was saying \"'Yung mga pulis diyan na matatapang, magsilabasan kayo.\" [Translation:All the brave policemen out there, come out here (and fight).] Meanwhile, Autonomous Region of Muslim Mindanao Regional Governor Mujiv Hataman expressed the \"fear and anger\" of residents. \"We strongly condemn these acts of terror committed against the people of Marawi City and swear to take immediate action as necessary,\" he said. \n",
      "\n",
      "Fire hits SM City North EDSA\n",
      "\n",
      " \n",
      "Opposition gives assessment ahead of Duterte's SONA\n",
      " \n",
      "Lorenzana: I submitted martial law recommendation to Duterte\n",
      " \n",
      "AFP: Duterte to decide on martial law extension before deadline\n",
      " \n",
      "Apple iPhone sales top expectations\n",
      "  800   © 2015 Nine Media Corp. CNN name, logo and all associated elements ™ and © 2015 Cable News Network. Turner Broadcasting System, Inc. All rights reserved. CNN and the CNN logo are registered marks of Cable News Network, Inc., displayed with permission.\n",
      "\n",
      "\n",
      "\n",
      "\n",
      "\n",
      "\n",
      "\n",
      "Donate Jamie Lucman/Facebook A group of heavily-armed ISIS-linked militants have stormed the Philippines  city of Marawi, engaging the national army in fierce clashes on the city’s streets. According to reports, at least 15 militants armed with assault rifles attacked the city. Army troops and a special police force deployed in response to the attack. The militants had reportedly blocked some roads, entered a local hospital and raised a black ISIS flag above the roof. Many buildings were reportedly set on fire. ISIS has officially claimed responsibility for the attack via its Amaq news agency. Photos from the site: Click to see the full-size image Click to see the full-size image \n",
      "\n",
      "\n",
      "\n",
      "\n",
      "\n",
      "\n",
      "Donate SouthFront Do you like this content? Consider helping us! Israel / american / uk / saudi Terrorists sent to destabilise …Duete has fucked the west off …so they send in their terrorists…zio whaabi uk usa israel saudi qatar…Scum of the earth. agreed on 100 percent! He will ask china for aid and russia! Interesting that the Tories lost double digit lead in poll to single digit creating panic in the campaign of Tories, then ISIS terror attack on the homeland follows. I don,t know of any connection of course and my heart goes out to those sacrificed and the lasting effects on the inocent. Yes Charlie I think Duarte understands that the Philippines is on the list of racist supremacist Jews for Goyim extermination as Henry kissenger the genocidal, racist, Jewish, Supremacist put it there in 1971\n",
      "http://pdf.usaid.gov/pdf_docs/Pcaab500.pdf See page 10, clause 30 sub (a) for the Goyim food control death list: India, Bangladesh, Pakistan, Nigeria, Mexico, Indonesia, Brazil, the Philippines, Thailand, Egypt, Turkey, Ethiopia and Columbia. GMO food , poison you , and you pay them to do it , classic . This is US way of reminding Duterte Who is the Boss. I hope Russia and China understand this and really help Duterte win this war. It is really true that US will stop at nothing to maintain their so-called superiority over the world. USA are funding all the political opposition, media, blogger and terrorist in the Philippines since duterte drop the pro western policy. This happening in Marawi city capturing is when duterte was in Russia to strengthened the Russian Filipino relation US response to Duterte “….f**k you, Obama!” Well trained by US special forces that was based in south Philippines. BS. these islamist terrorists were present already when was us-friendly dictator, marcos. Yeah they are already there few decades ago because saudi arabia, malaysia, pakistan and other muslim country fund them yes and no. un south and south-east asia after end of colonialism there were national movements. remember tamils in sri lanka.\n",
      "Fierce clashes erupted yesterday afternoon between government forces and members of the Maute terror group, with the military conducting air strikes.The combat operation was launched following reports that Abu Sayyaf leader Isnilon Hapilon, along with the core members of the Maute group, was sighted in the area allegedly out to conduct terror attack. Lt. Col. Jo-ar Herrera, spokesman of the Army’s 1st Infantry Division (ID), said that the operation was launched after reports from the local community in Marawi City about the presence of the terrorists in the area.Herrera said that the military started the operation at around 2 p.m. But as of press time yesterday there were still no result. The operation was launched in a residential area in Barangay Pasak, Marawi City.  “We launched surgical operation to neutralize the group which is planning to sow terrorism in Marawi City,” said Herrera.“Initially, we saw about 15 armed men…based on the report, allegedly including Isnilon Hapilon…so we are conducting operation against high value target,” he added.The military has been tracking down Hapilon in Lanao areas since January following reports that he was seriously wounded during air strike in Butig town.Armed Forces of the Philippines (AFP) Chief of Staff Gen. Eduardo Ano described Hapilon then as being carried by his men on a makeshift stretcher and needed blood transfusion to survive.A leader of the Abu Sayyaf group operating in Basilan, Hapilon is the acknowledged emir or leader of the Islamic State of Iraq and Syria (ISIS) in Southeast Asia.He transferred to Central Mindanao, particularly in Lanao del Sur last December supposedly to establish ISIS caliphate there.Thousands flee combat zoneThe fighting reportedly sent thousands of residents fleeing while others were locked inside their homes. It happened about two days before the start of the fasting month of Ramadhan.Marawi City is part of the Autonomous Region in Muslim Mindanao.Police said the fighting erupted in the villages of Caloocan and Basak Malutlut, near the Lanao del Sur police provincial command and Mindanao State University.In a phone interview, Senior Supt. Oscar Nantes, Lanao del Sur police provincial director, said the clashes erupted between the Maute group and government forces at about 3 p.m. when a military-backed police team was to serve search warrants against members of the terror group.Fighting erupted when the Maute group opened fire on personnel from the military’s 103rd Brigade, he said.Chief Supt. Reuben Sindac, PNP-ARMM regional director based here, said all police units across Lanao del Sur have been placed on heightened alert against the possible spillover of the fighting.Armored personnel carriers backed the ground troops in fighting the still undetermined number of Maute Group members, Nantes said.As of 4 p.m., two Air Force planes dropped several bombs in selected areas of Marawi City, particularly in the border with Lanao del Sur beside Lake Lanao.Sporadic gun shots could still be heard in the heart of Marawi City, according to Zia Alonto Adiong, an ARMM lawmaker and a resident of Marawi City. He appealed for residents to stay home.The clashes erupted while Muslims are preparing to start the fasting month, which is expected to begin this Friday with the possible sighting of the moon on Thursday night. There was no reported casualties as of posting time.  \r\n",
      "\t\tMake sure you enter the (*) required information where indicated.Basic HTML code is allowed.\t 17-07-2017  Ninez Cacho-Olivares It certainly looks like the families of 44 Special Acti... 17-07-2017  AFP and Tribune Wires BADES, Morocco — It’s one of the shortest land borders ... 17-07-2017  Aldrin Cardona We should have long read the message President Duterte ... 17-07-2017  Dinah S. Ventura Sen. Ping Lacson was provoked enough to cuss about it. ... 17-07-2017  AFP and Tribune Wires WINCHESTER, England — Two hundred years after Jane Aust... 17-07-2017  AFP and Tribune Wires KAMWENJE, Kenya — Footsteps came first, then unfamiliar... THIS TIME AROUND, NOY MAY BE SUMMONED\r\n",
      "A possible grilling o…  \r\n",
      "By Julius N. LeonenThe position of Court of Appeals (CA) …  \r\n",
      "A Palace ally in the House of Representatives raised the …  \r\n",
      "By Mario J. Mallari and Ted TuveraThe military yesterday … The Department of National Defense (DND) had submitted a rec… Sen. Joseph Victor “JV” Ejercito yesterday urged Supt.   Mar…  \r\n",
      "DUTERTE CLAWS BACK SUPPORT AMONG POOR\r\n",
      "The political clim…  \r\n",
      "ZAMBOANGA CITY, — Gunmen believed to be Abu Sayyaf bandit…  \r\n",
      "Justice Secretary Vitaliano Aguirre II yesterday said he …  \r\n",
      "WASHINGTON — The US Justice department has asked the Supr…\n",
      " \n",
      "Home\n",
      " > \n",
      "News\n",
      " Posted at May 23 2017 10:12 PM | Updated as of May 24 2017 03:32 AM Share MARAWI CITY - Government troops and police battled dozens of gunmen protecting one of the world's most wanted Islamic militants in a built-up area of a southern city on Tuesday, authorities said. Defense Secretary Delfin Lorenzana said one policeman and two soldiers were killed in the clashes, which began when security forces raided a house where they believed Isnilon Hapilon, a leader of the infamous Abu Sayyaf kidnap gang and Philippine head of Islamic State, was hiding. The fighting took place in Marawi, a mostly Muslim-populated city of about 200,000 people on the southern island of Mindanao, with the gunmen attacking a hospital during the clashes, Ano told CNN Philippines. \"Please advise people to stay inside their houses. We will clear the area,\" said Philippine military chief of staff General Eduardo Ano. He said the fighting began when police and troops raided a house on Tuesday afternoon where Hapilon, the subject of a US State Department bounty of $5 million, was believed to be hiding. This triggered fierce clashes throughout the afternoon and into the evening, with Ano estimating there were about 50 gunmen. Photos posted on social media by Marawi residents showed the gunmen walking through the streets of Basak, a Marawi suburb of about 1,700 people. A woman who asked not to be named told AFP by text that she saw about 10 armed men take up positions at the gate of a government hospital. Police clashed with the gunmen near the hospital, leaving one officer seriously wounded and one of the extremists dead, she added. The military said it could not confirm the militant's death. Ano said eight security personnel had been injured in the clashes. - Deadly history - The Abu Sayyaf, based on the most southern islands of Mindanao, has kidnapped hundreds of Filipinos and foreigners since the early 1990s to extract ransoms.  The militants beheaded an elderly German early this year and two Canadians last year after ransom demands were not met. It has also been blamed for the country's worst terrorist attacks, including the 2004 bombing of a ferry in Manila Bay that claimed more than 100 lives. The US State Department bounty for Hapilon was offered following alleged terrorist acts against US citizens, including the 2001 kidnapping of three Americans in the western Philippines -- two of whom were later killed. Security analysts say Hapilon has been trying to unite Filipino militant groups that have professed allegiance to IS. These include the Maute group, which is based near Marawi, hundreds of kilometers to the north of the Abu Sayyaf strongholds. The Maute group has engaged in repeated deadly battles with the military over the past year in rural areas around Marawi. The International Committee of the Red Cross, which has an office near Marawi and operates in the area, voiced alarm that civilians may get caught up in the fighting. \"We are extremely concerned about the impact of the ongoing hostilities in Marawi City on the civilians,\" the head of the ICRC's Philippine delegation, Pascal Porchet, said in a statement. \"We urge all parties to the conflict to spare civilians and respect civilian property, such as hospitals and schools, in fulfullment of their obligations to respect international humanitarian law.\" The Marawi fighting came six weeks after the military foiled a mass kidnapping attempt by the Abu Sayyaf on the central resort island of Bohol. The US and other Western governments warned this month that terrorists plan to kidnap foreigners in tourist hotspots across the central and western Philippines. str-cgm/kma/sm © Agence France-Presse Share BBC names first female Doctor Who July 17, 2017 WATCH: Nadine, James draw shrieks as they open The Eddys July 17, 2017 WATCH: First teaser trailer for Disney's 'A Wrinkle in Time' July 17, 2017 WATCH: 'Star Wars: The Last Jedi' behind the scenes footage July 17, 2017 Alyssa delights in reunion with former Ateneo teammates July 17, 2017 Defense chief submits martial law recommendation to Duterte July 17, 2017 Why boyfriend didn't like KZ's song for him July 17, 2017 F1: Four in a row for Hamilton as blowout hits Vettel July 17, 2017 Blu Girls take down Canada anew in softball tilt July 17, 2017 'The Voice Teens': Emarjhun stuns, leads Team Bamboo's charge July 17, 2017 'The Voice Teens': Team Sarah's Nisha, Jona keep dream alive July 17, 2017 Marvel stuns fans with giant Avengers gathering July 17, 2017 PVL: Air Force outlast Bali Pure for 2nd straight win July 16, 2017 This time, La Salle's Maraño exits MOA Arena with a smile July 16, 2017 PVL: HD Spikers ascend to share of first July 16, 2017 WATCH: Jessy, Bela, Kim sizzle in 'Despacito' number    Removed from 'Banana Sundae'? Jessy speaks up  LOOK: Kiray doesn't care what you think of her bikini body  OFW's decomposing body arrives home 22 days after her death  LOOK: Nikki Gil is pregnant  Mayweather shares his theory behind Pacquiao's decline  Mag-asawa, patay sa salpukan ng kotse at jeep  Lalaki, naipit sa loob ng ATM  Sustainable-energy advocate crowned Miss Philippines Earth 2017  Fire hits mall in Quezon City  Batang tinuklaw ng ahas, patay  Only one person can tell Pacquiao when it's time to quit, veteran ref says  Ex-mister ni Sunshine Dizon, akusado sa panggugulpi ng negosyante  TINGNAN: Buntis na celebrities ngayong 2017  © 2017 ABS-CBN Corporation. All Rights Reserved. \n",
      "AboutCareersPrivacyTermsContact UsAdvertise With Us\n",
      "\n",
      "May 23 (UPI) -- President Rodrigo Duterte of the Philippines on Tuesday declared a partial state of martial law in the Pacific island nation after two soldiers and a police officer were killed in clashes with terror insurgents. Duterte made the declaration for the island of Mindanao, in the nation's south. Troops and police officers were engaged in fights with pro-Islamic State Maute insurgents on Tuesday in Marawi City, the Philippine army said. The scene of the firefight was near police headquarters and the campus of Mindanao State University, officials said. The clash was initiated by the army, who saw Abu Sayyaf leader Isnilon Hapilon in the vicinity, with about 15 followers, Philippine Army spokesman Col. Jo-ar Herara said. By Tuesday night, the city of Marawi was under complete lockdown. Maute is a radical Islamist group based in Lanao del Sur which, with Abu Sayyaf, has conducted terrorist attacks in the Philippines for several years. Both are aligned with the Islamic State, also identified as ISIS, ISIL and Daesh. At least 50 Maute members have been killed in isolated clashes with Philippine police and soldiers in the past five months. The total number of casualties in Tuesday's fight was not immediately known. Earlier Tuesday, members of the Philippine army searched Marawi City for Hapilon and his party when the gunfire began. Armored vehicles were brought in, neighborhoods were locked down and two aircraft of the Philippine air force dropped bombs on selected targets. The incidents in Marawi City, whose population of about 200,000 is largely Muslim, came two days before the start of the fasting month of Ramadan. United Press International is a leading provider of news, photos and information to millions of readers around the globe via UPI.com and its licensing services.\n",
      "\t\t\t\t\t\tWith a history of reliable reporting dating back to 1907, today's UPI is a credible source for the most important stories of the day, continually updated  - a one-stop site for U.S. and world news, as well as entertainment, trends, science, health and stunning photography. UPI also provides insightful reports on key topics of geopolitical importance, including energy and security.\n",
      "\t\t\t\t\t With a history of reliable reporting dating back to 1907, today's UPI is a credible source for the most important stories of the day, continually updated  - a one-stop site for U.S. and world news, as well as entertainment, trends, science, health and stunning photography. UPI also provides insightful reports on key topics of geopolitical importance, including energy and security.\n",
      "\t\t\t\t\t\n",
      "\n",
      "Posted By: M G Martin\n",
      "May 23, 2017\n",
      " Army soldiers close in on the Islamist terrorists in Marawi City The black flag of the so-called Islamic State (IS) was raised in a Philippine city as government troops clashed with terrorists today (Tuesday, May 23). One soldier has been confirmed killed, and at least eight are believed to have been wounded in clashes with the Maute terror group — believed to be harbouring a notorious Abu Sayyaf leader — in Marawi City, Lanao Del Sur. Military spokesman Brigadier General Restituto Padilla said Abu Sayyaf sub-leader Isnilon Hapilon — who has an FBI bounty of $5 million on his head — was identified among an estimated 15 militants. Hapilon is the official representative, or ‘emir’, of IS in the region. Last month we reported that his was believed critically injured in a clash with government forces. The fighting erupted at 2pm in the villages of Caloocan and Basak Malutlut. Local reports say the terrorists had earlier entered a hospital and hoisted the black flag of IS. A militant attaches a black flag of IS to an ambulance outside the hospital After the bullets began to fly, thousands of residents fled or locked themselves inside their homes. The troops were supported by armoured personnel carriers and as of 4pm two Air Force planes had dropped several bombs on identified targets. “I’m appealing to residents of Marawi City to stay home, drop on the ground if they hear gunshots,” Mamintal Adiong Jr, the provincial governor said, “They have to lock their doors and gates too.” The Maute Islamist group — also known as the Dawlah Islamiya Philippines — is comprised of former Moro Islamic Liberation Front (MILF) guerrillas and some foreign fighters. They are thought to have taken their name from its founder Abdullah Maute and claim affiliation to IS. The clashes come as Muslims preparing to start the fasting month of Ramadan, which could start on Friday or Saturday, depending on the sighting of the moon. Operations against the militants are continuing. \n",
      "News, Terrorism\n",
      " \n",
      "News, Terrorism\n",
      " \n",
      "News, Terrorism\n",
      " \n",
      "News, Terrorism\n",
      " Comments are closed. \n",
      "\n",
      "\n",
      "     (adsbygoogle = window.adsbygoogle || []).push({});\n",
      " philippineslifestyle.com is wholly owned and managed by Mathew George Martin. George, The Editor, is a UK-trained journalist with more than 20 years experience in both print and broadcast media. Other members of the writing team bring experience and insights from a wide range of backgrounds. Phone #: +441386555470 For more inquiries, please don't hesitate to Contact Us \r\n",
      "\t\t\t\t\t(C) 2017 PHILIPPINESLIFESTYLE.COM Noddage Media LTD. ALL RIGHTS RESERVED.\t\t\t\t\n"
     ]
    }
   ],
   "source": [
    "for l in maute2.drop_duplicates('sourceurl').sort_values('dates',ascending=True).content.values:\n",
    "    print (l)"
   ]
  },
  {
   "cell_type": "code",
   "execution_count": 72,
   "metadata": {
    "ExecuteTime": {
     "end_time": "2017-07-16T18:40:34.989431",
     "start_time": "2017-07-16T18:40:34.967258Z"
    }
   },
   "outputs": [
    {
     "data": {
      "text/plain": [
       "2017-05-23 00:15:00    \\n\\n \\n\\r\\n                        By Jen Krau...\n",
       "2017-05-23 00:15:00    By\\n\\nJohn Stevens Deputy Political Editor For...\n",
       "2017-05-23 00:15:00    Getting involved in your child’s school life i...\n",
       "2017-05-23 00:15:00     Nationals Party delegates at Broken Hill on S...\n",
       "2017-05-23 00:15:00    \\n\\tMORE sources have come forward to discredi...\n",
       "2017-05-23 00:15:00    With a diamond ring in his pocket, Robert Paul...\n",
       "2017-05-23 00:15:00    Almost two months later Mr Smith is still on v...\n",
       "2017-05-23 00:15:00    A taskforce has been formed to ensure that key...\n",
       "2017-05-23 00:15:00                             Unable to reach website.\n",
       "2017-05-23 00:15:00    You currently have: Go to the Subscriptions Ce...\n",
       "Name: sourceurl, dtype: object"
      ]
     },
     "execution_count": 72,
     "metadata": {},
     "output_type": "execute_result"
    }
   ],
   "source": [
    "rellie"
   ]
  },
  {
   "cell_type": "code",
   "execution_count": 41,
   "metadata": {
    "ExecuteTime": {
     "end_time": "2017-07-16T18:30:40.373069",
     "start_time": "2017-07-16T18:30:01.167376Z"
    },
    "collapsed": true
   },
   "outputs": [],
   "source": [
    "rellie = marawi.sourceurl.drop_duplicates()[20:30].apply(textgetter)"
   ]
  },
  {
   "cell_type": "code",
   "execution_count": 307,
   "metadata": {
    "ExecuteTime": {
     "end_time": "2017-07-16T15:39:58.687638",
     "start_time": "2017-07-16T15:39:58.641759Z"
    }
   },
   "outputs": [
    {
     "data": {
      "text/plain": [
       "array([ 'http://www.sfgate.com/news/world/article/Philippine-troops-battle-IS-linked-gunmen-in-11166318.php',\n",
       "       'http://www.channelnewsasia.com/news/asiapacific/philippine-forces-hunt-top-is-linked-militant-8876350',\n",
       "       'http://www.nydailynews.com/newswires/news/world/philippine-troops-battle-is-linked-gunmen-southern-city-article-1.3188344',\n",
       "       'https://newsinfo.inquirer.net/898775/govt-troops-clash-with-abus-maute-in-marawi-city',\n",
       "       'http://www.huffingtonpost.co.uk/entry/islamic-state-linked-militants-take-over-hospital-and-set-jail-and-school-on-fire-in-philippines_uk_5924381ae4b034684b0fd280',\n",
       "       'http://www.dnaindia.com/world/report-philippine-president-declares-martial-law-in-mindanao-spokesman-2448632',\n",
       "       'http://www.channelnewsasia.com/news/world/philippine-president-declares-martial-law-in-mindanao---spokesman-8876894',\n",
       "       'http://newsok.com/isis-linked-gunmen-battle-soldiers-in-streets-after-storming-philippines-city/article/5550227',\n",
       "       'http://www.dnaindia.com/world/report-philippines-leader-declares-martial-law-on-southern-island-as-fighting-rages-2448734',\n",
       "       'http://newsinfo.inquirer.net/898986/du30-declares-martial-law-in-south',\n",
       "       'http://newsinfo.inquirer.net/898994/afp-chief-marawi-fighting-started-with-raid-on-hapilon-hideout'], dtype=object)"
      ]
     },
     "execution_count": 307,
     "metadata": {},
     "output_type": "execute_result"
    }
   ],
   "source": [
    "b = pd.concat([d,maute2.sourceurl.drop_duplicates()],axis=1)\n",
    "b.columns= ['content','url']\n",
    "b[b.content==\"Unable to reach website.\"]['url'].values"
   ]
  },
  {
   "cell_type": "code",
   "execution_count": 256,
   "metadata": {
    "ExecuteTime": {
     "end_time": "2017-07-16T15:24:20.939638",
     "start_time": "2017-07-16T15:24:20.894514Z"
    }
   },
   "outputs": [
    {
     "data": {
      "text/plain": [
       "6"
      ]
     },
     "execution_count": 256,
     "metadata": {},
     "output_type": "execute_result"
    }
   ],
   "source": [
    "len(done.keys())"
   ]
  },
  {
   "cell_type": "code",
   "execution_count": 222,
   "metadata": {
    "ExecuteTime": {
     "end_time": "2017-07-16T15:09:39.061392",
     "start_time": "2017-07-16T15:09:39.000560Z"
    }
   },
   "outputs": [
    {
     "data": {
      "text/plain": [
       "2017-05-23 11:45:00                                     No text returned\n",
       "2017-05-23 11:30:00    View the discussion thread.  Unit 909-910 Infi...\n",
       "2017-05-23 11:30:00    View the discussion thread.  Unit 909-910 Infi...\n",
       "2017-05-23 11:30:00    View the discussion thread.  Unit 909-910 Infi...\n",
       "2017-05-23 11:30:00    View the discussion thread.  Unit 909-910 Infi...\n",
       "2017-05-23 12:15:00    Martin Petty and Manuel Mogato 4 Min Read MANI...\n",
       "2017-05-23 12:15:00    Martin Petty and Manuel Mogato 4 Min Read MANI...\n",
       "2017-05-23 12:15:00      Security analysts say Isnilon Hapilon, a lea...\n",
       "2017-05-23 12:15:00    \\n  \\n \\n\\n \\n\\n \\n\\n \\n \\n\\n\\n \\n \\n \\n  \\n  ...\n",
       "2017-05-23 12:15:00    \\n  \\n \\n\\n \\n\\n \\n\\n \\n \\n\\n\\n \\n \\n \\n  \\n  ...\n",
       "Name: sourceurl, dtype: object"
      ]
     },
     "execution_count": 222,
     "metadata": {},
     "output_type": "execute_result"
    }
   ],
   "source": [
    "d"
   ]
  },
  {
   "cell_type": "code",
   "execution_count": 166,
   "metadata": {
    "ExecuteTime": {
     "end_time": "2017-07-16T19:10:13.418163",
     "start_time": "2017-07-16T19:10:11.035773Z"
    },
    "collapsed": true
   },
   "outputs": [],
   "source": [
    "ur = 'http://www.philstar.com/nation/2017/05/23/1702882/marawi-residents-told-stay-home-firefights-continue'\n",
    "page = requests.get(ur)\n",
    "soup = BeautifulSoup(page.content,'html.parser')"
   ]
  },
  {
   "cell_type": "code",
   "execution_count": 168,
   "metadata": {
    "ExecuteTime": {
     "end_time": "2017-07-16T19:11:33.959959",
     "start_time": "2017-07-16T19:11:33.931075Z"
    }
   },
   "outputs": [
    {
     "data": {
      "text/plain": [
       "' Marawi is the gateway to Lanao del Sur, a component province of the Autonomous Region in Muslim Mindanao. Philstar.com/John Unson, file \\n\\tLANAO DEL SUR, Philippines \\xa0— \\xa0Officials on Tuesday urged Marawi City residents to stay home as firefights continued on city streets between Maute terrorists and soldiers.\\n\\n\\t\\xa0\\n\\n\\tLanao del Sur Vice Gov. Mamintal Adiong, Jr., a senior member of the provincial peace and order council, also called on Marawi City residents to be extra vigilant and prevent strangers from intruding into their property.\\n\\n\\t\\xa0\\n\\n\\t“I’m appealing to residents of Marawi City to stay home, drop on the ground if they hear gunshots. They have to lock their doors and gates too,” Adiong told The STAR via mobile phone on Tuesday afternoon.\\n\\n\\t\\xa0\\n\\n\\tShooting between Islamic militants and personnel of the Army’s 103rd Infantry Brigade in Marawi City started at about 3:00 p.m. Tuesday, sending residents running for safety.\\n\\n\\t\\xa0\\n\\n\\tSenior officials of the Police Regional Office-Autonomous Region in Muslim Mindanao told The STAR the hostilities first erupted in Barangay Basak Malulut in Marawi City when Maute gunmen attacked soldiers dispatched to verify the reported presence there of men brandishing assault rifles.\\n\\n\\t\\xa0\\n\\n\\tA resident told Philstar.com by text message that sporadic gunfire could be heard in the city.\\xa0\\n\\n\\t\\xa0\\n\\n\\t\"There [were] no indications that an attack like this will happen. There are no checkpoints in the city,\" the resident said. \"Everything is in silence. No news about the city government. Everything is vague.\"\\xa0\\n\\nMilitants in areas of Marawi\\n\\n\\tOther groups of terrorists, many of them clad in attires identical with what members of the Islamic State of Iraq and Syria in the Middle East wear, immediately scattered in other spots in Marawi City as the encounter in Barangay Basak Malulut ensued.\\n\\n\\t\\xa0\\n\\n\\tPatients and personnel of the government-owned Amai Pakpak Hospital in Marawi City said a group also showed force in the gate of the facility.\\n\\n\\t\\xa0\\n\\n\\tAdiong said they have mobilized their emergency response teams to help civilians trapped in the crossfire.\\n\\n\\t\\xa0\\n\\n\\t“Our rescue and emergency teams will work round-the-clock to serve the affected communities,” he said.\\n\\n\\t\\xa0\\n\\n\\tARMM’s regional vice governor, Haroun Al-Rashid Lucman, said employees of the region‘s social welfare department in Lanao del Sur and in Marawi City have been directed to monitor the plight of residents affected by the fighting.\\n\\n\\t\\xa0\\n\\n\\tLucman, concurrent regional social welfare secretary of ARMM, said he is now coordinating with the police and military their plan to deploy social workers in areas affected by the hostilities.\\n\\n\\t\\xa0\\n\\n\\t“Meantime, my advice to Marawi City residents is to stay in their homes and be watchful of the goings-on in the surroundings,” said Lucman.\\n'"
      ]
     },
     "execution_count": 168,
     "metadata": {},
     "output_type": "execute_result"
    }
   ],
   "source": [
    "\" \".join([l.text for l in soup.find_all('div',class_='field-item even')])                "
   ]
  },
  {
   "cell_type": "code",
   "execution_count": 234,
   "metadata": {
    "ExecuteTime": {
     "end_time": "2017-07-16T15:18:50.216522",
     "start_time": "2017-07-16T15:18:50.163247Z"
    }
   },
   "outputs": [
    {
     "data": {
      "text/plain": [
       "' Marawi is the gateway to Lanao del Sur, a component province of the Autonomous Region in Muslim Mindanao. Philstar.com/John Unson, file \\n\\tLANAO DEL SUR, Philippines \\xa0— \\xa0Officials on Tuesday urged Marawi City residents to stay home as firefights continued on city streets between Maute terrorists and soldiers.\\n\\n\\t\\xa0\\n\\n\\tLanao del Sur Vice Gov. Mamintal Adiong, Jr., a senior member of the provincial peace and order council, also called on Marawi City residents to be extra vigilant and prevent strangers from intruding into their property.\\n\\n\\t\\xa0\\n\\n\\t“I’m appealing to residents of Marawi City to stay home, drop on the ground if they hear gunshots. They have to lock their doors and gates too,” Adiong told The STAR via mobile phone on Tuesday afternoon.\\n\\n\\t\\xa0\\n\\n\\tShooting between Islamic militants and personnel of the Army’s 103rd Infantry Brigade in Marawi City started at about 3:00 p.m. Tuesday, sending residents running for safety.\\n\\n\\t\\xa0\\n\\n\\tSenior officials of the Police Regional Office-Autonomous Region in Muslim Mindanao told The STAR the hostilities first erupted in Barangay Basak Malulut in Marawi City when Maute gunmen attacked soldiers dispatched to verify the reported presence there of men brandishing assault rifles.\\n\\n\\t\\xa0\\n\\n\\tA resident told Philstar.com by text message that sporadic gunfire could be heard in the city.\\xa0\\n\\n\\t\\xa0\\n\\n\\t\"There [were] no indications that an attack like this will happen. There are no checkpoints in the city,\" the resident said. \"Everything is in silence. No news about the city government. Everything is vague.\"\\xa0\\n\\nMilitants in areas of Marawi\\n\\n\\tOther groups of terrorists, many of them clad in attires identical with what members of the Islamic State of Iraq and Syria in the Middle East wear, immediately scattered in other spots in Marawi City as the encounter in Barangay Basak Malulut ensued.\\n\\n\\t\\xa0\\n\\n\\tPatients and personnel of the government-owned Amai Pakpak Hospital in Marawi City said a group also showed force in the gate of the facility.\\n\\n\\t\\xa0\\n\\n\\tAdiong said they have mobilized their emergency response teams to help civilians trapped in the crossfire.\\n\\n\\t\\xa0\\n\\n\\t“Our rescue and emergency teams will work round-the-clock to serve the affected communities,” he said.\\n\\n\\t\\xa0\\n\\n\\tARMM’s regional vice governor, Haroun Al-Rashid Lucman, said employees of the region‘s social welfare department in Lanao del Sur and in Marawi City have been directed to monitor the plight of residents affected by the fighting.\\n\\n\\t\\xa0\\n\\n\\tLucman, concurrent regional social welfare secretary of ARMM, said he is now coordinating with the police and military their plan to deploy social workers in areas affected by the hostilities.\\n\\n\\t\\xa0\\n\\n\\t“Meantime, my advice to Marawi City residents is to stay in their homes and be watchful of the goings-on in the surroundings,” said Lucman.\\n'"
      ]
     },
     "execution_count": 234,
     "metadata": {},
     "output_type": "execute_result"
    }
   ],
   "source": [
    "\" \".join([l.text for l in soup.find_all('div',class_='field-item even')])\n",
    "# soup.find_all('p', class_='outer-text')"
   ]
  },
  {
   "cell_type": "code",
   "execution_count": null,
   "metadata": {
    "ExecuteTime": {
     "end_time": "2017-07-15T10:26:57.140738",
     "start_time": "2017-07-15T10:26:57.127993Z"
    },
    "collapsed": true
   },
   "outputs": [],
   "source": [
    "mautesub[['sourceurl','dateadded','datezone']].drop_duplicates('sourceurl').sort_values('datezone',ascending=True).values"
   ]
  },
  {
   "cell_type": "code",
   "execution_count": 37,
   "metadata": {
    "ExecuteTime": {
     "end_time": "2017-07-16T13:52:51.606105",
     "start_time": "2017-07-16T13:52:51.563768Z"
    },
    "collapsed": true
   },
   "outputs": [],
   "source": [
    "# print(maute2.sort_values('datezone')[['datezone','sourceurl']].drop_duplicates('sourceurl').head().to_html())"
   ]
  },
  {
   "cell_type": "code",
   "execution_count": null,
   "metadata": {
    "ExecuteTime": {
     "end_time": "2017-07-14T04:28:37.779449",
     "start_time": "2017-07-14T04:28:35.764543Z"
    },
    "collapsed": true,
    "scrolled": true
   },
   "outputs": [],
   "source": [
    "holder = margkg['date'][margkg['date'].notnull()==True].index\n",
    "margkg=margkg.assign(datefix=margkg['date'])\n",
    "margkg['datefix'].loc[holder]=vect(margkg['date'].values[holder])\n",
    "print(margkg['datefix'][margkg['datefix'].notnull()==False])\n",
    "margkg['datefix']=margkg['datefix'].fillna(method='pad')"
   ]
  },
  {
   "cell_type": "code",
   "execution_count": null,
   "metadata": {
    "collapsed": true
   },
   "outputs": [],
   "source": [
    "samp = datframe.sample(samplenum)\n",
    "ax = gplt.polyplot(polyframe,projection=gcrs.PlateCarree(),figsize=(20,12))\n",
    "gplt.kdeplot(samp,ax=ax,shade=True,shade_lowest=False,projection=gcrs.TransverseMercator())"
   ]
  }
 ],
 "metadata": {
  "anaconda-cloud": {},
  "kernelspec": {
   "display_name": "Python [conda env:geo]",
   "language": "python",
   "name": "conda-env-geo-py"
  },
  "language_info": {
   "codemirror_mode": {
    "name": "ipython",
    "version": 3
   },
   "file_extension": ".py",
   "mimetype": "text/x-python",
   "name": "python",
   "nbconvert_exporter": "python",
   "pygments_lexer": "ipython3",
   "version": "3.5.3"
  }
 },
 "nbformat": 4,
 "nbformat_minor": 1
}
