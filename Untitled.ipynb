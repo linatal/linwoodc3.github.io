{
 "cells": [
  {
   "cell_type": "markdown",
   "metadata": {},
   "source": [
    "---\n",
    "title: \"GitHub Gists for GIS in Python: Loading a Zipped Local or Web-based Shapefile with One Function\" \n",
    "author:\n",
    "  twitter: linwoodc3\n",
    "summary: This post introduces a utility function that can automatically read web-based or local shapefiles in zip format into the Python ecosystem.  It takes one line of code!\n",
    "excerpt: \"In the world of data science, we embrace the concept of spatial awareness and knowing where the data are (or datum is). In the same way that geospatial grounding (i.e. georeferenced data) brings clarity to a lost traveler, spatial context can bring clarity to a data set.  Moreover, this “where” does not always have to apply to a location on the earth’s surface . Spatial context (i.e. analytic geometry), or understanding data in the context of geometric space, is just as enlightening.\"\n",
    "---\n",
    "\n",
    "## GitHub Gists for GIS in Python: Loading a Zipped Local or Web-based Shapefile with One Function \n",
    "**Date:** {{ page.date | date_to_rfc822 }}<br><br>\n",
    "\n",
    "There is nothing worse than not knowing where you are.\n",
    "\n",
    "We have all experienced it.  It’s the panic that overtakes you when you don’t recognize your surroundings.  The buildings and roads are unfamiliar.  You don’t know where you are.  Naturally, you focus on getting to a familiar landmark or location.  Reaching that landmark brings a sense of relief.   Comfort.  Peace.  Because you know where you are on a map, it’s easier to plot a course to your final destination.\n",
    "\n",
    "In the world of data science, we embrace the concept of spatial awareness and knowing where the data are (or datum is). In the same way that  familiar surroundings (i. e. [geo-referenced data](https://en.wikipedia.org/wiki/Georeferencing)) brings clarity to a lost traveler, spatial context can bring clarity to a data set.  This “where” does not always have to apply to a location on the earth’s surface. Spatial context (i.e. [analytic geometry](https://en.wikipedia.org/wiki/Analytic_geometry)), or understanding data in geometric space, is just as enlightening.\n",
    "\n",
    "[Ansecombe’s quartet](https://en.wikipedia.org/wiki/Anscombe%27s_quartet) is a great example. Despite having nearly same summary statistics, the plots are nowhere near same.  This is a reminder to plot your data before drawing a conclusion.  It can prevent costly errors. \n",
    "\n",
    "Python's `seaborn` library includes this data set, and we load it and compute the summary statistics.  Each row is a data set, and it's clear that the numbers are nearly identical."
   ]
  },
  {
   "cell_type": "code",
   "execution_count": 2,
   "metadata": {
    "ExecuteTime": {
     "end_time": "2017-04-30T20:53:51.220745",
     "start_time": "2017-04-30T20:53:32.296993"
    },
    "collapsed": false
   },
   "outputs": [
    {
     "name": "stderr",
     "output_type": "stream",
     "text": [
      "/Users/linwood/anaconda3/lib/python3.5/site-packages/matplotlib/font_manager.py:273: UserWarning: Matplotlib is building the font cache using fc-list. This may take a moment.\n",
      "  warnings.warn('Matplotlib is building the font cache using fc-list. This may take a moment.')\n",
      "/Users/linwood/anaconda3/lib/python3.5/site-packages/matplotlib/font_manager.py:273: UserWarning: Matplotlib is building the font cache using fc-list. This may take a moment.\n",
      "  warnings.warn('Matplotlib is building the font cache using fc-list. This may take a moment.')\n"
     ]
    }
   ],
   "source": [
    "import seaborn as sns\n",
    "import matplotlib.pyplot as plt\n",
    "\n",
    "%matplotlib inline\n",
    "\n",
    "df = sns.load_dataset('anscombe')\n",
    "\n",
    "ddf = df.groupby('dataset').describe().unstack()"
   ]
  },
  {
   "cell_type": "markdown",
   "metadata": {
    "ExecuteTime": {
     "end_time": "2017-04-30T03:33:37.121074",
     "start_time": "2017-04-30T03:33:36.333009Z"
    }
   },
   "source": [
    "Now here is a plot of the four data sets.\n",
    "\n",
    "<center><img src=\"{{ site.url }}/assets/img/anscombe.png\" alt=\"Anscombe's Quartet\" width=\"600\" height=\"450\"></center>\n"
   ]
  },
  {
   "cell_type": "code",
   "execution_count": 17,
   "metadata": {
    "ExecuteTime": {
     "end_time": "2017-04-30T23:41:51.811634",
     "start_time": "2017-04-30T23:41:51.787433Z"
    },
    "collapsed": false
   },
   "outputs": [
    {
     "data": {
      "text/markdown": [
       "x|x|x|x|x|x|x|x|y|y|y|y|y|y|y|y\n",
       "count|mean|std|min|25%|50%|75%|max|count|mean|std|min|25%|50%|75%|max\n",
       "---|---|---|---|---|---|---|---|---|---|---|---|---|---|---|---\n",
       "11.0|9.0|3.3166247903554|4.0|6.5|9.0|11.5|14.0|11.0|7.500909090909093|2.031568135925815|4.26|6.3149999999999995|7.58|8.57|10.84\n",
       "11.0|9.0|3.3166247903554|4.0|6.5|9.0|11.5|14.0|11.0|7.500909090909091|2.0316567355016177|3.1|6.695|8.14|8.95|9.26\n",
       "11.0|9.0|3.3166247903554|4.0|6.5|9.0|11.5|14.0|11.0|7.500000000000001|2.030423601123667|5.39|6.25|7.11|7.98|12.74\n",
       "11.0|9.0|3.3166247903554|8.0|8.0|8.0|8.0|19.0|11.0|7.50090909090909|2.0305785113876023|5.25|6.17|7.04|8.190000000000001|12.5\n"
      ],
      "text/plain": [
       "<IPython.core.display.Markdown object>"
      ]
     },
     "metadata": {},
     "output_type": "display_data"
    }
   ],
   "source": [
    "import pandas as pd\n",
    "def pandas_df_to_markdown_table(df):\n",
    "    from IPython.display import Markdown, display\n",
    "    fmt = ['---' for i in range(len(df.columns))]\n",
    "    df_fmt = pd.DataFrame([fmt], columns=df.columns)\n",
    "    df_formatted = pd.concat([df_fmt, df])\n",
    "    display(Markdown(df_formatted.to_csv(sep=\"|\", index=False)))\n",
    "\n",
    "pandas_df_to_markdown_table(ddf)"
   ]
  },
  {
   "cell_type": "code",
   "execution_count": 40,
   "metadata": {
    "ExecuteTime": {
     "end_time": "2017-04-30T23:49:50.292374",
     "start_time": "2017-04-30T23:49:16.403829Z"
    },
    "collapsed": false
   },
   "outputs": [
    {
     "name": "stdout",
     "output_type": "stream",
     "text": [
      "Collecting pytablewriter\n",
      "  Downloading pytablewriter-0.18.0-py2.py3-none-any.whl (40kB)\n",
      "\u001b[K    100% |████████████████████████████████| 40kB 722kB/s \n",
      "\u001b[?25hRequirement already satisfied: six in /Users/linwood/anaconda3/lib/python3.5/site-packages (from pytablewriter)\n",
      "Collecting DataProperty>=0.18.1 (from pytablewriter)\n",
      "  Downloading DataProperty-0.20.0-py2.py3-none-any.whl\n",
      "Collecting toml>=0.9.2 (from pytablewriter)\n",
      "  Downloading toml-0.9.2.tar.gz\n",
      "Collecting typepy>=0.0.6 (from pytablewriter)\n",
      "  Downloading typepy-0.0.8-py2.py3-none-any.whl\n",
      "Collecting pathvalidate>=0.15.0 (from pytablewriter)\n",
      "  Downloading pathvalidate-0.15.0-py2.py3-none-any.whl\n",
      "Collecting XlsxWriter>=0.9.6 (from pytablewriter)\n",
      "  Downloading XlsxWriter-0.9.6-py2.py3-none-any.whl (137kB)\n",
      "\u001b[K    100% |████████████████████████████████| 143kB 1.9MB/s \n",
      "\u001b[?25hCollecting dominate>=2.3.1 (from pytablewriter)\n",
      "  Downloading dominate-2.3.1.tar.gz\n",
      "Requirement already satisfied: xlwt in /Users/linwood/anaconda3/lib/python3.5/site-packages (from pytablewriter)\n",
      "Collecting logbook>=1.0.0 (from pytablewriter)\n",
      "  Downloading Logbook-1.0.0.tar.gz (178kB)\n",
      "\u001b[K    100% |████████████████████████████████| 184kB 1.9MB/s \n",
      "\u001b[?25hCollecting mbstrdecoder (from pytablewriter)\n",
      "  Downloading mbstrdecoder-0.2.2-py2.py3-none-any.whl\n",
      "Collecting pytablereader>=0.8.10 (from pytablewriter)\n",
      "  Downloading pytablereader-0.9.0-py2.py3-none-any.whl (44kB)\n",
      "\u001b[K    100% |████████████████████████████████| 51kB 4.2MB/s \n",
      "\u001b[?25hCollecting python-dateutil>=2.6.0 (from typepy>=0.0.6->pytablewriter)\n",
      "  Using cached python_dateutil-2.6.0-py2.py3-none-any.whl\n",
      "Collecting pytz>=2017.2 (from typepy>=0.0.6->pytablewriter)\n",
      "  Using cached pytz-2017.2-py2.py3-none-any.whl\n",
      "Collecting SimpleSQLite>=0.7.7 (from pytablereader>=0.8.10->pytablewriter)\n",
      "  Downloading SimpleSQLite-0.8.0-py2.py3-none-any.whl\n",
      "Requirement already satisfied: xlrd>=1.0.0 in /Users/linwood/anaconda3/lib/python3.5/site-packages (from pytablereader>=0.8.10->pytablewriter)\n",
      "Collecting markdown2>=2.3.4 (from pytablereader>=0.8.10->pytablewriter)\n",
      "  Downloading markdown2-2.3.4.zip (158kB)\n",
      "\u001b[K    100% |████████████████████████████████| 163kB 1.8MB/s \n",
      "\u001b[?25hRequirement already satisfied: pyparsing>=2.2.0 in /Users/linwood/anaconda3/lib/python3.5/site-packages (from pytablereader>=0.8.10->pytablewriter)\n",
      "Collecting beautifulsoup4>=4.5.3 (from pytablereader>=0.8.10->pytablewriter)\n",
      "  Downloading beautifulsoup4-4.5.3-py3-none-any.whl (85kB)\n",
      "\u001b[K    100% |████████████████████████████████| 92kB 2.4MB/s \n",
      "\u001b[?25hCollecting requests>=2.13.0 (from pytablereader>=0.8.10->pytablewriter)\n",
      "  Using cached requests-2.13.0-py2.py3-none-any.whl\n",
      "Collecting jsonschema>=2.6.0 (from pytablereader>=0.8.10->pytablewriter)\n",
      "  Downloading jsonschema-2.6.0-py2.py3-none-any.whl\n",
      "Collecting path.py>=10.3.1 (from pytablereader>=0.8.10->pytablewriter)\n",
      "  Downloading path.py-10.3.1-py2.py3-none-any.whl\n",
      "Building wheels for collected packages: toml, dominate, logbook, markdown2\n",
      "  Running setup.py bdist_wheel for toml ... \u001b[?25l-\b \b\\\b \bdone\n",
      "\u001b[?25h  Stored in directory: /Users/linwood/Library/Caches/pip/wheels/2b/32/95/56339d4a975dbdee360534aa860e3629cd3a39dcbd1b0c342a\n",
      "  Running setup.py bdist_wheel for dominate ... \u001b[?25l-\b \b\\\b \bdone\n",
      "\u001b[?25h  Stored in directory: /Users/linwood/Library/Caches/pip/wheels/cc/fa/98/d9406331e9f3128e30238191eb899169a69a5a24b43d4d08e3\n",
      "  Running setup.py bdist_wheel for logbook ... \u001b[?25l-\b \b\\\b \b|\b \b/\b \b-\b \bdone\n",
      "\u001b[?25h  Stored in directory: /Users/linwood/Library/Caches/pip/wheels/41/01/49/4bc578654cd8c26d1c1e3bab45b08eef367ce557cc4785beab\n",
      "  Running setup.py bdist_wheel for markdown2 ... \u001b[?25l-\b \b\\\b \bdone\n",
      "\u001b[?25h  Stored in directory: /Users/linwood/Library/Caches/pip/wheels/65/84/77/507a06e7a58f1289032d6d3e357818e981766b1dd828d33c7d\n",
      "Successfully built toml dominate logbook markdown2\n",
      "Installing collected packages: mbstrdecoder, python-dateutil, pytz, typepy, DataProperty, toml, pathvalidate, XlsxWriter, dominate, logbook, SimpleSQLite, markdown2, beautifulsoup4, requests, jsonschema, path.py, pytablereader, pytablewriter\n",
      "  Found existing installation: python-dateutil 2.5.3\n",
      "    Uninstalling python-dateutil-2.5.3:\n",
      "      Successfully uninstalled python-dateutil-2.5.3\n",
      "  Found existing installation: pytz 2016.6.1\n",
      "\u001b[31m    DEPRECATION: Uninstalling a distutils installed project (pytz) has been deprecated and will be removed in a future version. This is due to the fact that uninstalling a distutils project will only partially uninstall the project.\u001b[0m\n",
      "    Uninstalling pytz-2016.6.1:\n",
      "      Successfully uninstalled pytz-2016.6.1\n",
      "  Found existing installation: XlsxWriter 0.9.3\n",
      "\u001b[31m    DEPRECATION: Uninstalling a distutils installed project (XlsxWriter) has been deprecated and will be removed in a future version. This is due to the fact that uninstalling a distutils project will only partially uninstall the project.\u001b[0m\n",
      "    Uninstalling XlsxWriter-0.9.3:\n",
      "      Successfully uninstalled XlsxWriter-0.9.3\n",
      "  Found existing installation: beautifulsoup4 4.5.1\n",
      "    Uninstalling beautifulsoup4-4.5.1:\n",
      "      Successfully uninstalled beautifulsoup4-4.5.1\n",
      "  Found existing installation: requests 2.12.4\n",
      "    Uninstalling requests-2.12.4:\n",
      "      Successfully uninstalled requests-2.12.4\n",
      "  Found existing installation: jsonschema 2.5.1\n",
      "    Uninstalling jsonschema-2.5.1:\n",
      "      Successfully uninstalled jsonschema-2.5.1\n",
      "  Found existing installation: path.py 0.0.0\n",
      "    Uninstalling path.py-0.0.0:\n",
      "      Successfully uninstalled path.py-0.0.0\n",
      "Successfully installed DataProperty-0.20.0 SimpleSQLite-0.8.0 XlsxWriter-0.9.6 beautifulsoup4-4.5.3 dominate-2.3.1 jsonschema-2.6.0 logbook-1.0.0 markdown2-2.3.4 mbstrdecoder-0.2.2 path.py-10.3.1 pathvalidate-0.15.0 pytablereader-0.9.0 pytablewriter-0.18.0 python-dateutil-2.6.0 pytz-2017.2 requests-2.13.0 toml-0.9.2 typepy-0.0.8\n"
     ]
    }
   ],
   "source": [
    "!pip install pytablewriter"
   ]
  },
  {
   "cell_type": "code",
   "execution_count": 3,
   "metadata": {
    "ExecuteTime": {
     "end_time": "2017-04-30T20:53:51.226488",
     "start_time": "2017-04-30T20:53:51.222437"
    },
    "collapsed": false
   },
   "outputs": [],
   "source": [
    "import tabulate\n",
    "\n"
   ]
  },
  {
   "cell_type": "code",
   "execution_count": 4,
   "metadata": {
    "ExecuteTime": {
     "end_time": "2017-04-30T20:53:51.312795",
     "start_time": "2017-04-30T20:53:51.229401"
    },
    "collapsed": false
   },
   "outputs": [
    {
     "data": {
      "text/html": [
       "<div>\n",
       "<table border=\"1\" class=\"dataframe\">\n",
       "  <thead>\n",
       "    <tr style=\"text-align: right;\">\n",
       "      <th></th>\n",
       "      <th></th>\n",
       "      <th>x</th>\n",
       "      <th>y</th>\n",
       "    </tr>\n",
       "    <tr>\n",
       "      <th>dataset</th>\n",
       "      <th></th>\n",
       "      <th></th>\n",
       "      <th></th>\n",
       "    </tr>\n",
       "  </thead>\n",
       "  <tbody>\n",
       "    <tr>\n",
       "      <th rowspan=\"2\" valign=\"top\">I</th>\n",
       "      <th>x</th>\n",
       "      <td>11.000</td>\n",
       "      <td>5.501000</td>\n",
       "    </tr>\n",
       "    <tr>\n",
       "      <th>y</th>\n",
       "      <td>5.501</td>\n",
       "      <td>4.127269</td>\n",
       "    </tr>\n",
       "    <tr>\n",
       "      <th rowspan=\"2\" valign=\"top\">II</th>\n",
       "      <th>x</th>\n",
       "      <td>11.000</td>\n",
       "      <td>5.500000</td>\n",
       "    </tr>\n",
       "    <tr>\n",
       "      <th>y</th>\n",
       "      <td>5.500</td>\n",
       "      <td>4.127629</td>\n",
       "    </tr>\n",
       "    <tr>\n",
       "      <th rowspan=\"2\" valign=\"top\">III</th>\n",
       "      <th>x</th>\n",
       "      <td>11.000</td>\n",
       "      <td>5.497000</td>\n",
       "    </tr>\n",
       "    <tr>\n",
       "      <th>y</th>\n",
       "      <td>5.497</td>\n",
       "      <td>4.122620</td>\n",
       "    </tr>\n",
       "    <tr>\n",
       "      <th rowspan=\"2\" valign=\"top\">IV</th>\n",
       "      <th>x</th>\n",
       "      <td>11.000</td>\n",
       "      <td>5.499000</td>\n",
       "    </tr>\n",
       "    <tr>\n",
       "      <th>y</th>\n",
       "      <td>5.499</td>\n",
       "      <td>4.123249</td>\n",
       "    </tr>\n",
       "  </tbody>\n",
       "</table>\n",
       "</div>"
      ],
      "text/plain": [
       "                x         y\n",
       "dataset                    \n",
       "I       x  11.000  5.501000\n",
       "        y   5.501  4.127269\n",
       "II      x  11.000  5.500000\n",
       "        y   5.500  4.127629\n",
       "III     x  11.000  5.497000\n",
       "        y   5.497  4.122620\n",
       "IV      x  11.000  5.499000\n",
       "        y   5.499  4.123249"
      ]
     },
     "execution_count": 4,
     "metadata": {},
     "output_type": "execute_result"
    }
   ],
   "source": [
    "(df.groupby('dataset')).cov()"
   ]
  },
  {
   "cell_type": "code",
   "execution_count": 6,
   "metadata": {
    "ExecuteTime": {
     "end_time": "2017-04-30T20:54:22.856448",
     "start_time": "2017-04-30T20:54:22.848241"
    },
    "collapsed": false
   },
   "outputs": [
    {
     "data": {
      "text/plain": [
       "'---  --  -  -------  -  ---  -  ----  --  --  -------  -------  ----  -----  ----  ----  -----\\nI    11  9  3.31662  4  6.5  9  11.5  14  11  7.50091  2.03157  4.26  6.315  7.58  8.57  10.84\\nII   11  9  3.31662  4  6.5  9  11.5  14  11  7.50091  2.03166  3.1   6.695  8.14  8.95   9.26\\nIII  11  9  3.31662  4  6.5  9  11.5  14  11  7.5      2.03042  5.39  6.25   7.11  7.98  12.74\\nIV   11  9  3.31662  8  8    8   8    19  11  7.50091  2.03058  5.25  6.17   7.04  8.19  12.5\\n---  --  -  -------  -  ---  -  ----  --  --  -------  -------  ----  -----  ----  ----  -----'"
      ]
     },
     "execution_count": 6,
     "metadata": {},
     "output_type": "execute_result"
    }
   ],
   "source": [
    "tabulate.tabulate(ddf)"
   ]
  },
  {
   "cell_type": "code",
   "execution_count": null,
   "metadata": {
    "collapsed": true
   },
   "outputs": [],
   "source": []
  }
 ],
 "metadata": {
  "anaconda-cloud": {},
  "kernelspec": {
   "display_name": "Python [default]",
   "language": "python",
   "name": "python3"
  },
  "language_info": {
   "codemirror_mode": {
    "name": "ipython",
    "version": 3
   },
   "file_extension": ".py",
   "mimetype": "text/x-python",
   "name": "python",
   "nbconvert_exporter": "python",
   "pygments_lexer": "ipython3",
   "version": "3.5.2"
  }
 },
 "nbformat": 4,
 "nbformat_minor": 1
}
